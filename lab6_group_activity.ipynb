{
 "cells": [
  {
   "cell_type": "markdown",
   "id": "cf6ddf24-29c8-4fc2-8d3a-e6fbce597cc2",
   "metadata": {},
   "source": [
    "# LEGAL SECTOR"
   ]
  },
  {
   "cell_type": "code",
   "execution_count": 3,
   "id": "4bc7ed76-2484-4b1b-996b-64ff7bf8be28",
   "metadata": {},
   "outputs": [],
   "source": [
    "# 1. Create & Initialize Nested Dictionary with List Values\n",
    "\n",
    "lawyers = {\n",
    "    \"Lawyer 1\": {\n",
    "        \"Client 1\": [\"CaseID101\", \"2025-01-15\", \"Civil\", \"Open\"],\n",
    "        \"Client 2\": [\"CaseID102\", \"2025-02-10\", \"Criminal\", \"Closed\"]\n",
    "    },\n",
    "    \"Lawyer 2\": {\n",
    "        \"Client 1\": [\"CaseID103\", \"2025-03-05\", \"Corporate\", \"Open\"]\n",
    "    },\n",
    "    \"Lawyer 3\": {\n",
    "        \"Client 1\": [\"CaseID104\", \"2025-04-12\", \"Family\", \"Pending\"],\n",
    "        \"Client 2\": [\"CaseID105\", \"2025-05-18\", \"Civil\", \"Open\"]\n",
    "    },\n",
    "    \"Lawyer 4\": {\n",
    "        \"Client 1\": [\"CaseID106\", \"2025-06-22\", \"Criminal\", \"Closed\"]\n",
    "    },\n",
    "    \"Lawyer 5\": {\n",
    "        \"Client 1\": [\"CaseID107\", \"2025-07-29\", \"Corporate\", \"Open\"]\n",
    "    }\n",
    "}"
   ]
  },
  {
   "cell_type": "code",
   "execution_count": 7,
   "id": "5d08ae6c-f89c-44e5-ad73-ab728595f3ad",
   "metadata": {},
   "outputs": [
    {
     "name": "stdout",
     "output_type": "stream",
     "text": [
      "Specific Retrieval \n",
      "Lawyer 1 - Client 1: ['CaseID101', '2025-01-15', 'Civil', 'Open']\n"
     ]
    }
   ],
   "source": [
    "# 2. Retrieve Values (Specific Lawyer & Client)\n",
    "\n",
    "print(\"Specific Retrieval \")\n",
    "lawyer_name = \"Lawyer 1\"\n",
    "client_name = \"Client 1\"\n",
    "# Using .get() to avoid KeyError\n",
    "client_data = lawyers.get(lawyer_name, {}).get(client_name, \"Value not found\")\n",
    "print(f\"{lawyer_name} - {client_name}: {client_data}\")"
   ]
  },
  {
   "cell_type": "code",
   "execution_count": 29,
   "id": "cc9fea3a-77a3-445b-9c23-cdc7503aaefb",
   "metadata": {},
   "outputs": [
    {
     "name": "stdout",
     "output_type": "stream",
     "text": [
      "\n",
      "Looping Through Entire Dataset \n",
      "\n",
      "Lawyer 1:\n",
      "  Client 1: ['CaseID101', '2025-01-15', 'Civil', 'Open']\n",
      "  Client 2: ['CaseID102', '2025-02-10', 'Criminal', 'Closed']\n",
      "\n",
      "Lawyer 2:\n",
      "  Client 1: ['CaseID103', '2025-03-05', 'Corporate', 'Open']\n",
      "  Client 2: ['CaseID108', '2025-08-05', 'Family', 'Open']\n",
      "\n",
      "Lawyer 3:\n",
      "  Client 1: ['CaseID104', '2025-04-12', 'Family', 'Pending']\n",
      "  Client 2: ['CaseID105', '2025-05-18', 'Civil', 'Open']\n",
      "\n",
      "Lawyer 4:\n",
      "  Client 1: ['CaseID106', '2025-06-22', 'Criminal', 'Closed']\n",
      "\n",
      "Lawyer 5:\n",
      "  Client 1: ['CaseID107', '2025-07-29', 'Corporate', 'Open']\n",
      "\n",
      "Lawyer 6:\n",
      "  Client 1: ['CaseID109', '2025-08-10', 'Civil', 'Pending']\n"
     ]
    }
   ],
   "source": [
    "# 3. Loop Through Entire Dataset\n",
    "print(\"\\nLooping Through Entire Dataset \")\n",
    "for lawyer, clients in lawyers.items():\n",
    "    print(f\"\\n{lawyer}:\")\n",
    "    for client, details in clients.items():\n",
    "        print(f\"  {client}: {details}\")"
   ]
  },
  {
   "cell_type": "code",
   "execution_count": 13,
   "id": "d7003b2c-0478-48b5-9fe6-879ad3667c99",
   "metadata": {},
   "outputs": [
    {
     "name": "stdout",
     "output_type": "stream",
     "text": [
      "\n",
      "Safe Retrieval Example \n",
      "Lookup for Lawyer 10 - Client 3: Value not found\n"
     ]
    }
   ],
   "source": [
    "# 4. Safe Retrieval (Unknown Value Handling)\n",
    "print(\"\\nSafe Retrieval Example \")\n",
    "unknown_lawyer = \"Lawyer 10\"\n",
    "unknown_client = \"Client 3\"\n",
    "result = lawyers.get(unknown_lawyer, {}).get(unknown_client, \"Value not found\")\n",
    "print(f\"Lookup for {unknown_lawyer} - {unknown_client}: {result}\")"
   ]
  },
  {
   "cell_type": "code",
   "execution_count": 17,
   "id": "e6b6ed9f-bda5-4ed0-ae28-4a356e086364",
   "metadata": {},
   "outputs": [
    {
     "name": "stdout",
     "output_type": "stream",
     "text": [
      "\n",
      "Appending New Client \n",
      "Updated Lawyer 2: {'Client 1': ['CaseID103', '2025-03-05', 'Corporate', 'Open'], 'Client 2': ['CaseID108', '2025-08-05', 'Family', 'Open']}\n"
     ]
    }
   ],
   "source": [
    "# 5. Append to Dictionary (Add New Client to an Existing Lawyer)\n",
    "print(\"\\nAppending New Client \")\n",
    "lawyers[\"Lawyer 2\"][\"Client 2\"] = [\"CaseID108\", \"2025-08-05\", \"Family\", \"Open\"]\n",
    "print(f\"Updated Lawyer 2: {lawyers['Lawyer 2']}\")"
   ]
  },
  {
   "cell_type": "code",
   "execution_count": 21,
   "id": "809bbe56-13ac-4fc4-b719-fce1880e325e",
   "metadata": {},
   "outputs": [
    {
     "name": "stdout",
     "output_type": "stream",
     "text": [
      "\n",
      "Sequence Unpacking \n",
      "Lawyer 1 handles 2 clients.\n",
      "Lawyer 2 handles 2 clients.\n",
      "Lawyer 3 handles 2 clients.\n",
      "Lawyer 4 handles 1 clients.\n",
      "Lawyer 5 handles 1 clients.\n"
     ]
    }
   ],
   "source": [
    "# 6. Sequence Unpacking (Keys & Values)\n",
    "print(\"\\nSequence Unpacking \")\n",
    "for lawyer, clients in lawyers.items():\n",
    "    print(f\"{lawyer} handles {len(clients)} clients.\")"
   ]
  },
  {
   "cell_type": "code",
   "execution_count": 25,
   "id": "a74d9ce5-5108-4c8a-8a36-8ccb55a1e29d",
   "metadata": {},
   "outputs": [
    {
     "name": "stdout",
     "output_type": "stream",
     "text": [
      "\n",
      "Merging Dictionaries \n"
     ]
    }
   ],
   "source": [
    "# 7. Collection of Dictionaries as One Dictionary\n",
    "print(\"\\nMerging Dictionaries \")\n",
    "extra_cases = {\n",
    "    \"Lawyer 6\": {\n",
    "        \"Client 1\": [\"CaseID109\", \"2025-08-10\", \"Civil\", \"Pending\"]\n",
    "    }\n",
    "}"
   ]
  },
  {
   "cell_type": "code",
   "execution_count": 27,
   "id": "705bae70-5a2f-4724-8ebd-5a2b86c4f8d4",
   "metadata": {},
   "outputs": [
    {
     "name": "stdout",
     "output_type": "stream",
     "text": [
      "After merging extra cases:\n",
      "Lawyer 1\n",
      "Lawyer 2\n",
      "Lawyer 3\n",
      "Lawyer 4\n",
      "Lawyer 5\n",
      "Lawyer 6\n"
     ]
    }
   ],
   "source": [
    "# Merge into main dictionary\n",
    "lawyers.update(extra_cases)\n",
    "print(\"After merging extra cases:\")\n",
    "for lawyer in lawyers:\n",
    "    print(lawyer)\n"
   ]
  },
  {
   "cell_type": "code",
   "execution_count": null,
   "id": "3d47ea4e-6f73-499a-82bd-c488a340d4d5",
   "metadata": {},
   "outputs": [],
   "source": []
  }
 ],
 "metadata": {
  "kernelspec": {
   "display_name": "Python [conda env:base] *",
   "language": "python",
   "name": "conda-base-py"
  },
  "language_info": {
   "codemirror_mode": {
    "name": "ipython",
    "version": 3
   },
   "file_extension": ".py",
   "mimetype": "text/x-python",
   "name": "python",
   "nbconvert_exporter": "python",
   "pygments_lexer": "ipython3",
   "version": "3.12.7"
  }
 },
 "nbformat": 4,
 "nbformat_minor": 5
}
