{
 "cells": [
  {
   "cell_type": "code",
   "execution_count": 2,
   "id": "5bada503-c948-4571-ac65-c5033d02fcf9",
   "metadata": {},
   "outputs": [
    {
     "name": "stdout",
     "output_type": "stream",
     "text": [
      "[4, 5, 6, 7, 8, 9]\n",
      "4\n",
      "5\n",
      "6\n",
      "7\n",
      "8\n",
      "9\n"
     ]
    }
   ],
   "source": [
    "c=456789\n",
    "digits= [int(d) for d in str(c)]\n",
    "print(digits)\n",
    "for digit in digits:\n",
    "    print(digit)"
   ]
  },
  {
   "cell_type": "code",
   "execution_count": 3,
   "id": "f619f855-23a1-4e9d-82fe-f570317dd3e3",
   "metadata": {},
   "outputs": [
    {
     "name": "stdout",
     "output_type": "stream",
     "text": [
      "['__add__', '__class__', '__class_getitem__', '__contains__', '__delattr__', '__delitem__', '__dir__', '__doc__', '__eq__', '__format__', '__ge__', '__getattribute__', '__getitem__', '__getstate__', '__gt__', '__hash__', '__iadd__', '__imul__', '__init__', '__init_subclass__', '__iter__', '__le__', '__len__', '__lt__', '__mul__', '__ne__', '__new__', '__reduce__', '__reduce_ex__', '__repr__', '__reversed__', '__rmul__', '__setattr__', '__setitem__', '__sizeof__', '__str__', '__subclasshook__', 'append', 'clear', 'copy', 'count', 'extend', 'index', 'insert', 'pop', 'remove', 'reverse', 'sort']\n"
     ]
    }
   ],
   "source": [
    "new=['sam', 'ram' ,'tam','cam]\n",
    "print(dir(new))"
   ]
  },
  {
   "cell_type": "code",
   "execution_count": 9,
   "id": "9aa89908-51e6-44e8-a82e-207262526d54",
   "metadata": {},
   "outputs": [
    {
     "name": "stdout",
     "output_type": "stream",
     "text": [
      "<list_iterator object at 0x76a1f07c7400>\n",
      "<class 'list'>\n",
      "<class 'list_iterator'>\n",
      "<class 'list_iterator'>\n"
     ]
    }
   ],
   "source": [
    "new=['sam', 'ram' ,'tam','cam']\n",
    "l = new.__iter__()\n",
    "l1= iter(new)\n",
    "print(l)\n",
    "print(type(new))\n",
    "print(type(l))\n",
    "print(type(l1))"
   ]
  },
  {
   "cell_type": "code",
   "execution_count": 4,
   "id": "3f625776-3627-4493-ab47-43b5d1ce9dbe",
   "metadata": {},
   "outputs": [
    {
     "name": "stdout",
     "output_type": "stream",
     "text": [
      "['__add__', '__class__', '__class_getitem__', '__contains__', '__delattr__', '__delitem__', '__dir__', '__doc__', '__eq__', '__format__', '__ge__', '__getattribute__', '__getitem__', '__getstate__', '__gt__', '__hash__', '__iadd__', '__imul__', '__init__', '__init_subclass__', '__iter__', '__le__', '__len__', '__lt__', '__mul__', '__ne__', '__new__', '__reduce__', '__reduce_ex__', '__repr__', '__reversed__', '__rmul__', '__setattr__', '__setitem__', '__sizeof__', '__str__', '__subclasshook__', 'append', 'clear', 'copy', 'count', 'extend', 'index', 'insert', 'pop', 'remove', 'reverse', 'sort']\n"
     ]
    }
   ],
   "source": [
    "now=[2,5,7,8]\n",
    "print(dir(now))"
   ]
  },
  {
   "cell_type": "code",
   "execution_count": 12,
   "id": "c5178157-464b-412d-8180-97ba220ca4f9",
   "metadata": {},
   "outputs": [
    {
     "name": "stdout",
     "output_type": "stream",
     "text": [
      "cam\n"
     ]
    },
    {
     "ename": "StopIteration",
     "evalue": "",
     "output_type": "error",
     "traceback": [
      "\u001b[0;31m---------------------------------------------------------------------------\u001b[0m",
      "\u001b[0;31mStopIteration\u001b[0m                             Traceback (most recent call last)",
      "Cell \u001b[0;32mIn[12], line 2\u001b[0m\n\u001b[1;32m      1\u001b[0m \u001b[38;5;28mprint\u001b[39m(\u001b[38;5;28mnext\u001b[39m(l))\n\u001b[0;32m----> 2\u001b[0m \u001b[38;5;28mprint\u001b[39m(\u001b[38;5;28mnext\u001b[39m(l))\n\u001b[1;32m      3\u001b[0m \u001b[38;5;28mprint\u001b[39m(\u001b[38;5;28mnext\u001b[39m(l))\n\u001b[1;32m      4\u001b[0m \u001b[38;5;28mprint\u001b[39m(\u001b[38;5;28mnext\u001b[39m(l))\n",
      "\u001b[0;31mStopIteration\u001b[0m: "
     ]
    }
   ],
   "source": [
    "print(next(l))\n",
    "print(next(l))\n",
    "print(next(l))\n",
    "print(next(l))\n"
   ]
  },
  {
   "cell_type": "code",
   "execution_count": 19,
   "id": "7e02480b-70ed-4545-a857-970abb9568e6",
   "metadata": {},
   "outputs": [
    {
     "name": "stdout",
     "output_type": "stream",
     "text": [
      "sam\n",
      "ram\n",
      "tam\n",
      "cam\n"
     ]
    }
   ],
   "source": [
    "new=['sam', 'ram' ,'tam','cam']\n",
    "looper = iter(new)\n",
    "while True:\n",
    "    try:\n",
    "        new1=next(looper)\n",
    "        print(new1)\n",
    "    except StopIteration:\n",
    "        break"
   ]
  },
  {
   "cell_type": "code",
   "execution_count": 30,
   "id": "48fc1125-0b55-45a1-a62b-76e17d668784",
   "metadata": {},
   "outputs": [
    {
     "name": "stdout",
     "output_type": "stream",
     "text": [
      "[1, 4, 9, 16, 25]\n",
      "[1, 4, 9, 16, 25]\n",
      "[4, 5]\n"
     ]
    }
   ],
   "source": [
    "def square (x):\n",
    "        return x*x\n",
    "\n",
    "numbers = [1,2,3,4,5]\n",
    "print(list(map(square,numbers)))\n",
    "print(list(map(lambda x: x*x ,numbers)))\n",
    "print(list(filter(lambda x: x>3,numbers)))"
   ]
  },
  {
   "cell_type": "code",
   "execution_count": 38,
   "id": "4e8fe16a-1a14-4d8c-93a7-aef284d927ce",
   "metadata": {},
   "outputs": [
    {
     "name": "stdout",
     "output_type": "stream",
     "text": [
      "RAM\n",
      "ram\n",
      "Ram\n"
     ]
    }
   ],
   "source": [
    "def new_string(n):\n",
    "    print(n.upper())\n",
    "    print(n.lower())\n",
    "    print(n.title())\n",
    "\n",
    "new_string('ram')"
   ]
  },
  {
   "cell_type": "code",
   "execution_count": 40,
   "id": "30cd329a-779c-4338-b8ad-5f1e2de269d8",
   "metadata": {},
   "outputs": [
    {
     "name": "stdout",
     "output_type": "stream",
     "text": [
      "15\n"
     ]
    }
   ],
   "source": [
    "from functools import reduce\n",
    "print(reduce(lambda x,y:x+y,numbers))"
   ]
  },
  {
   "cell_type": "code",
   "execution_count": 43,
   "id": "08c6b932-c8cc-41ef-b19c-4424a91d3adb",
   "metadata": {},
   "outputs": [
    {
     "name": "stdout",
     "output_type": "stream",
     "text": [
      "money cannot buy everything\n"
     ]
    }
   ],
   "source": [
    "new=['money', 'cannot' ,'buy','everything']\n",
    "from functools import reduce\n",
    "print(reduce(lambda x,y:x+\" \"+y,new))"
   ]
  },
  {
   "cell_type": "code",
   "execution_count": null,
   "id": "86a276cb-6fbe-490e-8c48-abe01a5b1516",
   "metadata": {},
   "outputs": [],
   "source": []
  }
 ],
 "metadata": {
  "kernelspec": {
   "display_name": "Python [conda env:base] *",
   "language": "python",
   "name": "conda-base-py"
  },
  "language_info": {
   "codemirror_mode": {
    "name": "ipython",
    "version": 3
   },
   "file_extension": ".py",
   "mimetype": "text/x-python",
   "name": "python",
   "nbconvert_exporter": "python",
   "pygments_lexer": "ipython3",
   "version": "3.12.4"
  }
 },
 "nbformat": 4,
 "nbformat_minor": 5
}
