{
 "cells": [
  {
   "cell_type": "code",
   "execution_count": 11,
   "id": "79a84b1f-4419-43c0-8c35-f57beefd247c",
   "metadata": {},
   "outputs": [
    {
     "name": "stdout",
     "output_type": "stream",
     "text": [
      "['History', 'Art']\n"
     ]
    }
   ],
   "source": [
    "student_courses = {\n",
    "    \"harish\": [\"Math\", \"Science\", \"English\"],\n",
    "    \"sabari\": [\"History\", \"Art\"],\n",
    "    \"santhosh\": [\"Math\", \"Computer Science\"]\n",
    "}\n",
    "print(student_courses[\"sabari\"])\n"
   ]
  },
  {
   "cell_type": "code",
   "execution_count": 5,
   "id": "cdabc149-811c-4c4f-9af9-cafd733902be",
   "metadata": {},
   "outputs": [
    {
     "name": "stdout",
     "output_type": "stream",
     "text": [
      "60000\n"
     ]
    }
   ],
   "source": [
    "employee_info = {\n",
    "    \"E101\": {\n",
    "        \"name\": \"John Doe\",\n",
    "        \"department\": \"HR\",\n",
    "        \"salary\": 50000\n",
    "    },\n",
    "    \"E102\": {\n",
    "        \"name\": \"Jane Smith\",\n",
    "        \"department\": \"Finance\",\n",
    "        \"salary\": 60000\n",
    "    }\n",
    "}\n",
    "print(employee_info[\"E102\"][\"salary\"])\n"
   ]
  },
  {
   "cell_type": "code",
   "execution_count": 7,
   "id": "1952bb06-f398-4e52-bc40-a43176ce4d14",
   "metadata": {},
   "outputs": [
    {
     "name": "stdout",
     "output_type": "stream",
     "text": [
      "['Alice', 'Bob']\n"
     ]
    }
   ],
   "source": [
    "company_data = {\n",
    "    \"departments\": {\n",
    "        \"IT\": {\n",
    "            \"employees\": [\"Alice\", \"Bob\"],\n",
    "            \"budget\": 200000\n",
    "        },\n",
    "        \"HR\": {\n",
    "            \"employees\": [\"Carol\"],\n",
    "            \"budget\": 100000\n",
    "        }\n",
    "    },\n",
    "    \"location\": \"New York\",\n",
    "    \"founded\": 2010\n",
    "}\n",
    "print(company_data[\"departments\"][\"IT\"][\"employees\"])\n"
   ]
  },
  {
   "cell_type": "code",
   "execution_count": 9,
   "id": "fcb5d280-cfa8-45d8-8d35-9e07cecfb353",
   "metadata": {},
   "outputs": [
    {
     "name": "stdout",
     "output_type": "stream",
     "text": [
      "gokulesh.m2022@vitstudent.ac.in\n"
     ]
    }
   ],
   "source": [
    "student_details = {\n",
    "  '22mic0102': {\n",
    "    'reg no': '22mic0102',\n",
    "    'name': 'gokulesh',\n",
    "    'dept': 'int m.tech cse core',\n",
    "    'school': 'scope',\n",
    "    'contact no': '8124113811',\n",
    "    'cgpa': 9.2,\n",
    "    'credits completed': 151,\n",
    "    'backlog details': 'no',\n",
    "    'proctor details': 'dr. gorinthala mam',\n",
    "    'mail id': 'gokulesh.m2022@vitstudent.ac.in',\n",
    "    'parents contact no': '9876543210',\n",
    "    'guardian contact number': '8814310797',\n",
    "    'year of graduation': 2027,\n",
    "    'credits taken during current sem': 30,\n",
    "    'address': 'Thiruvannamalai'\n",
    "  }\n",
    "}\n",
    "print(student_details['22mic0102']['mail id'])\n"
   ]
  },
  {
   "cell_type": "code",
   "execution_count": null,
   "id": "45915aa3-45af-47c3-aa14-978abd460529",
   "metadata": {},
   "outputs": [],
   "source": []
  }
 ],
 "metadata": {
  "kernelspec": {
   "display_name": "Python [conda env:base] *",
   "language": "python",
   "name": "conda-base-py"
  },
  "language_info": {
   "codemirror_mode": {
    "name": "ipython",
    "version": 3
   },
   "file_extension": ".py",
   "mimetype": "text/x-python",
   "name": "python",
   "nbconvert_exporter": "python",
   "pygments_lexer": "ipython3",
   "version": "3.12.7"
  }
 },
 "nbformat": 4,
 "nbformat_minor": 5
}
