{
 "cells": [
  {
   "cell_type": "markdown",
   "id": "d870e997-5922-4637-8140-90a599d1af0c",
   "metadata": {},
   "source": [
    "# HANDLING CSV FILES."
   ]
  },
  {
   "cell_type": "code",
   "execution_count": 1,
   "id": "cfe91151-7b42-425d-bd6f-c5c8c1ffead5",
   "metadata": {},
   "outputs": [
    {
     "name": "stdout",
     "output_type": "stream",
     "text": [
      "  PatientID           Name  Age  Gender               Diagnosis BloodPressure  \\\n",
      "0      P001     John Smith   45    Male            Hypertension        140/90   \n",
      "1      P002    Emily Davis   38  Female                Diabetes        130/85   \n",
      "2      P003  Michael Brown   50    Male  Cardiovascular Disease        150/95   \n",
      "3      P004   Sarah Wilson   29  Female                  Asthma        120/80   \n",
      "4      P005      David Lee   60    Male               Arthritis        135/88   \n",
      "\n",
      "   HeartRate  \n",
      "0         80  \n",
      "1         76  \n",
      "2         85  \n",
      "3         72  \n",
      "4         78  \n"
     ]
    }
   ],
   "source": [
    "import pandas as pd\n",
    "import numpy as np\n",
    "import io\n",
    "\n",
    "# Create a CSV file with healthcare-related data\n",
    "csv_data = \"\"\"PatientID,Name,Age,Gender,Diagnosis,BloodPressure,HeartRate\n",
    "P001,John Smith,45,Male,Hypertension,140/90,80\n",
    "P002,Emily Davis,38,Female,Diabetes,130/85,76\n",
    "P003,Michael Brown,50,Male,Cardiovascular Disease,150/95,85\n",
    "P004,Sarah Wilson,29,Female,Asthma,120/80,72\n",
    "P005,David Lee,60,Male,Arthritis,135/88,78\n",
    "\"\"\"\n",
    "\n",
    "# Read the CSV data into a DataFrame\n",
    "data = pd.read_csv(io.StringIO(csv_data))\n",
    "print(data)\n"
   ]
  },
  {
   "cell_type": "code",
   "execution_count": 3,
   "id": "7ce35069-31c6-490b-b06d-a3fdaa90bd31",
   "metadata": {},
   "outputs": [],
   "source": [
    "# Convert the CSV-formatted string into a pandas DataFrame\n",
    "df = pd.read_csv(io.StringIO(csv_data))\n",
    "\n",
    "# Export the DataFrame content into a CSV file named 'patient_data.csv' without row indices\n",
    "df.to_csv(\"patient_data.csv\", index=False)"
   ]
  },
  {
   "cell_type": "code",
   "execution_count": 7,
   "id": "240a04a6-97fc-4419-9a8a-1885986fcbfd",
   "metadata": {},
   "outputs": [
    {
     "name": "stdout",
     "output_type": "stream",
     "text": [
      "  PatientID           Name  Age  Gender               Diagnosis BloodPressure  \\\n",
      "0      P001     John Smith   45    Male            Hypertension        140/90   \n",
      "1      P002    Emily Davis   38  Female                Diabetes        130/85   \n",
      "2      P003  Michael Brown   50    Male  Cardiovascular Disease        150/95   \n",
      "3      P004   Sarah Wilson   29  Female                  Asthma        120/80   \n",
      "4      P005      David Lee   60    Male               Arthritis        135/88   \n",
      "\n",
      "   HeartRate  \n",
      "0         80  \n",
      "1         76  \n",
      "2         85  \n",
      "3         72  \n",
      "4         78  \n"
     ]
    }
   ],
   "source": [
    "# Display the first few records to get a quick preview of the dataset\n",
    "print(data.head())"
   ]
  },
  {
   "cell_type": "markdown",
   "id": "33f69f34-e6b2-4ecb-bcc8-768b22eef7d8",
   "metadata": {},
   "source": [
    "# EXTRATING CSV INTO PANDAS DATAFRAME."
   ]
  },
  {
   "cell_type": "code",
   "execution_count": 9,
   "id": "ed31c3c1-b41e-446d-bce4-99c69df71156",
   "metadata": {},
   "outputs": [
    {
     "name": "stdout",
     "output_type": "stream",
     "text": [
      "<class 'pandas.core.frame.DataFrame'>\n",
      "RangeIndex: 5 entries, 0 to 4\n",
      "Data columns (total 7 columns):\n",
      " #   Column         Non-Null Count  Dtype \n",
      "---  ------         --------------  ----- \n",
      " 0   PatientID      5 non-null      object\n",
      " 1   Name           5 non-null      object\n",
      " 2   Age            5 non-null      int64 \n",
      " 3   Gender         5 non-null      object\n",
      " 4   Diagnosis      5 non-null      object\n",
      " 5   BloodPressure  5 non-null      object\n",
      " 6   HeartRate      5 non-null      int64 \n",
      "dtypes: int64(2), object(5)\n",
      "memory usage: 412.0+ bytes\n",
      "None\n"
     ]
    }
   ],
   "source": [
    "# Show a summary of the dataset: column types, non-null counts, memory usage, etc.\n",
    "print(data.info())"
   ]
  },
  {
   "cell_type": "code",
   "execution_count": 11,
   "id": "a25e1683-ddf4-4955-9544-1644fc38e651",
   "metadata": {},
   "outputs": [
    {
     "name": "stdout",
     "output_type": "stream",
     "text": [
      "(5, 7)\n"
     ]
    }
   ],
   "source": [
    "print(data.shape)"
   ]
  },
  {
   "cell_type": "code",
   "execution_count": 22,
   "id": "0bee28ed-9320-4df1-99db-72b989d68cdd",
   "metadata": {},
   "outputs": [
    {
     "name": "stdout",
     "output_type": "stream",
     "text": [
      "             Age  HeartRate\n",
      "count   5.000000   5.000000\n",
      "mean   44.400000  78.200000\n",
      "std    11.760102   4.816638\n",
      "min    29.000000  72.000000\n",
      "25%    38.000000  76.000000\n",
      "50%    45.000000  78.000000\n",
      "75%    50.000000  80.000000\n",
      "max    60.000000  85.000000\n"
     ]
    }
   ],
   "source": [
    "print(data.describe())"
   ]
  },
  {
   "cell_type": "code",
   "execution_count": 24,
   "id": "9921aec1-2b1f-45ac-8e63-aaad9682b03c",
   "metadata": {},
   "outputs": [
    {
     "name": "stdout",
     "output_type": "stream",
     "text": [
      "Index(['PatientID', 'Name', 'Age', 'Gender', 'Diagnosis', 'BloodPressure',\n",
      "       'HeartRate'],\n",
      "      dtype='object')\n"
     ]
    }
   ],
   "source": [
    "print(data.columns)"
   ]
  },
  {
   "cell_type": "code",
   "execution_count": 26,
   "id": "8d32880a-f65b-48e7-89af-f587dd412c93",
   "metadata": {},
   "outputs": [
    {
     "name": "stdout",
     "output_type": "stream",
     "text": [
      "[['P001' 'John Smith' 45 'Male' 'Hypertension' '140/90' 80]\n",
      " ['P002' 'Emily Davis' 38 'Female' 'Diabetes' '130/85' 76]\n",
      " ['P003' 'Michael Brown' 50 'Male' 'Cardiovascular Disease' '150/95' 85]\n",
      " ['P004' 'Sarah Wilson' 29 'Female' 'Asthma' '120/80' 72]\n",
      " ['P005' 'David Lee' 60 'Male' 'Arthritis' '135/88' 78]]\n"
     ]
    }
   ],
   "source": [
    "#printing values in a dataframe \n",
    "print(data.values)"
   ]
  },
  {
   "cell_type": "markdown",
   "id": "7d019e35-d563-46a2-a66d-188284a64a19",
   "metadata": {},
   "source": [
    "# EXCEPTION HANDLING WHILE EXTRACTING."
   ]
  },
  {
   "cell_type": "code",
   "execution_count": 31,
   "id": "b550fe56-282c-49e3-a309-bd3c229d451b",
   "metadata": {},
   "outputs": [
    {
     "name": "stdout",
     "output_type": "stream",
     "text": [
      "  PatientID           Name  Age  Gender               Diagnosis BloodPressure  \\\n",
      "0      P001     John Smith   45    Male            Hypertension        140/90   \n",
      "1      P002    Emily Davis   38  Female                Diabetes        130/85   \n",
      "2      P003  Michael Brown   50    Male  Cardiovascular Disease        150/95   \n",
      "3      P004   Sarah Wilson   29  Female                  Asthma        120/80   \n",
      "4      P005      David Lee   60    Male               Arthritis        135/88   \n",
      "\n",
      "   HeartRate  \n",
      "0         80  \n",
      "1         76  \n",
      "2         85  \n",
      "3         72  \n",
      "4         78  \n"
     ]
    }
   ],
   "source": [
    "#extracting the contents of csv into df using pandas and handling the exceptions\n",
    "import pandas as pd\n",
    "try:\n",
    "    df=pd.read_csv(\"patient_data.csv\") #reading csv file\n",
    "    print(df.head()) #displaying top 5 rows\n",
    "except FileNotFoundError:\n",
    "    print(\"File not found at the location\") # handling errors in a customised way\n",
    "except Excption as e:\n",
    "    print(f\"Error occured: {e}\") # displaying the error message"
   ]
  },
  {
   "cell_type": "markdown",
   "id": "4c3b727d-49bf-4496-a55a-6be6bca708c3",
   "metadata": {},
   "source": [
    "# 1.READ A CSV FILE"
   ]
  },
  {
   "cell_type": "code",
   "execution_count": 13,
   "id": "5f56c85a-1b92-4ae2-9d66-1a600b12815b",
   "metadata": {},
   "outputs": [
    {
     "name": "stdout",
     "output_type": "stream",
     "text": [
      "  PatientID           Name  Age  Gender               Diagnosis BloodPressure  \\\n",
      "0      P001     John Smith   45    Male            Hypertension        140/90   \n",
      "1      P002    Emily Davis   38  Female                Diabetes        130/85   \n",
      "2      P003  Michael Brown   50    Male  Cardiovascular Disease        150/95   \n",
      "3      P004   Sarah Wilson   29  Female                  Asthma        120/80   \n",
      "4      P005      David Lee   60    Male               Arthritis        135/88   \n",
      "\n",
      "   HeartRate  \n",
      "0         80  \n",
      "1         76  \n",
      "2         85  \n",
      "3         72  \n",
      "4         78  \n"
     ]
    }
   ],
   "source": [
    "import pandas as pd\n",
    "\n",
    "# Load the patient dataset from the CSV file into a DataFrame\n",
    "df = pd.read_csv(\"patient_data.csv\")\n",
    "\n",
    "# Display the full contents of the DataFrame\n",
    "print(df)\n"
   ]
  },
  {
   "cell_type": "markdown",
   "id": "a23b13ef-3955-4c80-b05e-98c8326bb3a1",
   "metadata": {},
   "source": [
    "# 2.READ A CSV FILE CHUNK BY CHUNK"
   ]
  },
  {
   "cell_type": "code",
   "execution_count": 15,
   "id": "86629794-b5a1-4dcc-8b69-8f8ae167ebd8",
   "metadata": {},
   "outputs": [
    {
     "name": "stdout",
     "output_type": "stream",
     "text": [
      "Patient Data Chunk 1:\n",
      "  PatientID         Name  Age  Gender     Diagnosis BloodPressure  HeartRate\n",
      "0      P001   John Smith   45    Male  Hypertension        140/90         80\n",
      "1      P002  Emily Davis   38  Female      Diabetes        130/85         76\n",
      "Patient Data Chunk 2:\n",
      "  PatientID           Name  Age  Gender               Diagnosis BloodPressure  \\\n",
      "2      P003  Michael Brown   50    Male  Cardiovascular Disease        150/95   \n",
      "3      P004   Sarah Wilson   29  Female                  Asthma        120/80   \n",
      "\n",
      "   HeartRate  \n",
      "2         85  \n",
      "3         72  \n",
      "Patient Data Chunk 3:\n",
      "  PatientID       Name  Age Gender  Diagnosis BloodPressure  HeartRate\n",
      "4      P005  David Lee   60   Male  Arthritis        135/88         78\n"
     ]
    }
   ],
   "source": [
    "chunk_size = 2   # Smaller size used here for demonstration since dataset is small\n",
    "count = 1\n",
    "\n",
    "# Process the patient data file in smaller segments instead of reading it all at once\n",
    "for chunk in pd.read_csv(\"patient_data.csv\", chunksize=chunk_size):  # Read 2 rows at a time\n",
    "    print(f\"Patient Data Chunk {count}:\")\n",
    "    print(chunk)\n",
    "    count += 1\n"
   ]
  },
  {
   "cell_type": "markdown",
   "id": "de8aeefc-c2e3-48a0-9ad3-b460415a82b9",
   "metadata": {},
   "source": [
    "# ALTERNATE METHOD"
   ]
  },
  {
   "cell_type": "code",
   "execution_count": 44,
   "id": "415d90bf-4664-442b-b932-0aff0430346c",
   "metadata": {},
   "outputs": [
    {
     "name": "stdout",
     "output_type": "stream",
     "text": [
      "<pandas.io.parsers.readers.TextFileReader object at 0x000001E8823D1E80>\n",
      "  PatientID         Name  Age  Gender     Diagnosis BloodPressure  HeartRate\n",
      "0      P001   John Smith   45    Male  Hypertension        140/90         80\n",
      "1      P002  Emily Davis   38  Female      Diabetes        130/85         76\n",
      "  PatientID           Name  Age  Gender               Diagnosis BloodPressure  \\\n",
      "2      P003  Michael Brown   50    Male  Cardiovascular Disease        150/95   \n",
      "3      P004   Sarah Wilson   29  Female                  Asthma        120/80   \n",
      "\n",
      "   HeartRate  \n",
      "2         85  \n",
      "3         72  \n",
      "  PatientID          Name  Age  Gender  Diagnosis BloodPressure  HeartRate\n",
      "4      P005     David Lee   60    Male  Arthritis        135/88         78\n",
      "5      P006  Laura Martin   55  Female   Diabetes        128/85         79\n",
      "  PatientID         Name  Age Gender     Diagnosis BloodPressure  HeartRate\n",
      "6      P007  James White   42   Male  Hypertension        145/92         82\n"
     ]
    }
   ],
   "source": [
    "import pandas as pd\n",
    "\n",
    "# Process the patient dataset file incrementally in chunks of 2 rows\n",
    "with pd.read_csv(\"patient_data.csv\", chunksize=2) as reader:\n",
    "    print(reader)  # Display the TextFileReader object reference\n",
    "    \n",
    "    # Iterate through each chunk and display the first 2 rows of the chunk\n",
    "    for chunk in reader:\n",
    "        print(chunk.head(2))\n"
   ]
  },
  {
   "cell_type": "markdown",
   "id": "ee9fb1a1-75f7-483f-ac08-c494b947dde0",
   "metadata": {},
   "source": [
    "# USAGE OF ENUMERATE METHOD FOR CHUNKING"
   ]
  },
  {
   "cell_type": "code",
   "execution_count": 48,
   "id": "0e15cc60-412d-40c0-bc6e-aa16998049b5",
   "metadata": {},
   "outputs": [
    {
     "name": "stdout",
     "output_type": "stream",
     "text": [
      "\n",
      "--- Patient Data Chunk 1 ---\n",
      "  PatientID         Name  Age  Gender     Diagnosis BloodPressure  HeartRate\n",
      "0      P001   John Smith   45    Male  Hypertension        140/90         80\n",
      "1      P002  Emily Davis   38  Female      Diabetes        130/85         76\n",
      "\n",
      "--- Patient Data Chunk 2 ---\n",
      "  PatientID           Name  Age  Gender               Diagnosis BloodPressure  \\\n",
      "2      P003  Michael Brown   50    Male  Cardiovascular Disease        150/95   \n",
      "3      P004   Sarah Wilson   29  Female                  Asthma        120/80   \n",
      "\n",
      "   HeartRate  \n",
      "2         85  \n",
      "3         72  \n",
      "\n",
      "--- Patient Data Chunk 3 ---\n",
      "  PatientID          Name  Age  Gender  Diagnosis BloodPressure  HeartRate\n",
      "4      P005     David Lee   60    Male  Arthritis        135/88         78\n",
      "5      P006  Laura Martin   55  Female   Diabetes        128/85         79\n",
      "\n",
      "--- Patient Data Chunk 4 ---\n",
      "  PatientID         Name  Age Gender     Diagnosis BloodPressure  HeartRate\n",
      "6      P007  James White   42   Male  Hypertension        145/92         82\n"
     ]
    }
   ],
   "source": [
    "import pandas as pd\n",
    "\n",
    "chunk_size = 2  # Small chunk size for demonstration purposes\n",
    "\n",
    "# Loop through the patient data file in small chunks with an index counter\n",
    "for i, chunk in enumerate(pd.read_csv(\"patient_data.csv\", chunksize=chunk_size)):\n",
    "    print(f\"\\n--- Patient Data Chunk {i + 1} ---\")\n",
    "    print(chunk.head(2))   # Display the first two records in the current chunk\n"
   ]
  },
  {
   "cell_type": "markdown",
   "id": "24f971a0-90df-4442-99dd-23f5116614c9",
   "metadata": {},
   "source": [
    "# 3. APPEND TO A CSV"
   ]
  },
  {
   "cell_type": "code",
   "execution_count": 34,
   "id": "8b3253ef-28a6-40a0-958f-2c4d857b660d",
   "metadata": {},
   "outputs": [],
   "source": [
    "import pandas as pd\n",
    "\n",
    "# Define new patient records to be added\n",
    "new_data = {\n",
    "    \"PatientID\": [\"P006\", \"P007\"],\n",
    "    \"Name\": [\"Laura Martin\", \"James White\"],\n",
    "    \"Age\": [55, 42],\n",
    "    \"Gender\": [\"Female\", \"Male\"],\n",
    "    \"Diagnosis\": [\"Diabetes\", \"Hypertension\"],\n",
    "    \"BloodPressure\": [\"128/85\", \"145/92\"],\n",
    "    \"HeartRate\": [79, 82]\n",
    "}\n",
    "\n",
    "new_df = pd.DataFrame(new_data)\n",
    "\n",
    "# Add the new patient records to the existing patient data file\n",
    "new_df.to_csv(\"patient_data.csv\", mode=\"a\", header=False, index=False)"
   ]
  },
  {
   "cell_type": "code",
   "execution_count": 36,
   "id": "38617047-de1b-4a30-9f66-a47cc08c4e80",
   "metadata": {},
   "outputs": [
    {
     "name": "stdout",
     "output_type": "stream",
     "text": [
      "Last 2 newly created patient records:\n",
      "  PatientID          Name  Age  Gender     Diagnosis BloodPressure  HeartRate\n",
      "0      P006  Laura Martin   55  Female      Diabetes        128/85         79\n",
      "1      P007   James White   42    Male  Hypertension        145/92         82\n"
     ]
    }
   ],
   "source": [
    "# Display the last two newly added records from the new DataFrame\n",
    "last_two_new = new_df.tail(2)\n",
    "print(\"Last 2 newly created patient records:\")\n",
    "print(last_two_new)"
   ]
  },
  {
   "cell_type": "code",
   "execution_count": 38,
   "id": "9130f3d8-2ea0-4980-8af9-71045956df51",
   "metadata": {},
   "outputs": [
    {
     "name": "stdout",
     "output_type": "stream",
     "text": [
      "\n",
      "Last 2 records accessed by index position:\n",
      "  PatientID          Name  Age  Gender     Diagnosis BloodPressure  HeartRate\n",
      "0      P006  Laura Martin   55  Female      Diabetes        128/85         79\n",
      "1      P007   James White   42    Male  Hypertension        145/92         82\n"
     ]
    }
   ],
   "source": [
    "# Retrieve the last two rows using index positions\n",
    "last_two_new_alt = new_df.iloc[-2:]\n",
    "print(\"\\nLast 2 records accessed by index position:\")\n",
    "print(last_two_new_alt)"
   ]
  },
  {
   "cell_type": "code",
   "execution_count": 40,
   "id": "93cce16b-f44f-4838-8151-4f047a81aed7",
   "metadata": {},
   "outputs": [],
   "source": [
    "# Simulate reading from the full dataset after appending new data\n",
    "full_data = pd.concat([df, new_df], ignore_index=True)"
   ]
  },
  {
   "cell_type": "code",
   "execution_count": 42,
   "id": "38b95119-64a1-471c-8509-a89d152b5533",
   "metadata": {},
   "outputs": [
    {
     "name": "stdout",
     "output_type": "stream",
     "text": [
      "\n",
      "Newly added patient records accessed by PatientID:\n",
      "  PatientID          Name  Age  Gender     Diagnosis BloodPressure  HeartRate\n",
      "5      P006  Laura Martin   55  Female      Diabetes        128/85         79\n",
      "6      P007   James White   42    Male  Hypertension        145/92         82\n"
     ]
    }
   ],
   "source": [
    "# Access the newly added rows by their PatientID values\n",
    "access_rows = full_data[full_data[\"PatientID\"].isin([\"P006\", \"P007\"])]\n",
    "print(\"\\nNewly added patient records accessed by PatientID:\")\n",
    "print(access_rows)"
   ]
  },
  {
   "cell_type": "markdown",
   "id": "e2fdc6da-722c-4747-998d-d2b4dc0dfc47",
   "metadata": {},
   "source": [
    "# 4.WRITE NUMERIC DATA INTO CSV FILE"
   ]
  },
  {
   "cell_type": "code",
   "execution_count": 51,
   "id": "2fc24176-d25c-4b26-8b58-ff5b0a811cef",
   "metadata": {},
   "outputs": [
    {
     "name": "stdout",
     "output_type": "stream",
     "text": [
      "Sensor data CSV file created successfully!\n",
      "   SensorID  Temperature_C  Humidity_%\n",
      "0       101             26       62.29\n",
      "1       102             31       89.92\n",
      "2       103             28       79.48\n",
      "3       104             30       36.37\n",
      "4       105             34       48.26\n",
      "5       106             31       60.92\n",
      "6       107             34       86.46\n",
      "7       108             24       31.72\n",
      "8       109             23       83.99\n",
      "9       110             33       75.86\n"
     ]
    }
   ],
   "source": [
    "import pandas as pd\n",
    "import numpy as np\n",
    "\n",
    "# Create a dataset simulating sensor measurements\n",
    "sensor_data = pd.DataFrame({\n",
    "    \"SensorID\": np.arange(101, 111),  # Sensor IDs from 101 to 110\n",
    "    \"Temperature_C\": np.random.randint(20, 35, size=10),    # Temperature values in Celsius\n",
    "    \"Humidity_%\": np.random.uniform(30.0, 90.0, size=10).round(2)  # Humidity in percentage\n",
    "})\n",
    "\n",
    "# Save the sensor data to a CSV file\n",
    "sensor_data.to_csv(\"sensor_data.csv\", index=False)\n",
    "\n",
    "print(\"Sensor data CSV file created successfully!\")\n",
    "print(sensor_data)"
   ]
  },
  {
   "cell_type": "markdown",
   "id": "7b2557e3-1aa2-48f1-8198-b2c7f39a1661",
   "metadata": {},
   "source": [
    "# 5.WRITE TEXT DATA INTO CSV FILE"
   ]
  },
  {
   "cell_type": "code",
   "execution_count": 53,
   "id": "f0827685-c3c6-4e49-9c6f-0964f9e44042",
   "metadata": {},
   "outputs": [
    {
     "name": "stdout",
     "output_type": "stream",
     "text": [
      "Book data CSV written successfully!\n",
      "                   Title               Author      Genre\n",
      "0          The Alchemist         Paulo Coelho    Fiction\n",
      "1                   1984        George Orwell  Dystopian\n",
      "2  To Kill a Mockingbird           Harper Lee    Classic\n",
      "3       The Great Gatsby  F. Scott Fitzgerald    Classic\n",
      "4              Moby Dick      Herman Melville  Adventure\n"
     ]
    }
   ],
   "source": [
    "import pandas as pd\n",
    "\n",
    "# Create a dataset with book details\n",
    "book_data = pd.DataFrame({\n",
    "    \"Title\": [\"The Alchemist\", \"1984\", \"To Kill a Mockingbird\", \"The Great Gatsby\", \"Moby Dick\"],\n",
    "    \"Author\": [\"Paulo Coelho\", \"George Orwell\", \"Harper Lee\", \"F. Scott Fitzgerald\", \"Herman Melville\"],\n",
    "    \"Genre\": [\"Fiction\", \"Dystopian\", \"Classic\", \"Classic\", \"Adventure\"]\n",
    "})\n",
    "\n",
    "# Save the book information into a CSV file\n",
    "book_data.to_csv(\"book_data.csv\", index=False)\n",
    "\n",
    "print(\"Book data CSV written successfully!\")\n",
    "print(book_data)"
   ]
  },
  {
   "cell_type": "code",
   "execution_count": null,
   "id": "5d8ca0fd-0b60-43be-acd1-39edcbfd8dcd",
   "metadata": {},
   "outputs": [],
   "source": []
  }
 ],
 "metadata": {
  "kernelspec": {
   "display_name": "Python [conda env:base] *",
   "language": "python",
   "name": "conda-base-py"
  },
  "language_info": {
   "codemirror_mode": {
    "name": "ipython",
    "version": 3
   },
   "file_extension": ".py",
   "mimetype": "text/x-python",
   "name": "python",
   "nbconvert_exporter": "python",
   "pygments_lexer": "ipython3",
   "version": "3.12.7"
  }
 },
 "nbformat": 4,
 "nbformat_minor": 5
}
