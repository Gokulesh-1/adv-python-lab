{
 "cells": [
  {
   "cell_type": "markdown",
   "id": "018eb548-74b5-4937-93ca-00264575ee6c",
   "metadata": {},
   "source": [
    "# WORKING ON NUMPY ARRAYS."
   ]
  },
  {
   "cell_type": "markdown",
   "id": "b271fa69-3c09-4142-9fa0-e0fa3b03b8b2",
   "metadata": {},
   "source": [
    "# ARRAY() METHOD"
   ]
  },
  {
   "cell_type": "code",
   "execution_count": 7,
   "id": "e9285f39-7138-4638-98dd-7341e77784f2",
   "metadata": {},
   "outputs": [
    {
     "name": "stdout",
     "output_type": "stream",
     "text": [
      "[[9 8 7]\n",
      " [6 5 4]]\n"
     ]
    }
   ],
   "source": [
    "import numpy as np\n",
    "arr = np.array([[9,8,7], [6,5,4]]) # Creat a 2-D Array\n",
    "print(arr) "
   ]
  },
  {
   "cell_type": "markdown",
   "id": "ef8a6c3f-5702-4974-846e-6de80fbf03f1",
   "metadata": {},
   "source": [
    "# ARRAY ATTRIBUTES"
   ]
  },
  {
   "cell_type": "code",
   "execution_count": 11,
   "id": "98b6eec6-7793-42e0-ae48-b04423fed421",
   "metadata": {},
   "outputs": [
    {
     "name": "stdout",
     "output_type": "stream",
     "text": [
      "6\n"
     ]
    }
   ],
   "source": [
    "print(arr.size) # Displays the number of elements in a array"
   ]
  },
  {
   "cell_type": "code",
   "execution_count": 13,
   "id": "26070438-4bdd-4cdf-973c-a591858f3835",
   "metadata": {},
   "outputs": [
    {
     "name": "stdout",
     "output_type": "stream",
     "text": [
      "(2, 3)\n"
     ]
    }
   ],
   "source": [
    "print(arr.shape) # Display the rows and columns"
   ]
  },
  {
   "cell_type": "code",
   "execution_count": 15,
   "id": "dd9fc1ee-da2f-423c-85f4-7ad360b4243a",
   "metadata": {},
   "outputs": [
    {
     "name": "stdout",
     "output_type": "stream",
     "text": [
      "2\n"
     ]
    }
   ],
   "source": [
    "print(arr.ndim) # Displays the dimension of array"
   ]
  },
  {
   "cell_type": "markdown",
   "id": "6d9afbe5-284c-4518-bf62-384e2c700b77",
   "metadata": {},
   "source": [
    "# RESHAPE METHOD"
   ]
  },
  {
   "cell_type": "code",
   "execution_count": 19,
   "id": "78d30dfd-712c-4f55-b4ce-164adc6d31fe",
   "metadata": {},
   "outputs": [
    {
     "name": "stdout",
     "output_type": "stream",
     "text": [
      "Original array: [9 8 7 6 5 4]\n",
      "Original shape: (6,)\n"
     ]
    }
   ],
   "source": [
    "arr = np.array([9,8,7,6,5,4])\n",
    "print(\"Original array:\", arr)\n",
    "print(\"Original shape:\", arr.shape)"
   ]
  },
  {
   "cell_type": "code",
   "execution_count": 21,
   "id": "dedbfcf6-18e4-42b5-b01c-4f93f26faeb1",
   "metadata": {},
   "outputs": [
    {
     "name": "stdout",
     "output_type": "stream",
     "text": [
      "[[9 8 7]\n",
      " [6 5 4]]\n",
      "New shape: (2, 3)\n"
     ]
    }
   ],
   "source": [
    "# Reshape to a 2D array (2 rows, 3 columns)\n",
    "reshaped_arr = arr.reshape(2, 3) # Reshape a 1-D array to 2-D array\n",
    "print(reshaped_arr)\n",
    "print(\"New shape:\", reshaped_arr.shape)"
   ]
  },
  {
   "cell_type": "markdown",
   "id": "86bbb3e9-74f7-422f-baa4-139ed0a459e0",
   "metadata": {},
   "source": [
    "# ARRANGE METHOD"
   ]
  },
  {
   "cell_type": "code",
   "execution_count": 25,
   "id": "b1da45d0-706f-430c-b488-c5ab8dcf2de1",
   "metadata": {},
   "outputs": [
    {
     "data": {
      "text/plain": [
       "array([  0,   2,  12,  36,  80, 150, 252, 392, 576, 810])"
      ]
     },
     "execution_count": 25,
     "metadata": {},
     "output_type": "execute_result"
    }
   ],
   "source": [
    "import numpy as np\n",
    "def numpysum(n):\n",
    "  a = np.arange(n) ** 2  # creates an array [0,1,..n-1] and element-wise sqauring\n",
    "  b = np.arange(n) ** 3\n",
    "  c = a + b              # element wise adding - NO LOOP Overhead, hence Memory Efficient\n",
    "  return c\n",
    "\n",
    "numpysum(10)"
   ]
  },
  {
   "cell_type": "markdown",
   "id": "d5647d61-b2ce-4dc5-9387-92220bcd90fd",
   "metadata": {},
   "source": [
    "# ARRAY CREATION FUNCTION"
   ]
  },
  {
   "cell_type": "code",
   "execution_count": 29,
   "id": "ee1d0962-cc83-4252-9b8d-a76a4767545a",
   "metadata": {},
   "outputs": [
    {
     "data": {
      "text/plain": [
       "array([0, 1, 2, 3, 4, 5, 6, 7])"
      ]
     },
     "execution_count": 29,
     "metadata": {},
     "output_type": "execute_result"
    }
   ],
   "source": [
    "import numpy as np\n",
    "np.arange(8)"
   ]
  },
  {
   "cell_type": "code",
   "execution_count": 31,
   "id": "003ef0cf-f9ea-4e74-9eed-d5f698af43cf",
   "metadata": {},
   "outputs": [
    {
     "data": {
      "text/plain": [
       "array([2., 3., 4., 5., 6., 7., 8., 9.])"
      ]
     },
     "execution_count": 31,
     "metadata": {},
     "output_type": "execute_result"
    }
   ],
   "source": [
    "np.arange(2, 10, dtype=float)"
   ]
  },
  {
   "cell_type": "code",
   "execution_count": 39,
   "id": "be49e715-97f3-4ab4-b4b4-6d1b7d43dfdf",
   "metadata": {},
   "outputs": [
    {
     "data": {
      "text/plain": [
       "array([2.  , 2.05, 2.1 , 2.15, 2.2 , 2.25, 2.3 , 2.35, 2.4 , 2.45, 2.5 ,\n",
       "       2.55, 2.6 , 2.65, 2.7 , 2.75, 2.8 , 2.85, 2.9 , 2.95])"
      ]
     },
     "execution_count": 39,
     "metadata": {},
     "output_type": "execute_result"
    }
   ],
   "source": [
    "np.arange(2, 3, 0.05)  # step value is 0.05"
   ]
  },
  {
   "cell_type": "markdown",
   "id": "52fbdd55-36e5-4d05-b1f5-8eb4c202fd63",
   "metadata": {},
   "source": [
    "# ARRAY METHOD"
   ]
  },
  {
   "cell_type": "code",
   "execution_count": 43,
   "id": "a8a8c467-6444-49c2-b37f-2ff1b79e3b88",
   "metadata": {},
   "outputs": [
    {
     "name": "stdout",
     "output_type": "stream",
     "text": [
      "[1 2 3 4 5 6]\n"
     ]
    }
   ],
   "source": [
    "a = np.array([1,2,3,4,5,6])\n",
    "print(a)"
   ]
  },
  {
   "cell_type": "code",
   "execution_count": 45,
   "id": "51c3c95f-ca0d-4ab9-9cf7-990962185e87",
   "metadata": {},
   "outputs": [
    {
     "name": "stdout",
     "output_type": "stream",
     "text": [
      "[[1 2]\n",
      " [3 4]]\n"
     ]
    }
   ],
   "source": [
    "B = np.array([[1, 2], [3, 4]])\n",
    "print(B)"
   ]
  },
  {
   "cell_type": "code",
   "execution_count": 47,
   "id": "17e205a5-4d41-42f2-b24e-9c98073851d0",
   "metadata": {},
   "outputs": [
    {
     "name": "stdout",
     "output_type": "stream",
     "text": [
      "[[[1 2]\n",
      "  [3 4]]\n",
      "\n",
      " [[5 6]\n",
      "  [7 8]]]\n"
     ]
    }
   ],
   "source": [
    "#In general, any array object is called an ndarray in NumPy.\n",
    "C = np.array([[[1, 2], [3, 4]], [[5, 6], [7, 8]]])\n",
    "print(C)"
   ]
  },
  {
   "cell_type": "markdown",
   "id": "5aff99d3-c0e5-4c26-8ad7-fa1aa1724700",
   "metadata": {},
   "source": [
    "# DTYPE ATTRIBUTE"
   ]
  },
  {
   "cell_type": "code",
   "execution_count": 51,
   "id": "26568291-62b9-41ff-aef5-154f0a0c192b",
   "metadata": {},
   "outputs": [
    {
     "data": {
      "text/plain": [
       "array([127, 128, 129])"
      ]
     },
     "execution_count": 51,
     "metadata": {},
     "output_type": "execute_result"
    }
   ],
   "source": [
    "import numpy as np\n",
    "np.array([127, 128, 129], dtype=np.int32)"
   ]
  },
  {
   "cell_type": "code",
   "execution_count": 53,
   "id": "a3a78b6a-94a3-460e-add1-d8be175612ca",
   "metadata": {},
   "outputs": [
    {
     "name": "stderr",
     "output_type": "stream",
     "text": [
      "C:\\Users\\gokul\\AppData\\Local\\Temp\\ipykernel_3568\\1903986189.py:2: DeprecationWarning: NumPy will stop allowing conversion of out-of-bound Python integers to integer arrays.  The conversion of 128 to int8 will fail in the future.\n",
      "For the old behavior, usually:\n",
      "    np.array(value).astype(dtype)\n",
      "will give the desired result (the cast overflows).\n",
      "  np.array([127, 128, 129], dtype=np.int8)\n",
      "C:\\Users\\gokul\\AppData\\Local\\Temp\\ipykernel_3568\\1903986189.py:2: DeprecationWarning: NumPy will stop allowing conversion of out-of-bound Python integers to integer arrays.  The conversion of 129 to int8 will fail in the future.\n",
      "For the old behavior, usually:\n",
      "    np.array(value).astype(dtype)\n",
      "will give the desired result (the cast overflows).\n",
      "  np.array([127, 128, 129], dtype=np.int8)\n"
     ]
    },
    {
     "data": {
      "text/plain": [
       "array([ 127, -128, -127], dtype=int8)"
      ]
     },
     "execution_count": 53,
     "metadata": {},
     "output_type": "execute_result"
    }
   ],
   "source": [
    "import numpy as np\n",
    "np.array([127, 128, 129], dtype=np.int8)"
   ]
  },
  {
   "cell_type": "markdown",
   "id": "e56efefa-2149-40fc-8fe8-f56b0742575a",
   "metadata": {},
   "source": [
    "# LINSPACE METHOD"
   ]
  },
  {
   "cell_type": "code",
   "execution_count": 57,
   "id": "ab991900-77ca-4d37-aea9-a80e4c752437",
   "metadata": {},
   "outputs": [
    {
     "data": {
      "text/plain": [
       "array([1. , 1.6, 2.2, 2.8, 3.4, 4. ])"
      ]
     },
     "execution_count": 57,
     "metadata": {},
     "output_type": "execute_result"
    }
   ],
   "source": [
    "# The interval is divided into 5 equal steps (because 6 points mean 5 intervals).\n",
    "np.linspace(1., 4., 6)"
   ]
  },
  {
   "cell_type": "markdown",
   "id": "a0a7bf2c-d9dd-47b1-a249-d76d4fc4ab42",
   "metadata": {},
   "source": [
    "# EYE METHOD IN NUMPY"
   ]
  },
  {
   "cell_type": "code",
   "execution_count": 61,
   "id": "805e9d34-b7aa-4189-8138-1c91361c1eaf",
   "metadata": {},
   "outputs": [
    {
     "data": {
      "text/plain": [
       "array([[1., 0., 0., 0.],\n",
       "       [0., 1., 0., 0.],\n",
       "       [0., 0., 1., 0.],\n",
       "       [0., 0., 0., 1.]])"
      ]
     },
     "execution_count": 61,
     "metadata": {},
     "output_type": "execute_result"
    }
   ],
   "source": [
    "#properties of special matrices represented as 2D arrays.\n",
    "np.eye(4) # Identity matrice of 3X3"
   ]
  },
  {
   "cell_type": "code",
   "execution_count": 63,
   "id": "55355083-c382-4bcb-a513-da779b38e1f4",
   "metadata": {},
   "outputs": [
    {
     "data": {
      "text/plain": [
       "array([[1., 0., 0., 0., 0., 0.],\n",
       "       [0., 1., 0., 0., 0., 0.],\n",
       "       [0., 0., 1., 0., 0., 0.],\n",
       "       [0., 0., 0., 1., 0., 0.]])"
      ]
     },
     "execution_count": 63,
     "metadata": {},
     "output_type": "execute_result"
    }
   ],
   "source": [
    "np.eye(4,6)   # Identity matrice of 4X6"
   ]
  },
  {
   "cell_type": "code",
   "execution_count": 65,
   "id": "c64b1575-c2eb-41c1-a767-ee87fca7c513",
   "metadata": {},
   "outputs": [
    {
     "data": {
      "text/plain": [
       "array([[0., 0., 0., 0., 0., 0.],\n",
       "       [0., 0., 0., 0., 0., 0.],\n",
       "       [0., 0., 0., 0., 0., 0.],\n",
       "       [0., 0., 0., 0., 0., 0.]])"
      ]
     },
     "execution_count": 65,
     "metadata": {},
     "output_type": "execute_result"
    }
   ],
   "source": [
    "\n",
    "np.eye(4,6, k=-4) #optional k argument\n",
    "# When k is negative (e.g., k=-4), the diagonal shifts below the main diagonal\n",
    "# when k is positive (e.g., k=1), the diagonal shifts above the main diagonal. "
   ]
  },
  {
   "cell_type": "code",
   "execution_count": 67,
   "id": "2964f78c-2261-46fe-9090-fdff95bc7c6e",
   "metadata": {},
   "outputs": [
    {
     "data": {
      "text/plain": [
       "array([[0., 0., 1., 0., 0.],\n",
       "       [0., 0., 0., 1., 0.],\n",
       "       [0., 0., 0., 0., 1.]])"
      ]
     },
     "execution_count": 67,
     "metadata": {},
     "output_type": "execute_result"
    }
   ],
   "source": [
    "np.eye(3, 5, k=2) # Positive k argument"
   ]
  },
  {
   "cell_type": "markdown",
   "id": "bc54ed12-094a-403a-9ce1-3be596a7d87e",
   "metadata": {},
   "source": [
    "# DIAG METHOD"
   ]
  },
  {
   "cell_type": "code",
   "execution_count": 71,
   "id": "f612896c-083a-4dc5-aae2-d2951025dae6",
   "metadata": {},
   "outputs": [
    {
     "data": {
      "text/plain": [
       "array([[1, 0, 0],\n",
       "       [0, 2, 0],\n",
       "       [0, 0, 3]])"
      ]
     },
     "execution_count": 71,
     "metadata": {},
     "output_type": "execute_result"
    }
   ],
   "source": [
    "# It returns an array containing the elements of the specified diagonal. \n",
    "np.diag([1, 2, 3])"
   ]
  },
  {
   "cell_type": "code",
   "execution_count": 73,
   "id": "60cd102a-9499-4c25-ad2c-e98415cca6b7",
   "metadata": {},
   "outputs": [
    {
     "data": {
      "text/plain": [
       "array([[0, 1, 0, 0],\n",
       "       [0, 0, 2, 0],\n",
       "       [0, 0, 0, 3],\n",
       "       [0, 0, 0, 0]])"
      ]
     },
     "execution_count": 73,
     "metadata": {},
     "output_type": "execute_result"
    }
   ],
   "source": [
    "# To hold this upper diagonal, NumPy creates a (n + k) × (n + k) square matrix, where n is the length of the input array.\n",
    "# So for [1, 2, 3]: Length = 3, k = 1, Matrix shape = 4 × 4\n",
    "# Diagonal values are placed at positions: (0,1), (1,2), (2,3)\n",
    "np.diag([1, 2, 3], 1)"
   ]
  },
  {
   "cell_type": "code",
   "execution_count": 75,
   "id": "384061e7-e9fb-490c-aede-def5f8a71bb1",
   "metadata": {},
   "outputs": [
    {
     "data": {
      "text/plain": [
       "array([1, 4])"
      ]
     },
     "execution_count": 75,
     "metadata": {},
     "output_type": "execute_result"
    }
   ],
   "source": [
    "a = np.array([[1, 2], [3, 4]])\n",
    "np.diag(a)"
   ]
  },
  {
   "cell_type": "markdown",
   "id": "beca53d0-6f69-48ea-8de2-16e4f3c39385",
   "metadata": {},
   "source": [
    "# VANDERMONDE MATRIX"
   ]
  },
  {
   "cell_type": "code",
   "execution_count": 79,
   "id": "7f122897-0dd8-4c09-8e54-699b01525c6b",
   "metadata": {},
   "outputs": [
    {
     "data": {
      "text/plain": [
       "array([[0. , 1. ],\n",
       "       [0.5, 1. ],\n",
       "       [1. , 1. ],\n",
       "       [1.5, 1. ],\n",
       "       [2. , 1. ]])"
      ]
     },
     "execution_count": 79,
     "metadata": {},
     "output_type": "execute_result"
    }
   ],
   "source": [
    "# N = 2 → two columns: x**1, x**0\n",
    "np.vander(np.linspace(0, 2, 5), 2)"
   ]
  },
  {
   "cell_type": "code",
   "execution_count": 84,
   "id": "c1db29cf-5a93-442a-8a5a-a99843723d59",
   "metadata": {},
   "outputs": [],
   "source": [
    "#np.vander(x, N) creates a Vandermonde matrix from a 1D input array x.\n",
    "\n",
    "# [[x₁**(N-1), x₁**(N-2), ..., x₁**0],\n",
    "#  [x₂**(N-1), x₂**(N-2), ..., x₂**0],\n",
    "#  ...\n",
    "#  [xₙ**(N-1), xₙ**(N-2), ..., xₙ**0]]\n",
    "\n",
    "# So each row is a decreasing power of an element from x."
   ]
  },
  {
   "cell_type": "code",
   "execution_count": 86,
   "id": "fbf40c91-0384-42a6-b5e5-faa19430dddc",
   "metadata": {},
   "outputs": [
    {
     "data": {
      "text/plain": [
       "array([[1, 1],\n",
       "       [2, 1],\n",
       "       [3, 1],\n",
       "       [4, 1]])"
      ]
     },
     "execution_count": 86,
     "metadata": {},
     "output_type": "execute_result"
    }
   ],
   "source": [
    "np.vander([1, 2, 3, 4], 2) # creates 4X2 matrix"
   ]
  },
  {
   "cell_type": "code",
   "execution_count": 88,
   "id": "cd5a7fcf-aedb-48be-95a9-bda790932666",
   "metadata": {},
   "outputs": [
    {
     "data": {
      "text/plain": [
       "array([[ 1,  1,  1,  1],\n",
       "       [ 8,  4,  2,  1],\n",
       "       [27,  9,  3,  1],\n",
       "       [64, 16,  4,  1]])"
      ]
     },
     "execution_count": 88,
     "metadata": {},
     "output_type": "execute_result"
    }
   ],
   "source": [
    "np.vander((1, 2, 3, 4), 4) # creates 4X4 matrix"
   ]
  },
  {
   "cell_type": "code",
   "execution_count": 90,
   "id": "0e5ef8f6-9567-431c-967d-65bd2a045791",
   "metadata": {},
   "outputs": [
    {
     "data": {
      "text/plain": [
       "array([[ 1,  1,  1],\n",
       "       [ 4,  2,  1],\n",
       "       [ 9,  3,  1],\n",
       "       [16,  4,  1]])"
      ]
     },
     "execution_count": 90,
     "metadata": {},
     "output_type": "execute_result"
    }
   ],
   "source": [
    "np.vander((1,2,3,4),3) # Each row is [x**2, x, 1] for each x in the input."
   ]
  },
  {
   "cell_type": "markdown",
   "id": "45d1c639-ae59-4507-b28a-b0bab29e834c",
   "metadata": {},
   "source": [
    "# ONES METHOD"
   ]
  },
  {
   "cell_type": "code",
   "execution_count": 94,
   "id": "877dc561-0fbb-43da-a768-01632873650d",
   "metadata": {},
   "outputs": [
    {
     "name": "stdout",
     "output_type": "stream",
     "text": [
      "1D Array of Ones: [1. 1. 1. 1. 1.]\n"
     ]
    }
   ],
   "source": [
    "arr1 = np.ones(5)  # shape=5 (1D), default dtype=float\n",
    "print(\"1D Array of Ones:\", arr1)"
   ]
  },
  {
   "cell_type": "code",
   "execution_count": 96,
   "id": "a816c33b-389d-49c6-b91f-941bec3cfa86",
   "metadata": {},
   "outputs": [
    {
     "name": "stdout",
     "output_type": "stream",
     "text": [
      "\n",
      "2D Array (3x4) of Ones:\n",
      " [[1. 1. 1. 1.]\n",
      " [1. 1. 1. 1.]\n",
      " [1. 1. 1. 1.]]\n"
     ]
    }
   ],
   "source": [
    "arr2 = np.ones((3, 4))  # shape=(3,4) means 3x4 matrix\n",
    "print(\"\\n2D Array (3x4) of Ones:\\n\", arr2)"
   ]
  },
  {
   "cell_type": "code",
   "execution_count": 98,
   "id": "db9b73b2-cec0-4ac9-9067-20ca6de973a8",
   "metadata": {},
   "outputs": [
    {
     "name": "stdout",
     "output_type": "stream",
     "text": [
      "\n",
      "2D Integer Array (2x3) of Ones:\n",
      " [[1 1 1]\n",
      " [1 1 1]]\n"
     ]
    }
   ],
   "source": [
    "arr3 = np.ones((2, 3), dtype=int)  # shape=(2,3), dtype=int\n",
    "print(\"\\n2D Integer Array (2x3) of Ones:\\n\", arr3)"
   ]
  },
  {
   "cell_type": "code",
   "execution_count": 100,
   "id": "dfbce05c-17c8-418e-94a5-615cfa09cd21",
   "metadata": {},
   "outputs": [
    {
     "name": "stdout",
     "output_type": "stream",
     "text": [
      "\n",
      "3D Array of Ones:\n",
      " [[[1. 1. 1.]\n",
      "  [1. 1. 1.]]\n",
      "\n",
      " [[1. 1. 1.]\n",
      "  [1. 1. 1.]]]\n"
     ]
    }
   ],
   "source": [
    "arr4 = np.ones((2, 2, 3))  # shape=(2,2,3) means 3D array (2 blocks, 2 rows, 3 columns)\n",
    "print(\"\\n3D Array of Ones:\\n\", arr4)"
   ]
  },
  {
   "cell_type": "code",
   "execution_count": 102,
   "id": "239b97ed-6278-4a28-a729-979f8c38c042",
   "metadata": {},
   "outputs": [
    {
     "name": "stdout",
     "output_type": "stream",
     "text": [
      "\n",
      "Boolean Array (3x3) of Ones (True values):\n",
      " [[ True  True  True]\n",
      " [ True  True  True]\n",
      " [ True  True  True]]\n"
     ]
    }
   ],
   "source": [
    "arr5 = np.ones((3, 3), dtype=bool)\n",
    "print(\"\\nBoolean Array (3x3) of Ones (True values):\\n\", arr5)"
   ]
  },
  {
   "cell_type": "markdown",
   "id": "8c8bd07f-5ecf-4f48-a2ae-d54215b1768b",
   "metadata": {},
   "source": [
    "# ZEROS METHOD"
   ]
  },
  {
   "cell_type": "code",
   "execution_count": 106,
   "id": "65dc84e8-e566-48dc-bf6a-1e56d5274520",
   "metadata": {},
   "outputs": [
    {
     "name": "stdout",
     "output_type": "stream",
     "text": [
      "1D Array of Zeros: [0. 0. 0. 0. 0.]\n"
     ]
    }
   ],
   "source": [
    "arr1 = np.zeros(5)  # shape=5 (1D), default dtype=float\n",
    "print(\"1D Array of Zeros:\", arr1)"
   ]
  },
  {
   "cell_type": "code",
   "execution_count": 108,
   "id": "5f51bdc6-84e1-4c3a-87b7-987d04b3bcd7",
   "metadata": {},
   "outputs": [
    {
     "name": "stdout",
     "output_type": "stream",
     "text": [
      "\n",
      "2D Array (3x4) of Zeros:\n",
      " [[0. 0. 0. 0.]\n",
      " [0. 0. 0. 0.]\n",
      " [0. 0. 0. 0.]]\n"
     ]
    }
   ],
   "source": [
    "arr2 = np.zeros((3, 4))  # shape=(3,4) means 3x4 matrix\n",
    "print(\"\\n2D Array (3x4) of Zeros:\\n\", arr2)"
   ]
  },
  {
   "cell_type": "code",
   "execution_count": 110,
   "id": "7bbc96bc-ed2d-4981-a09e-f9cb7668edae",
   "metadata": {},
   "outputs": [
    {
     "name": "stdout",
     "output_type": "stream",
     "text": [
      "\n",
      "2D Integer Array (2x3) of Zeros:\n",
      " [[0 0 0]\n",
      " [0 0 0]]\n"
     ]
    }
   ],
   "source": [
    "arr3 = np.zeros((2, 3), dtype=int)  # shape=(2,3), dtype=int\n",
    "print(\"\\n2D Integer Array (2x3) of Zeros:\\n\", arr3)"
   ]
  },
  {
   "cell_type": "code",
   "execution_count": 112,
   "id": "694aa3ee-1905-415e-83fc-d38442b96f09",
   "metadata": {},
   "outputs": [
    {
     "name": "stdout",
     "output_type": "stream",
     "text": [
      "\n",
      "3D Array of Zeros:\n",
      " [[[0. 0. 0.]\n",
      "  [0. 0. 0.]]\n",
      "\n",
      " [[0. 0. 0.]\n",
      "  [0. 0. 0.]]]\n"
     ]
    }
   ],
   "source": [
    "arr4 = np.zeros((2, 2, 3))  # shape=(2,2,3) means 3D array (2 blocks, 2 rows, 3 columns)\n",
    "print(\"\\n3D Array of Zeros:\\n\", arr4)"
   ]
  },
  {
   "cell_type": "markdown",
   "id": "948f17bf-1513-45ff-94e4-1aa010b027fc",
   "metadata": {},
   "source": [
    "# INDICES METHOD"
   ]
  },
  {
   "cell_type": "code",
   "execution_count": 116,
   "id": "a3592063-f76d-4135-8c4b-b92a39d7f83f",
   "metadata": {},
   "outputs": [
    {
     "name": "stdout",
     "output_type": "stream",
     "text": [
      "Indices for a 3x3 grid:\n",
      " [[[0 0 0]\n",
      "  [1 1 1]\n",
      "  [2 2 2]]\n",
      "\n",
      " [[0 1 2]\n",
      "  [0 1 2]\n",
      "  [0 1 2]]]\n"
     ]
    }
   ],
   "source": [
    "indices_2d = np.indices((3, 3))  # shape=(3,3) means 3 rows and 3 columns\n",
    "print(\"Indices for a 3x3 grid:\\n\", indices_2d)"
   ]
  },
  {
   "cell_type": "code",
   "execution_count": 118,
   "id": "e3116e4c-4a7e-49d5-a9f6-b4e816fc05e0",
   "metadata": {},
   "outputs": [
    {
     "name": "stdout",
     "output_type": "stream",
     "text": [
      "\n",
      "Row indices (first array):\n",
      " [[0 0 0]\n",
      " [1 1 1]\n",
      " [2 2 2]]\n"
     ]
    }
   ],
   "source": [
    "print(\"\\nRow indices (first array):\\n\", indices_2d[0])"
   ]
  },
  {
   "cell_type": "code",
   "execution_count": 120,
   "id": "c2e933e2-aab8-4a53-87da-50ba53677a6c",
   "metadata": {},
   "outputs": [
    {
     "name": "stdout",
     "output_type": "stream",
     "text": [
      "\n",
      "Column indices (second array):\n",
      " [[0 1 2]\n",
      " [0 1 2]\n",
      " [0 1 2]]\n"
     ]
    }
   ],
   "source": [
    "print(\"\\nColumn indices (second array):\\n\", indices_2d[1])"
   ]
  },
  {
   "cell_type": "code",
   "execution_count": 122,
   "id": "35a1f603-ef39-47bd-aeb5-f241c19d82b0",
   "metadata": {},
   "outputs": [
    {
     "name": "stdout",
     "output_type": "stream",
     "text": [
      "\n",
      "Indices for a 2x4 grid:\n",
      " [[[0 0 0 0]\n",
      "  [1 1 1 1]]\n",
      "\n",
      " [[0 1 2 3]\n",
      "  [0 1 2 3]]]\n"
     ]
    }
   ],
   "source": [
    "indices_2x4 = np.indices((2, 4))\n",
    "print(\"\\nIndices for a 2x4 grid:\\n\", indices_2x4)"
   ]
  },
  {
   "cell_type": "code",
   "execution_count": 124,
   "id": "83aa1c13-d5d5-4b5b-ae33-821ea33f800e",
   "metadata": {},
   "outputs": [
    {
     "name": "stdout",
     "output_type": "stream",
     "text": [
      "\n",
      "Row indices:\n",
      " [[0 0 0 0]\n",
      " [1 1 1 1]]\n"
     ]
    }
   ],
   "source": [
    "print(\"\\nRow indices:\\n\", indices_2x4[0])"
   ]
  },
  {
   "cell_type": "code",
   "execution_count": 126,
   "id": "02a70bc4-193f-4c97-b8ee-9e5dc32b686e",
   "metadata": {},
   "outputs": [
    {
     "name": "stdout",
     "output_type": "stream",
     "text": [
      "\n",
      "Column indices:\n",
      " [[0 1 2 3]\n",
      " [0 1 2 3]]\n"
     ]
    }
   ],
   "source": [
    "print(\"\\nColumn indices:\\n\", indices_2x4[1])"
   ]
  },
  {
   "cell_type": "markdown",
   "id": "521d3f80-e8a3-49f8-bc03-b965f2617ec6",
   "metadata": {},
   "source": [
    "# RANDOM METHOD"
   ]
  },
  {
   "cell_type": "code",
   "execution_count": 130,
   "id": "79e6641e-25e8-4903-b4f1-680b4cebd6b9",
   "metadata": {},
   "outputs": [
    {
     "name": "stdout",
     "output_type": "stream",
     "text": [
      "Random Float (0 to 1): 0.7763165821287219\n"
     ]
    }
   ],
   "source": [
    "random_float = np.random.random()\n",
    "print(\"Random Float (0 to 1):\", random_float)"
   ]
  },
  {
   "cell_type": "code",
   "execution_count": 132,
   "id": "998e2cd7-3b17-4cc3-a350-c6918c95ab8a",
   "metadata": {},
   "outputs": [
    {
     "name": "stdout",
     "output_type": "stream",
     "text": [
      "\n",
      "1D Array of Random Floats: [0.34503207 0.1488537  0.11296723 0.18727407 0.69255197]\n"
     ]
    }
   ],
   "source": [
    "random_array = np.random.random(5)\n",
    "print(\"\\n1D Array of Random Floats:\", random_array)"
   ]
  },
  {
   "cell_type": "code",
   "execution_count": 134,
   "id": "0b7038b2-c1e5-4d17-892c-5142af6017e7",
   "metadata": {},
   "outputs": [
    {
     "name": "stdout",
     "output_type": "stream",
     "text": [
      "\n",
      "2D Array (3x3) of Random Floats:\n",
      " [[0.49132102 0.18426833 0.75479059]\n",
      " [0.43977014 0.32961005 0.57570241]\n",
      " [0.68725006 0.93640377 0.67416482]]\n"
     ]
    }
   ],
   "source": [
    "random_matrix = np.random.random((3, 3))\n",
    "print(\"\\n2D Array (3x3) of Random Floats:\\n\", random_matrix)"
   ]
  },
  {
   "cell_type": "code",
   "execution_count": 136,
   "id": "f67fdff0-4779-4b29-876a-5203fac4594c",
   "metadata": {},
   "outputs": [
    {
     "name": "stdout",
     "output_type": "stream",
     "text": [
      "\n",
      "Random Integers between 10 and 50: [16 32 47 43 40]\n"
     ]
    }
   ],
   "source": [
    "random_integers = np.random.randint(10, 50, size=5)\n",
    "print(\"\\nRandom Integers between 10 and 50:\", random_integers)"
   ]
  },
  {
   "cell_type": "code",
   "execution_count": 138,
   "id": "82d78f97-1606-493f-9699-527a4b4a83a3",
   "metadata": {},
   "outputs": [
    {
     "name": "stdout",
     "output_type": "stream",
     "text": [
      "\n",
      "Random Numbers from Normal Distribution: [ 0.07756878 -0.19573156 -1.21399451  0.87726512]\n"
     ]
    }
   ],
   "source": [
    "random_normal = np.random.randn(4)\n",
    "print(\"\\nRandom Numbers from Normal Distribution:\", random_normal)"
   ]
  },
  {
   "cell_type": "markdown",
   "id": "4f7261c0-cc07-4380-8f1c-03886c3e07de",
   "metadata": {},
   "source": [
    "# SLICING AND INDEXING IN ARRAYS"
   ]
  },
  {
   "cell_type": "code",
   "execution_count": 146,
   "id": "ddacafb5-3478-4312-bb97-5eb0bd2df004",
   "metadata": {},
   "outputs": [
    {
     "name": "stdout",
     "output_type": "stream",
     "text": [
      "1D Array: [ 50  60  70  80  90 100]\n"
     ]
    }
   ],
   "source": [
    "arr1d = np.array([50,60,70,80,90,100])\n",
    "print(\"1D Array:\", arr1d)"
   ]
  },
  {
   "cell_type": "code",
   "execution_count": 148,
   "id": "74dc8088-f03d-4411-86e9-660424ec3771",
   "metadata": {},
   "outputs": [
    {
     "name": "stdout",
     "output_type": "stream",
     "text": [
      "\n",
      "Indexing on 1D Array:\n",
      "Element at index 0: 50\n",
      "Element at index -1: 100\n"
     ]
    }
   ],
   "source": [
    "print(\"\\nIndexing on 1D Array:\")\n",
    "print(\"Element at index 0:\", arr1d[0])   # First element\n",
    "print(\"Element at index -1:\", arr1d[-1]) # Last element"
   ]
  },
  {
   "cell_type": "code",
   "execution_count": 150,
   "id": "73b67c13-79ba-4427-b6ff-c3818c82686c",
   "metadata": {},
   "outputs": [
    {
     "name": "stdout",
     "output_type": "stream",
     "text": [
      "\n",
      "Slicing on 1D Array:\n",
      "Elements from index 1 to 4: [60 70 80 90]\n",
      "Every second element: [50 70 90]\n",
      "Reverse array: [100  90  80  70  60  50]\n"
     ]
    }
   ],
   "source": [
    "print(\"\\nSlicing on 1D Array:\")\n",
    "print(\"Elements from index 1 to 4:\", arr1d[1:5])  # From index 1 up to 4\n",
    "print(\"Every second element:\", arr1d[::2])        # Step of 2\n",
    "print(\"Reverse array:\", arr1d[::-1])"
   ]
  },
  {
   "cell_type": "code",
   "execution_count": 152,
   "id": "7e86144e-7ec6-4bab-aadc-a0ed7ade5bba",
   "metadata": {},
   "outputs": [
    {
     "name": "stdout",
     "output_type": "stream",
     "text": [
      "\n",
      "2D Array:\n",
      " [[ 1  2  3  4]\n",
      " [ 5  6  7  8]\n",
      " [ 9 10 11 12]]\n"
     ]
    }
   ],
   "source": [
    "#Create a 2D array (3x4 matrix)\n",
    "arr2d = np.array([[1, 2, 3, 4],\n",
    "                  [5, 6, 7, 8],\n",
    "                  [9, 10, 11, 12]])\n",
    "print(\"\\n2D Array:\\n\", arr2d)"
   ]
  },
  {
   "cell_type": "code",
   "execution_count": 154,
   "id": "1521aeb6-edee-46b8-826b-4db571b7b1d8",
   "metadata": {},
   "outputs": [
    {
     "name": "stdout",
     "output_type": "stream",
     "text": [
      "\n",
      "Indexing on 2D Array:\n",
      "Element at row 1, column 2: 7\n",
      "First row: [1 2 3 4]\n",
      "First column: [1 5 9]\n"
     ]
    }
   ],
   "source": [
    "print(\"\\nIndexing on 2D Array:\")\n",
    "print(\"Element at row 1, column 2:\", arr2d[1, 2])   # 7 (row=1, col=2)\n",
    "print(\"First row:\", arr2d[0])                      # Whole first row\n",
    "print(\"First column:\", arr2d[:, 0])"
   ]
  },
  {
   "cell_type": "code",
   "execution_count": null,
   "id": "a655d449-b0bf-4c4a-9e93-0962fc896d2a",
   "metadata": {},
   "outputs": [],
   "source": []
  }
 ],
 "metadata": {
  "kernelspec": {
   "display_name": "Python [conda env:base] *",
   "language": "python",
   "name": "conda-base-py"
  },
  "language_info": {
   "codemirror_mode": {
    "name": "ipython",
    "version": 3
   },
   "file_extension": ".py",
   "mimetype": "text/x-python",
   "name": "python",
   "nbconvert_exporter": "python",
   "pygments_lexer": "ipython3",
   "version": "3.12.7"
  }
 },
 "nbformat": 4,
 "nbformat_minor": 5
}
