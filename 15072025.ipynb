{
 "cells": [
  {
   "cell_type": "code",
   "execution_count": 3,
   "id": "1aaadd1a-43e1-4a93-ae9c-6ed84b2da369",
   "metadata": {},
   "outputs": [
    {
     "name": "stdout",
     "output_type": "stream",
     "text": [
      " gokulesh m \n",
      " GOKULESH M \n",
      " gokulesh m \n",
      "Gokulesh m\n",
      " Gokulesh M \n",
      "gokulesh m\n"
     ]
    }
   ],
   "source": [
    "name=\" gokulesh m \"\n",
    "print(name)\n",
    "print(name.upper())\n",
    "print(name.lower())\n",
    "print(name.strip().capitalize())\n",
    "print(name.title())\n",
    "print(name.strip())"
   ]
  },
  {
   "cell_type": "code",
   "execution_count": 5,
   "id": "9de343a3-6543-45da-bee0-d44db8679b4d",
   "metadata": {},
   "outputs": [
    {
     "name": "stdout",
     "output_type": "stream",
     "text": [
      " \"gokulesh\" \n",
      " 'gokulesh'\n"
     ]
    }
   ],
   "source": [
    "name=' \"gokulesh\" '\n",
    "new_name=\" 'gokulesh'\"\n",
    "print(name)\n",
    "print(new_name)"
   ]
  },
  {
   "cell_type": "code",
   "execution_count": 8,
   "id": "c99a5629-6dc5-4d48-a1cb-02d36c199c59",
   "metadata": {},
   "outputs": [
    {
     "name": "stdout",
     "output_type": "stream",
     "text": [
      "Requirement already satisfied: jieba in e:\\anaconda\\lib\\site-packages (0.42.1)\n",
      "Note: you may need to restart the kernel to use updated packages.\n"
     ]
    }
   ],
   "source": [
    "pip install jieba"
   ]
  },
  {
   "cell_type": "code",
   "execution_count": 10,
   "id": "2249a60f-72cf-4b5e-a23e-61f3afe64b50",
   "metadata": {},
   "outputs": [],
   "source": [
    "import jieba"
   ]
  },
  {
   "cell_type": "code",
   "execution_count": 26,
   "id": "e4a6c80d-e9a2-45b4-b535-7030370b535c",
   "metadata": {
    "scrolled": true
   },
   "outputs": [],
   "source": [
    "with open(r'C:\\Users\\gokul\\Downloads\\rrrr.txt', 'r', encoding='utf8') as text:\n",
    "    data = text.read()\n"
   ]
  },
  {
   "cell_type": "code",
   "execution_count": 28,
   "id": "05e7f41c-9380-400a-957f-6b404d750b2f",
   "metadata": {},
   "outputs": [
    {
     "data": {
      "text/plain": [
       "'你好，我叫小明。今天天气很好，适合去散步。我喜欢学习新的语言。她正在图书馆看书。我们明天一起去吃饭吧！'"
      ]
     },
     "execution_count": 28,
     "metadata": {},
     "output_type": "execute_result"
    }
   ],
   "source": [
    "data"
   ]
  },
  {
   "cell_type": "code",
   "execution_count": 30,
   "id": "0cb38a8b-a28c-467a-97b9-6752c8584084",
   "metadata": {},
   "outputs": [],
   "source": [
    "seg_list= jieba.cut(data, cut_all=True)"
   ]
  },
  {
   "cell_type": "code",
   "execution_count": 32,
   "id": "70269651-ae36-4c9d-9b1a-ff5e50efc8e9",
   "metadata": {},
   "outputs": [
    {
     "data": {
      "text/plain": [
       "<generator object Tokenizer.cut at 0x000001EB16918880>"
      ]
     },
     "execution_count": 32,
     "metadata": {},
     "output_type": "execute_result"
    }
   ],
   "source": [
    "seg_list"
   ]
  },
  {
   "cell_type": "code",
   "execution_count": 36,
   "id": "03bbfd7e-9cc0-4c2c-9389-44f29ab3c1a6",
   "metadata": {},
   "outputs": [
    {
     "name": "stderr",
     "output_type": "stream",
     "text": [
      "Building prefix dict from the default dictionary ...\n",
      "Dumping model to file cache C:\\Users\\gokul\\AppData\\Local\\Temp\\jieba.cache\n",
      "Loading model cost 2.738 seconds.\n",
      "Prefix dict has been built successfully.\n"
     ]
    }
   ],
   "source": [
    "new=(\" \".join(seg_list))"
   ]
  },
  {
   "cell_type": "code",
   "execution_count": 38,
   "id": "8f0929b0-9840-43be-aab0-38194daf3bde",
   "metadata": {},
   "outputs": [
    {
     "data": {
      "text/plain": [
       "'你好 ， 我 叫 小 明 。 今天 今天天气 天天 天气 很 好 ， 适合 去 散步 。 我 喜欢 学习 新 的 语言 。 她 正在 图书 图书馆 书馆 看书 。 我们 明天 天一 一起 去 吃饭 吧 ！'"
      ]
     },
     "execution_count": 38,
     "metadata": {},
     "output_type": "execute_result"
    }
   ],
   "source": [
    "new"
   ]
  },
  {
   "cell_type": "code",
   "execution_count": 40,
   "id": "61a4a203-56a6-43fb-b92e-2f6c0c270ed9",
   "metadata": {},
   "outputs": [],
   "source": [
    "f=open('rrrr.txt','wb')\n",
    "f.write(new.encode('utf8'))\n",
    "f.close()"
   ]
  },
  {
   "cell_type": "code",
   "execution_count": 42,
   "id": "d5cf47d3-4971-4847-83b2-189d566fa05d",
   "metadata": {},
   "outputs": [
    {
     "name": "stdout",
     "output_type": "stream",
     "text": [
      "Requirement already satisfied: nltk in e:\\anaconda\\lib\\site-packages (3.9.1)\n",
      "Requirement already satisfied: click in e:\\anaconda\\lib\\site-packages (from nltk) (8.1.7)\n",
      "Requirement already satisfied: joblib in e:\\anaconda\\lib\\site-packages (from nltk) (1.4.2)\n",
      "Requirement already satisfied: regex>=2021.8.3 in e:\\anaconda\\lib\\site-packages (from nltk) (2024.9.11)\n",
      "Requirement already satisfied: tqdm in e:\\anaconda\\lib\\site-packages (from nltk) (4.66.5)\n",
      "Requirement already satisfied: colorama in e:\\anaconda\\lib\\site-packages (from click->nltk) (0.4.6)\n",
      "Note: you may need to restart the kernel to use updated packages.\n"
     ]
    }
   ],
   "source": [
    "pip install nltk"
   ]
  },
  {
   "cell_type": "code",
   "execution_count": null,
   "id": "98208a0f-85c6-4726-b6e2-21ac02079078",
   "metadata": {},
   "outputs": [],
   "source": [
    "from urllib import request\n",
    "url = \"https://www.gutenberg.org/cache/epub/76508/pg76508.txt\"\n",
    "response = request.urlopen(url)\n",
    "raw  = response.read().decode('utf8')\n",
    "import nltk\n",
    "from nltk.tokenize import word_tokenize \n",
    "url = \"https://www.gutenberg.org/cache/epub/76508/pg76508.txt\"\n",
    "response = request.urlopen(url)\n",
    "tokens = word_tokenize(raw)\n",
    "print(tokens[:200])"
   ]
  },
  {
   "cell_type": "code",
   "execution_count": null,
   "id": "963bfdcf-c646-4a1b-8c75-874b7afee296",
   "metadata": {},
   "outputs": [],
   "source": []
  }
 ],
 "metadata": {
  "kernelspec": {
   "display_name": "Python [conda env:base] *",
   "language": "python",
   "name": "conda-base-py"
  },
  "language_info": {
   "codemirror_mode": {
    "name": "ipython",
    "version": 3
   },
   "file_extension": ".py",
   "mimetype": "text/x-python",
   "name": "python",
   "nbconvert_exporter": "python",
   "pygments_lexer": "ipython3",
   "version": "3.12.7"
  }
 },
 "nbformat": 4,
 "nbformat_minor": 5
}
