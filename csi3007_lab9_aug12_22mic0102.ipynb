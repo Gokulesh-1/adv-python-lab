{
 "cells": [
  {
   "cell_type": "markdown",
   "id": "477a7862-7432-4a46-b5b0-a814b237cb24",
   "metadata": {},
   "source": [
    "# CLASS VARIABLES"
   ]
  },
  {
   "cell_type": "code",
   "execution_count": 15,
   "id": "a8788bb5-772c-4de6-bc5f-d0d927acc42c",
   "metadata": {},
   "outputs": [],
   "source": [
    "class Emp1:\n",
    "    no_of_employees = 0\n",
    "    raise_amount = 1.04\n",
    "\n",
    "    def __init__(self, first, last, pay):\n",
    "        self.first = first\n",
    "        self.last = last\n",
    "        self.pay = pay\n",
    "        Emp1.no_of_employees += 1\n",
    "\n",
    "    def apply_raise(self):\n",
    "        self.pay = int(self.pay * Emp1.raise_amount)"
   ]
  },
  {
   "cell_type": "code",
   "execution_count": 17,
   "id": "acf6f108-60c8-49f5-9bae-e669af2e9685",
   "metadata": {},
   "outputs": [
    {
     "name": "stdout",
     "output_type": "stream",
     "text": [
      "0\n"
     ]
    }
   ],
   "source": [
    "print(Emp1.no_of_employees)      # before creating the instance"
   ]
  },
  {
   "cell_type": "code",
   "execution_count": 19,
   "id": "2e4a41b7-1097-40a5-9890-c8d071a9d288",
   "metadata": {},
   "outputs": [],
   "source": [
    "e1 = Emp1(\"sam\",\"curren\",\"40000\")   # instance is created\n",
    "e2 = Emp1(\"rajat\",\"patidhar\",\"33000\")"
   ]
  },
  {
   "cell_type": "code",
   "execution_count": 21,
   "id": "015100e3-3c36-4a72-a73e-9cd686f618c1",
   "metadata": {},
   "outputs": [
    {
     "name": "stdout",
     "output_type": "stream",
     "text": [
      "2\n"
     ]
    }
   ],
   "source": [
    "print(Emp1.no_of_employees)    # with instance"
   ]
  },
  {
   "cell_type": "code",
   "execution_count": 23,
   "id": "500cab96-f998-4d6a-b361-a0e78c8e033e",
   "metadata": {},
   "outputs": [
    {
     "name": "stdout",
     "output_type": "stream",
     "text": [
      "{'__module__': '__main__', 'no_of_employees': 2, 'raise_amount': 1.04, '__init__': <function Emp1.__init__ at 0x000001EDF2349B20>, 'apply_raise': <function Emp1.apply_raise at 0x000001EDF2349E40>, '__dict__': <attribute '__dict__' of 'Emp1' objects>, '__weakref__': <attribute '__weakref__' of 'Emp1' objects>, '__doc__': None}\n"
     ]
    }
   ],
   "source": [
    "print(Emp1.__dict__)    # namespace"
   ]
  },
  {
   "cell_type": "code",
   "execution_count": 25,
   "id": "bf06338d-0f28-4d94-ab43-ea3429313c95",
   "metadata": {},
   "outputs": [
    {
     "name": "stdout",
     "output_type": "stream",
     "text": [
      "{'first': 'sam', 'last': 'curren', 'pay': '40000'}\n"
     ]
    }
   ],
   "source": [
    "print(e1.__dict__)     # namespace before accesing the variable"
   ]
  },
  {
   "cell_type": "code",
   "execution_count": 27,
   "id": "fac5f6a1-b365-4333-af12-0b9824b64433",
   "metadata": {},
   "outputs": [],
   "source": [
    "e1.raise_amount = 1.05"
   ]
  },
  {
   "cell_type": "code",
   "execution_count": 29,
   "id": "1c8e06a4-5351-422d-a470-96f32cef9ad8",
   "metadata": {},
   "outputs": [
    {
     "name": "stdout",
     "output_type": "stream",
     "text": [
      "{'first': 'sam', 'last': 'curren', 'pay': '40000', 'raise_amount': 1.05}\n"
     ]
    }
   ],
   "source": [
    "print(e1.__dict__)     # namespace after accesing the class variable"
   ]
  },
  {
   "cell_type": "code",
   "execution_count": 31,
   "id": "b2432732-8b15-4f5f-9d2d-38cb04d09e5e",
   "metadata": {},
   "outputs": [
    {
     "name": "stdout",
     "output_type": "stream",
     "text": [
      "1.04\n"
     ]
    }
   ],
   "source": [
    "print(Emp1.raise_amount)   # class variable after the first instance change"
   ]
  },
  {
   "cell_type": "code",
   "execution_count": 33,
   "id": "d057473a-df2e-4e54-95a1-67bf36bc922a",
   "metadata": {},
   "outputs": [
    {
     "name": "stdout",
     "output_type": "stream",
     "text": [
      "1.05\n"
     ]
    }
   ],
   "source": [
    "print(e1.raise_amount)   # print class varible using the first instance"
   ]
  },
  {
   "cell_type": "code",
   "execution_count": 35,
   "id": "01aaca3a-06d6-4655-9ee3-46b53e45c60e",
   "metadata": {},
   "outputs": [
    {
     "name": "stdout",
     "output_type": "stream",
     "text": [
      "1.04\n"
     ]
    }
   ],
   "source": [
    "print(e2.raise_amount)   # second instance"
   ]
  },
  {
   "cell_type": "code",
   "execution_count": 37,
   "id": "2ebbdf8e-8810-4197-80ec-ba4884bed4a2",
   "metadata": {},
   "outputs": [
    {
     "name": "stdout",
     "output_type": "stream",
     "text": [
      "{'first': 'rajat', 'last': 'patidhar', 'pay': '33000'}\n"
     ]
    }
   ],
   "source": [
    "print(e2.__dict__)     # namespace for second instance"
   ]
  },
  {
   "cell_type": "markdown",
   "id": "bfc1162c-0949-4809-8fc2-65ad11628369",
   "metadata": {},
   "source": [
    "# COUNTING THE NUMBER OF INSTANCES USING CLASS"
   ]
  },
  {
   "cell_type": "code",
   "execution_count": 41,
   "id": "79c74a5c-2feb-4cf6-bd1d-78e1227b62f2",
   "metadata": {},
   "outputs": [],
   "source": [
    "class Employee:            # Class variable to track the total number of employees\n",
    "    num_of_employees = 0\n",
    "\n",
    "    def __init__(self, first_name, last_name, pay):\n",
    "        self.first_name = first_name\n",
    "        self.last_name = last_name\n",
    "        self.pay = pay\n",
    "        self.email = f\"{first_name}.{last_name}@company.com\"\n",
    "        \n",
    "        Employee.num_of_employees += 1  # Increment the employee count every time a new employee is created\n",
    "\n",
    "    def fullname(self):\n",
    "        return f\"{self.first_name} {self.last_name}\""
   ]
  },
  {
   "cell_type": "code",
   "execution_count": 43,
   "id": "bb014c09-1a08-4c7c-8ae2-a978e1d3d737",
   "metadata": {},
   "outputs": [
    {
     "name": "stdout",
     "output_type": "stream",
     "text": [
      "Initial employee count: 0\n"
     ]
    }
   ],
   "source": [
    "print(f\"Initial employee count: {Employee.num_of_employees}\") "
   ]
  },
  {
   "cell_type": "code",
   "execution_count": 45,
   "id": "2d71c23a-d5a6-4b99-84b8-4cbd72906666",
   "metadata": {},
   "outputs": [],
   "source": [
    "emp_1 = Employee('Elon', 'Musk', 50000)    # object creation\n",
    "emp_2 = Employee('Donald', 'Trump', 60000)"
   ]
  },
  {
   "cell_type": "code",
   "execution_count": 47,
   "id": "e4d8a1f6-27b4-4ad6-9c9c-f5fc9e9d7b7b",
   "metadata": {},
   "outputs": [
    {
     "name": "stdout",
     "output_type": "stream",
     "text": [
      "Current employee count: 2\n"
     ]
    }
   ],
   "source": [
    "print(f\"Current employee count: {Employee.num_of_employees}\")  # access after object creation"
   ]
  },
  {
   "cell_type": "markdown",
   "id": "98a46def-011b-4798-8297-78ad90e0478f",
   "metadata": {},
   "source": [
    "# INHERITANCE CONCEPT"
   ]
  },
  {
   "cell_type": "code",
   "execution_count": 51,
   "id": "6fa99572-2db2-4e76-a530-3e1e92d267bf",
   "metadata": {},
   "outputs": [],
   "source": [
    "class Parent:      # parent class\n",
    "    def greet(self):\n",
    "        print(\"hello from parent class\")\n",
    "\n",
    "class child(Parent):    # child class\n",
    "    pass"
   ]
  },
  {
   "cell_type": "code",
   "execution_count": 55,
   "id": "1395af4a-c8c3-4e46-a5f4-01035ce24274",
   "metadata": {},
   "outputs": [
    {
     "name": "stdout",
     "output_type": "stream",
     "text": [
      "hello from parent class\n"
     ]
    }
   ],
   "source": [
    "obj = child()     # object creation using child class\n",
    "obj.greet()    # child accessing the parent"
   ]
  },
  {
   "cell_type": "markdown",
   "id": "ef5273ec-5bc9-4e16-bfdd-4b32f96038b7",
   "metadata": {},
   "source": [
    "# USAGE OF SUPER TO CALL METHOD IN PARENT CLASS"
   ]
  },
  {
   "cell_type": "code",
   "execution_count": 59,
   "id": "ba0a9756-fc48-4b6e-a1a6-a88b3fb22b07",
   "metadata": {},
   "outputs": [],
   "source": [
    "class Parent:  # parent class\n",
    "    def greet(self):\n",
    "        print(\"Hello from parent\")\n",
    "\n",
    "\n",
    "class Child(Parent):    # child class inheriting from the parent\n",
    "    def greet(self):\n",
    "        super().greet()  # calls Parents greet\n",
    "        print(\"Hello from Child\")"
   ]
  },
  {
   "cell_type": "code",
   "execution_count": 63,
   "id": "b9d6bb79-33a7-416a-a63f-d25757f19509",
   "metadata": {},
   "outputs": [
    {
     "name": "stdout",
     "output_type": "stream",
     "text": [
      "Hello from parent\n",
      "Hello from Child\n"
     ]
    }
   ],
   "source": [
    "obj = Child()\n",
    "obj.greet()   # child class accessing method"
   ]
  },
  {
   "cell_type": "markdown",
   "id": "e9a78676-3144-4ea6-904d-732ec0527cf1",
   "metadata": {},
   "source": [
    "# MULTIPLE INHERITANCE"
   ]
  },
  {
   "cell_type": "code",
   "execution_count": 67,
   "id": "e8248cec-d296-40a0-a2c4-a6b7bd72f5fc",
   "metadata": {},
   "outputs": [],
   "source": [
    "class Countable:\n",
    "    object_count = 0         # Class variable to store the count\n",
    "\n",
    "    def __init__(self, *args, **kwargs):\n",
    "        Countable.object_count += 1   # Increment the count when a new object is created\n",
    "        super().__init__(*args, **kwargs)"
   ]
  },
  {
   "cell_type": "code",
   "execution_count": 69,
   "id": "9b2f9955-d0f6-45b0-a4d4-e70e92734161",
   "metadata": {},
   "outputs": [],
   "source": [
    "class Person:\n",
    "    def __init__(self, name):\n",
    "         self.name = name"
   ]
  },
  {
   "cell_type": "code",
   "execution_count": 71,
   "id": "b510ee35-755a-4b9c-8182-28bf790ee1f4",
   "metadata": {},
   "outputs": [],
   "source": [
    "class Employee(Countable, Person):        # Multiple inheritance\n",
    "    def __init__(self, name, employee_id):\n",
    "         super().__init__(name=name)     # Call parent constructors using super()\n",
    "         self.employee_id = employee_id"
   ]
  },
  {
   "cell_type": "code",
   "execution_count": 73,
   "id": "d3d103ef-a6e0-4d4c-b9ea-c9f4f654085b",
   "metadata": {},
   "outputs": [
    {
     "name": "stdout",
     "output_type": "stream",
     "text": [
      "Number of Employee objects created: 0\n"
     ]
    }
   ],
   "source": [
    "print(f\"Number of Employee objects created: {Employee.object_count}\")   # accessing the class variable before creating the objects"
   ]
  },
  {
   "cell_type": "code",
   "execution_count": 75,
   "id": "c5549999-a5eb-42c9-8414-e67f801a449a",
   "metadata": {},
   "outputs": [],
   "source": [
    "employee1 = Employee(\"ram\", \"E001\")   # emp objects\n",
    "employee2 = Employee(\"sam\", \"E002\")\n",
    "employee3 = Employee(\"tam\", \"E003\")"
   ]
  },
  {
   "cell_type": "code",
   "execution_count": 77,
   "id": "1ad27899-7d9b-411a-af98-e04392faba87",
   "metadata": {},
   "outputs": [
    {
     "name": "stdout",
     "output_type": "stream",
     "text": [
      "Number of Employee objects created: 3\n"
     ]
    }
   ],
   "source": [
    "print(f\"Number of Employee objects created: {Employee.object_count}\")  # acces class variables to get count"
   ]
  },
  {
   "cell_type": "code",
   "execution_count": 79,
   "id": "243490ba-9e73-4074-bb90-bccb9b49247b",
   "metadata": {},
   "outputs": [
    {
     "name": "stdout",
     "output_type": "stream",
     "text": [
      "Number of Employee objects created (via instance): 3\n"
     ]
    }
   ],
   "source": [
    "print(f\"Number of Employee objects created (via instance): {employee1.object_count}\")  # acces through instance"
   ]
  },
  {
   "cell_type": "markdown",
   "id": "19768f56-2a00-4afb-9a3e-efca483d1447",
   "metadata": {},
   "source": [
    "# CLASS THAT INHERITS FROM CLASS EMP1"
   ]
  },
  {
   "cell_type": "code",
   "execution_count": 83,
   "id": "809073e2-b05f-411a-8fb5-0018dc181fae",
   "metadata": {},
   "outputs": [],
   "source": [
    "class Emp2(Emp1):\n",
    "    def __init__(self, first, last, pay):\n",
    "        super().__init__(first, last, pay)  # Call parent constructor using super()\n",
    "\n",
    "    def apply_raise(self):\n",
    "        super().apply_raise()    # Call parent class's apply_raise method"
   ]
  },
  {
   "cell_type": "code",
   "execution_count": 85,
   "id": "227cd642-27bd-48ff-be54-ea65bfdb91c6",
   "metadata": {},
   "outputs": [],
   "source": [
    "e3 = Emp2(\"GOKUL\",\"M\",834570)  #instance for child class"
   ]
  },
  {
   "cell_type": "code",
   "execution_count": 87,
   "id": "70b6e696-c58c-49a2-b4fe-f346880ccecd",
   "metadata": {},
   "outputs": [],
   "source": [
    "e3.apply_raise()  # instance accessing the inherit method"
   ]
  },
  {
   "cell_type": "code",
   "execution_count": 89,
   "id": "a9447480-4625-4100-a3d4-545eb0065f2b",
   "metadata": {},
   "outputs": [
    {
     "name": "stdout",
     "output_type": "stream",
     "text": [
      "867952\n"
     ]
    }
   ],
   "source": [
    "print(e3.pay) # object accessing the instance variable"
   ]
  },
  {
   "cell_type": "code",
   "execution_count": 91,
   "id": "f294530f-f1fd-4678-b583-0256827e3788",
   "metadata": {},
   "outputs": [
    {
     "name": "stdout",
     "output_type": "stream",
     "text": [
      "1.04\n"
     ]
    }
   ],
   "source": [
    "print(e3.raise_amount)  # object accessing the class variable"
   ]
  },
  {
   "cell_type": "markdown",
   "id": "03f816da-5ce2-495d-9ee6-29dc0f6dc7b2",
   "metadata": {},
   "source": [
    "# MULTIPLE INHERITANCE"
   ]
  },
  {
   "cell_type": "code",
   "execution_count": 95,
   "id": "620e39b8-cb9a-4c42-b31d-407b2cf77b5f",
   "metadata": {},
   "outputs": [],
   "source": [
    "class A:\n",
    "    def method_a(self):\n",
    "        print(\"Method A\")\n",
    "\n",
    "class B:\n",
    "    def method_b(self):\n",
    "        print(\"Method B\")\n",
    "\n",
    "class C(A, B):  # class inheriting from A and B\n",
    "    pass"
   ]
  },
  {
   "cell_type": "code",
   "execution_count": 97,
   "id": "59af7f52-4664-42c1-9f14-e774c0ec042a",
   "metadata": {},
   "outputs": [
    {
     "name": "stdout",
     "output_type": "stream",
     "text": [
      "Method A\n",
      "Method B\n"
     ]
    }
   ],
   "source": [
    "obj = C()\n",
    "obj.method_a()    # child class accessing parent class methods\n",
    "obj.method_b()"
   ]
  },
  {
   "cell_type": "markdown",
   "id": "d3a5632a-7910-4e41-bac9-e1a0230cb8ae",
   "metadata": {},
   "source": [
    "# MULTILEVEL INHERITANCE"
   ]
  },
  {
   "cell_type": "code",
   "execution_count": 101,
   "id": "cfe24a55-057e-465b-9700-37dcd863b470",
   "metadata": {},
   "outputs": [],
   "source": [
    "class A:\n",
    "    def method_a(self):\n",
    "        print(\"Method A\")\n",
    "\n",
    "class B(A):           # Class inheriting from A\n",
    "    def method_b(self):\n",
    "        super().method_a()\n",
    "        print(\"Method B\")\n",
    "\n",
    "class C(B):            # Class inheriting from B\n",
    "    def method_c(self):\n",
    "        super().method_b()\n",
    "        print(\"Method C\")"
   ]
  },
  {
   "cell_type": "code",
   "execution_count": 103,
   "id": "77c9a2c4-22f5-4767-82a2-35ab5a966974",
   "metadata": {},
   "outputs": [
    {
     "name": "stdout",
     "output_type": "stream",
     "text": [
      "Method A\n",
      "Method B\n",
      "Method C\n"
     ]
    }
   ],
   "source": [
    "obj = C()\n",
    "obj.method_c()"
   ]
  },
  {
   "cell_type": "markdown",
   "id": "453cb883-cc68-47e7-a96d-154e8289419b",
   "metadata": {},
   "source": [
    "# INHERITANCE IS UNIDIRECTIONAL"
   ]
  },
  {
   "cell_type": "code",
   "execution_count": 107,
   "id": "311cad7f-735b-45d3-9036-e08ccc582662",
   "metadata": {},
   "outputs": [],
   "source": [
    "class Contact:\n",
    "    all_contacts = []  # Class variable to store all contacts\n",
    "\n",
    "    def __init__(self, name, email):\n",
    "        self.name = name\n",
    "        self.email = email\n",
    "        Contact.all_contacts.append(self)"
   ]
  },
  {
   "cell_type": "code",
   "execution_count": 109,
   "id": "fb1bfd2e-d745-4976-9ad6-ce3af86114a7",
   "metadata": {},
   "outputs": [],
   "source": [
    "class Supplier(Contact):\n",
    "    def order(self, order):\n",
    "        print(\"Send '{}' order to {}\".format(order, self.name))\n",
    "\n",
    "\n",
    "# Example usage\n",
    "c = Contact(\"GOKUL\", \"Gokul@gmail.com\")\n",
    "s = Supplier(\"HARISH\", \"Harish@gmail.com\")\n"
   ]
  },
  {
   "cell_type": "code",
   "execution_count": 111,
   "id": "20bae9b3-3505-48a3-b159-45c5caa2ccac",
   "metadata": {},
   "outputs": [
    {
     "name": "stdout",
     "output_type": "stream",
     "text": [
      "GOKUL Gokul@gmail.com HARISH Harish@gmail.com\n"
     ]
    }
   ],
   "source": [
    "print(c.name,c.email,s.name, s.email)"
   ]
  },
  {
   "cell_type": "code",
   "execution_count": 113,
   "id": "9b4e21f9-2404-4c1c-a37c-cbe4ee51c8aa",
   "metadata": {},
   "outputs": [
    {
     "data": {
      "text/plain": [
       "[<__main__.Contact at 0x1edf25d96a0>, <__main__.Supplier at 0x1edf25da510>]"
      ]
     },
     "execution_count": 113,
     "metadata": {},
     "output_type": "execute_result"
    }
   ],
   "source": [
    "c.all_contacts"
   ]
  },
  {
   "cell_type": "code",
   "execution_count": 115,
   "id": "d65036f6-1b21-40fa-811d-27a0b67c1f7f",
   "metadata": {},
   "outputs": [
    {
     "ename": "AttributeError",
     "evalue": "'Contact' object has no attribute 'order'",
     "output_type": "error",
     "traceback": [
      "\u001b[1;31m---------------------------------------------------------------------------\u001b[0m",
      "\u001b[1;31mAttributeError\u001b[0m                            Traceback (most recent call last)",
      "Cell \u001b[1;32mIn[115], line 1\u001b[0m\n\u001b[1;32m----> 1\u001b[0m c\u001b[38;5;241m.\u001b[39morder(\u001b[38;5;124m\"\u001b[39m\u001b[38;5;124mI need pliers\u001b[39m\u001b[38;5;124m\"\u001b[39m)\n",
      "\u001b[1;31mAttributeError\u001b[0m: 'Contact' object has no attribute 'order'"
     ]
    }
   ],
   "source": [
    "c.order(\"I need pliers\")   # parent has no access to child class"
   ]
  },
  {
   "cell_type": "code",
   "execution_count": 117,
   "id": "ee76683f-e010-41cc-8116-eafffef52f77",
   "metadata": {},
   "outputs": [
    {
     "name": "stdout",
     "output_type": "stream",
     "text": [
      "Send 'I need pliers' order to HARISH\n"
     ]
    }
   ],
   "source": [
    "s.order(\"I need pliers\")  # solve the above error"
   ]
  },
  {
   "cell_type": "markdown",
   "id": "4c4ec5fd-7ff5-4546-8ee0-fa54198761af",
   "metadata": {},
   "source": [
    "# BUILT-IN CLASS CAN BE EXTENDED"
   ]
  },
  {
   "cell_type": "code",
   "execution_count": 121,
   "id": "aed4c451-d27a-403b-a0a5-d7ff2906d534",
   "metadata": {},
   "outputs": [],
   "source": [
    "class ContactList(list):\n",
    "    def search(self, name):\n",
    "        matching_contacts = []\n",
    "        for contact in self:\n",
    "            if name in contact.name:\n",
    "                matching_contacts.append(contact)\n",
    "        return matching_contacts"
   ]
  },
  {
   "cell_type": "code",
   "execution_count": 123,
   "id": "48d91737-6ad6-43ff-b478-7e39efd19ba8",
   "metadata": {},
   "outputs": [],
   "source": [
    "class Contact:\n",
    "    all_contacts = ContactList()      # shared list of all contacts\n",
    "\n",
    "    def __init__(self, name, email):\n",
    "        self.name = name\n",
    "        self.email = email\n",
    "        Contact.all_contacts.append(self)"
   ]
  },
  {
   "cell_type": "code",
   "execution_count": 131,
   "id": "36339e40-4eb8-459d-a773-a294a21768e5",
   "metadata": {},
   "outputs": [
    {
     "data": {
      "text/plain": [
       "['RAM', 'RAM', 'RAM u', 'RAM', 'RAMU']"
      ]
     },
     "execution_count": 131,
     "metadata": {},
     "output_type": "execute_result"
    }
   ],
   "source": [
    "c1 = Contact(\"RAM\",\"ram@example.net\")\n",
    "c2 = Contact(\"RAMU\",\"sam@example.net\")\n",
    "c3 = Contact(\"TAM\",\"tam@example.net\")\n",
    "[c.name for c in Contact.all_contacts.search('RAM')]"
   ]
  },
  {
   "cell_type": "code",
   "execution_count": null,
   "id": "47e9cb0e-c1f8-4786-9be3-782ae79cf352",
   "metadata": {},
   "outputs": [],
   "source": []
  }
 ],
 "metadata": {
  "kernelspec": {
   "display_name": "Python [conda env:base] *",
   "language": "python",
   "name": "conda-base-py"
  },
  "language_info": {
   "codemirror_mode": {
    "name": "ipython",
    "version": 3
   },
   "file_extension": ".py",
   "mimetype": "text/x-python",
   "name": "python",
   "nbconvert_exporter": "python",
   "pygments_lexer": "ipython3",
   "version": "3.12.7"
  }
 },
 "nbformat": 4,
 "nbformat_minor": 5
}
