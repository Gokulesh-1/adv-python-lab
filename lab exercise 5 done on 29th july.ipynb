{
 "cells": [
  {
   "cell_type": "markdown",
   "id": "8bcaa8e7-bf9d-4eb8-a02f-921d7f0a2682",
   "metadata": {},
   "source": [
    "# OFF BY ONE BEHAVIOUR\n"
   ]
  },
  {
   "cell_type": "code",
   "execution_count": 2,
   "id": "99f4c233-e74c-4ded-9409-c7421b6444ad",
   "metadata": {},
   "outputs": [
    {
     "name": "stdout",
     "output_type": "stream",
     "text": [
      "0\n",
      "1\n",
      "2\n",
      "3\n",
      "4\n"
     ]
    }
   ],
   "source": [
    "for i in range(5):      #the value of i starts from (0 to 5-1)\n",
    "    print(i)"
   ]
  },
  {
   "cell_type": "code",
   "execution_count": 4,
   "id": "59a03249-fedd-4cca-9771-26cbf6437e14",
   "metadata": {},
   "outputs": [
    {
     "name": "stdout",
     "output_type": "stream",
     "text": [
      "1\n",
      "2\n",
      "3\n",
      "4\n"
     ]
    }
   ],
   "source": [
    "for i in range(1,5):   #the value of i starts from (1 to 5-1)\n",
    "    print(i)"
   ]
  },
  {
   "cell_type": "markdown",
   "id": "7319d00b-d377-47f5-b92f-cb7239b47274",
   "metadata": {},
   "source": [
    "# SLICING A LIST"
   ]
  },
  {
   "cell_type": "code",
   "execution_count": 9,
   "id": "e573cd95-e916-4e92-939c-de6ad3e0e747",
   "metadata": {},
   "outputs": [
    {
     "name": "stdout",
     "output_type": "stream",
     "text": [
      "['a', 'b']\n",
      "['d', 'e']\n",
      "['c', 'd', 'e']\n"
     ]
    }
   ],
   "source": [
    "l=['a','b','c','d','e']  #given example list\n",
    "print(l[:2])        #print first two element\n",
    "print(l[-2:])       #print last two element\n",
    "print(l[2:])        #print the 3rd element and above fron the list"
   ]
  },
  {
   "cell_type": "markdown",
   "id": "2f766e6d-1f6c-483d-a333-de5fa77b9c35",
   "metadata": {},
   "source": [
    "# COPYING A LIST"
   ]
  },
  {
   "cell_type": "code",
   "execution_count": 12,
   "id": "bedd5554-70e1-4d80-a921-198cf7d3c295",
   "metadata": {},
   "outputs": [
    {
     "name": "stdout",
     "output_type": "stream",
     "text": [
      "['cake', 'pizza', 'stew']\n",
      "['cake', 'pizza', 'stew']\n"
     ]
    }
   ],
   "source": [
    "my_fav=['cake','pizza','stew']  #creting the favorite list\n",
    "friend_fav=my_fav[:]      #one way of copying a list\n",
    "friend_fav1=my_fav        #other way of copying the list\n",
    "print(friend_fav)         #print the copied list\n",
    "print(friend_fav1)"
   ]
  },
  {
   "cell_type": "code",
   "execution_count": 14,
   "id": "72e9f2aa-de43-4f05-b36f-1ccb7c62fa16",
   "metadata": {},
   "outputs": [
    {
     "name": "stdout",
     "output_type": "stream",
     "text": [
      "1907017961472\n",
      "1907017961664\n"
     ]
    }
   ],
   "source": [
    "print(id(friend_fav))      #printing the ids of different ways of list copying\n",
    "print(id(friend_fav1))"
   ]
  },
  {
   "cell_type": "code",
   "execution_count": 19,
   "id": "e7e2afc2-409e-4240-af93-84900b722d44",
   "metadata": {},
   "outputs": [
    {
     "name": "stdout",
     "output_type": "stream",
     "text": [
      "['cake', 'pizza', 'stew']\n",
      "['cake', 'pizza', 'stew', 'coke', 'coke']\n"
     ]
    }
   ],
   "source": [
    "my_fav.append('coke')     #appending a new value to my favourite list\n",
    "print(friend_fav)         #pass by value\n",
    "print(friend_fav1)        #pass by reference"
   ]
  },
  {
   "cell_type": "markdown",
   "id": "5173272a-c606-4a4d-b2f7-81905dcbfa40",
   "metadata": {},
   "source": [
    "# LOOPING THROUGH A SLICE"
   ]
  },
  {
   "cell_type": "code",
   "execution_count": 22,
   "id": "e1e9a94a-2e49-47d3-b6d2-b687889cc10d",
   "metadata": {},
   "outputs": [
    {
     "name": "stdout",
     "output_type": "stream",
     "text": [
      "Cake\n",
      "Pizza\n",
      "Stew\n"
     ]
    }
   ],
   "source": [
    "for s in my_fav[:3]:      # looping through a sliced part of the original list\n",
    "    print(s.title())"
   ]
  },
  {
   "cell_type": "markdown",
   "id": "d2a9784d-df6e-46aa-955d-96410e5aa60b",
   "metadata": {},
   "source": [
    "# TUPLES ARE IMMUTABLE"
   ]
  },
  {
   "cell_type": "code",
   "execution_count": 25,
   "id": "d44cb5d9-0761-4037-ac16-fd764de180a4",
   "metadata": {},
   "outputs": [
    {
     "name": "stdout",
     "output_type": "stream",
     "text": [
      "(500, 600, 700, 800, 900)\n",
      "600\n"
     ]
    }
   ],
   "source": [
    "T=(500,600,700,800,900)\n",
    "print(T)\n",
    "print(T[1])    #accessing a particular index from the tuple"
   ]
  },
  {
   "cell_type": "code",
   "execution_count": 27,
   "id": "6ce918b3-49e2-4a97-aa28-bd378e1686d7",
   "metadata": {},
   "outputs": [
    {
     "ename": "TypeError",
     "evalue": "'tuple' object does not support item assignment",
     "output_type": "error",
     "traceback": [
      "\u001b[1;31m---------------------------------------------------------------------------\u001b[0m",
      "\u001b[1;31mTypeError\u001b[0m                                 Traceback (most recent call last)",
      "Cell \u001b[1;32mIn[27], line 1\u001b[0m\n\u001b[1;32m----> 1\u001b[0m T[\u001b[38;5;241m1\u001b[39m]\u001b[38;5;241m=\u001b[39m\u001b[38;5;241m-\u001b[39m\u001b[38;5;241m100\u001b[39m\n\u001b[0;32m      2\u001b[0m \u001b[38;5;28mprint\u001b[39m(T)\n",
      "\u001b[1;31mTypeError\u001b[0m: 'tuple' object does not support item assignment"
     ]
    }
   ],
   "source": [
    "T[1]=-100    # as tuples are immutable values cannot be assigned for the index\n",
    "print(T)     #produces error"
   ]
  },
  {
   "cell_type": "markdown",
   "id": "cc04dd7e-c5d4-4c3b-9db7-8d4d5797fbd8",
   "metadata": {},
   "source": [
    "# LOOPING THROUGH A TUPLE"
   ]
  },
  {
   "cell_type": "code",
   "execution_count": 30,
   "id": "6a0d7ce5-f361-470e-bf8e-826719f5bf08",
   "metadata": {},
   "outputs": [
    {
     "name": "stdout",
     "output_type": "stream",
     "text": [
      "600\n",
      "700\n",
      "800\n",
      "900\n"
     ]
    }
   ],
   "source": [
    "for i in T[1:]:    #iterating the tuple by slicing a particular part\n",
    "    print(i)"
   ]
  },
  {
   "cell_type": "code",
   "execution_count": 32,
   "id": "cea1f515-1567-482d-b4c4-3798a67d1090",
   "metadata": {},
   "outputs": [
    {
     "name": "stdout",
     "output_type": "stream",
     "text": [
      "(100, 200, 300, 400)\n"
     ]
    }
   ],
   "source": [
    "T=(100,200,300,400)    #complete reassignment of the created tuple is possible\n",
    "print(T)               #doesnot raise any error"
   ]
  },
  {
   "cell_type": "markdown",
   "id": "3558c824-59e6-47b8-ae21-794f6f7f4ae4",
   "metadata": {},
   "source": [
    "# CREATING A DICTIONARY "
   ]
  },
  {
   "cell_type": "code",
   "execution_count": 37,
   "id": "1ef9700e-71f4-4bf4-ab2e-66df68732460",
   "metadata": {},
   "outputs": [
    {
     "name": "stdout",
     "output_type": "stream",
     "text": [
      "gokulesh\n"
     ]
    }
   ],
   "source": [
    "student={           # creating a student dict\n",
    "    'name':'gokulesh',\n",
    "    'reg_no':'22mic0102'\n",
    "}\n",
    "print(student['name'])   # accesing the value from dict using the key"
   ]
  },
  {
   "cell_type": "code",
   "execution_count": null,
   "id": "e7955fa0-c5fe-4d3e-8682-15466a6dba4d",
   "metadata": {},
   "outputs": [],
   "source": []
  }
 ],
 "metadata": {
  "kernelspec": {
   "display_name": "Python [conda env:base] *",
   "language": "python",
   "name": "conda-base-py"
  },
  "language_info": {
   "codemirror_mode": {
    "name": "ipython",
    "version": 3
   },
   "file_extension": ".py",
   "mimetype": "text/x-python",
   "name": "python",
   "nbconvert_exporter": "python",
   "pygments_lexer": "ipython3",
   "version": "3.12.7"
  }
 },
 "nbformat": 4,
 "nbformat_minor": 5
}
