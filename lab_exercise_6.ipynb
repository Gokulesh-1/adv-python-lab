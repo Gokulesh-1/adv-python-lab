{
 "cells": [
  {
   "cell_type": "markdown",
   "id": "fc58ca43-9539-4e3d-abb2-47b7428446ab",
   "metadata": {},
   "source": [
    "# SEQUENCE UNPACKING\n"
   ]
  },
  {
   "cell_type": "code",
   "execution_count": 2,
   "id": "568b14f4-62a1-4da6-9461-296b966f2968",
   "metadata": {},
   "outputs": [
    {
     "name": "stdout",
     "output_type": "stream",
     "text": [
      "1\n",
      "3\n",
      "5\n",
      "7\n"
     ]
    }
   ],
   "source": [
    "odds=[1,3,5,7]    \n",
    "a,b,c,d=odds    # unpackaing the sequence in the provided variables\n",
    "print(a)\n",
    "print(b)\n",
    "print(c)\n",
    "print(d)"
   ]
  },
  {
   "cell_type": "code",
   "execution_count": 4,
   "id": "2dc62b7a-e0b1-482d-b892-f1d1920819ab",
   "metadata": {},
   "outputs": [
    {
     "name": "stdout",
     "output_type": "stream",
     "text": [
      "1\n",
      "3\n",
      "[5, 7]\n"
     ]
    }
   ],
   "source": [
    "a,b,*c=odds\n",
    "print(a)\n",
    "print(b)\n",
    "print(c)   # this will print all remaining elements after the second element"
   ]
  },
  {
   "cell_type": "code",
   "execution_count": 6,
   "id": "fef1cb59-37fb-4891-af71-4c4f3887bd89",
   "metadata": {},
   "outputs": [
    {
     "name": "stdout",
     "output_type": "stream",
     "text": [
      "3\n",
      "[5, 7]\n",
      "9\n"
     ]
    }
   ],
   "source": [
    "a,*b,c=[3,5,7,9]\n",
    "print(a)\n",
    "print(b)    # this will 2 elements into its list\n",
    "print(c)"
   ]
  },
  {
   "cell_type": "code",
   "execution_count": 8,
   "id": "d0b3142c-8eba-4938-9c52-5a1967b58e30",
   "metadata": {},
   "outputs": [
    {
     "name": "stdout",
     "output_type": "stream",
     "text": [
      "16\n"
     ]
    }
   ],
   "source": [
    "def a(x,y,z,a):\n",
    "    return(x+y+z+a)\n",
    "print(a(*odds))        # sequence unpacking and then performing addition operation"
   ]
  },
  {
   "cell_type": "code",
   "execution_count": 10,
   "id": "63a856b2-1389-4273-9234-fd329d8124ba",
   "metadata": {},
   "outputs": [
    {
     "name": "stdout",
     "output_type": "stream",
     "text": [
      "hello,ram\n",
      "hello,sam\n",
      "hello,cam\n",
      "hello,tam\n"
     ]
    }
   ],
   "source": [
    "def say_hi(*names):     # print a greeting for each name\n",
    "    for n in names:\n",
    "        print(f\"hello,{n}\")  \n",
    "\n",
    "say_hi(\"ram\",\"sam\",\"cam\",\"tam\")    #calling the function and passing the required arguements"
   ]
  },
  {
   "cell_type": "code",
   "execution_count": 20,
   "id": "8d8256c7-c774-4766-8e1d-4b67cbaa18e2",
   "metadata": {},
   "outputs": [
    {
     "name": "stdout",
     "output_type": "stream",
     "text": [
      "code : csi3002\n",
      "name : python\n",
      "venue : sjt317\n"
     ]
    }
   ],
   "source": [
    "def show_info(**info):    # ** represents it will accept any number of key value pairs\n",
    "    for k,v in info.items():     # iterate through the key value pairs\n",
    "        print(f\"{k} : {v}\")\n",
    "\n",
    "new={ 'code' : 'csi3002',        # dict with 3 key value pairs\n",
    "           'name' : 'python',\n",
    "           'venue' : 'sjt317'}\n",
    "show_info(**new)               #calling the function"
   ]
  },
  {
   "cell_type": "markdown",
   "id": "7eca9c22-0d16-4a92-bfcf-58e7ad54f05e",
   "metadata": {},
   "source": [
    "# LEGAL DOMAIN USING DICT"
   ]
  },
  {
   "cell_type": "code",
   "execution_count": 23,
   "id": "a0272057-1049-4409-a117-c9076dffb9b7",
   "metadata": {},
   "outputs": [],
   "source": [
    "legal_records = {\n",
    "\"Lawyer1\": {\n",
    "\"Client1\": [\"C101\", \"Property Dispute\", \"Civil\", \"2023-11-15\"],\n",
    "\"Client2\": [\"C102\", \"Cheque Bounce\", \"Criminal\", \"2024-01-22\"]\n",
    "},\n",
    "\"Lawyer2\": {\n",
    "\"Client1\": [\"C201\", \"Divorce Case\", \"Family\", \"2023-09-10\"],\n",
    "\"Client2\": [\"C202\", \"Land Acquisition\", \"Civil\", \"2024-05-05\"]\n",
    "},\n",
    "\"Lawyer3\": {\n",
    "\"Client1\": [\"C301\", \"Cyber Fraud\", \"Criminal\", \"2023-12-30\"],\n",
    "\"Client2\": [\"C302\", \"Will Registration\", \"Civil\", \"2024-02-18\"]\n",
    "}\n",
    "}"
   ]
  },
  {
   "cell_type": "code",
   "execution_count": 31,
   "id": "47392120-65bc-4633-80d3-1fbb45e1be54",
   "metadata": {},
   "outputs": [
    {
     "name": "stdout",
     "output_type": "stream",
     "text": [
      "\n",
      "Lawyer1\n",
      "\n",
      "Lawyer2\n",
      "\n",
      "Lawyer3\n",
      " Client1:\n",
      " Case ID :C301 \n",
      " Type : Cyber Fraud\n",
      " Category : Criminal\n",
      " Date :2023-12-30 \n",
      " Client2:\n",
      " Case ID :C302 \n",
      " Type : Will Registration\n",
      " Category : Civil\n",
      " Date :2024-02-18 \n"
     ]
    }
   ],
   "source": [
    "def display(legal_records):         #sequence unpacking\n",
    "    for lawyer,clients in legal_records.items():\n",
    "        print(f\"\\n{lawyer}\")\n",
    "    for client, (case_id, case_type, category, date) in clients.items():\n",
    "        print(f\" {client}:\")\n",
    "        print(f\" Case ID :{case_id} \")\n",
    "        print(f\" Type : {case_type}\")\n",
    "        print(f\" Category : {category}\")\n",
    "        print(f\" Date :{date} \")\n",
    "\n",
    "display(legal_records)"
   ]
  },
  {
   "cell_type": "code",
   "execution_count": null,
   "id": "926e2716-828a-4ced-88a3-79d90632d106",
   "metadata": {},
   "outputs": [],
   "source": []
  }
 ],
 "metadata": {
  "kernelspec": {
   "display_name": "Python [conda env:base] *",
   "language": "python",
   "name": "conda-base-py"
  },
  "language_info": {
   "codemirror_mode": {
    "name": "ipython",
    "version": 3
   },
   "file_extension": ".py",
   "mimetype": "text/x-python",
   "name": "python",
   "nbconvert_exporter": "python",
   "pygments_lexer": "ipython3",
   "version": "3.12.7"
  }
 },
 "nbformat": 4,
 "nbformat_minor": 5
}
