{
 "cells": [
  {
   "cell_type": "markdown",
   "id": "7836854f-6f65-46f7-8318-7f67eced135f",
   "metadata": {},
   "source": [
    "# HANDLING EXCEL FILES."
   ]
  },
  {
   "cell_type": "code",
   "execution_count": 7,
   "id": "ad430e1a-68c3-4b7f-9910-7a99fe3caabe",
   "metadata": {},
   "outputs": [
    {
     "name": "stdout",
     "output_type": "stream",
     "text": [
      "  PatientID     Name  Age Gender     Diagnosis   Treatment     Doctor  \\\n",
      "0      P001    Alice   29      F           Flu  Medication  Dr. Smith   \n",
      "1      P002      Bob   45      M      Diabetes     Insulin  Dr. Brown   \n",
      "2      P003  Charlie   34      M        Asthma     Inhaler    Dr. Lee   \n",
      "3      P004    Diana   50      F  Hypertension   Lifestyle  Dr. White   \n",
      "4      P005    Ethan   41      M      Fracture     Surgery  Dr. Black   \n",
      "\n",
      "   Unnamed: 7  Cost Insurance  \n",
      "0         NaN   150       Yes  \n",
      "1         NaN   300       Yes  \n",
      "2         NaN   200        No  \n",
      "3         NaN   250       Yes  \n",
      "4         NaN   500        No  \n"
     ]
    }
   ],
   "source": [
    "import pandas as pd\n",
    "\n",
    "df = pd.read_excel('HealthcareData.xlsx', sheet_name=\"Patients\") # Read the Excel file \"HealthcareData.xlsx\" into a DataFrame\n",
    "print(df.head())  # Display the first 5 rows to quickly preview the data"
   ]
  },
  {
   "cell_type": "code",
   "execution_count": 9,
   "id": "38251795-ee2b-403c-bc01-09ada289eda0",
   "metadata": {},
   "outputs": [
    {
     "name": "stdout",
     "output_type": "stream",
     "text": [
      "Dataset shape: (10, 10)\n"
     ]
    }
   ],
   "source": [
    "print(\"Dataset shape:\", df.shape)  # Check the shape of the DataFrame (rows, columns)"
   ]
  },
  {
   "cell_type": "code",
   "execution_count": 11,
   "id": "6e8b9534-077f-4562-8964-51c0ab6538b0",
   "metadata": {},
   "outputs": [
    {
     "name": "stdout",
     "output_type": "stream",
     "text": [
      "<class 'pandas.core.frame.DataFrame'>\n",
      "RangeIndex: 10 entries, 0 to 9\n",
      "Data columns (total 10 columns):\n",
      " #   Column      Non-Null Count  Dtype  \n",
      "---  ------      --------------  -----  \n",
      " 0   PatientID   10 non-null     object \n",
      " 1   Name        10 non-null     object \n",
      " 2   Age         10 non-null     int64  \n",
      " 3   Gender      10 non-null     object \n",
      " 4   Diagnosis   10 non-null     object \n",
      " 5   Treatment   10 non-null     object \n",
      " 6   Doctor      10 non-null     object \n",
      " 7   Unnamed: 7  0 non-null      float64\n",
      " 8   Cost        10 non-null     int64  \n",
      " 9   Insurance   10 non-null     object \n",
      "dtypes: float64(1), int64(2), object(7)\n",
      "memory usage: 932.0+ bytes\n"
     ]
    }
   ],
   "source": [
    "df.info()  # View basic info about the dataset (column names, data types, non-null values)"
   ]
  },
  {
   "cell_type": "code",
   "execution_count": 13,
   "id": "06eda1a2-2363-4c1c-9eb8-a0979ca247e0",
   "metadata": {},
   "outputs": [
    {
     "name": "stdout",
     "output_type": "stream",
     "text": [
      "             Age  Unnamed: 7         Cost\n",
      "count  10.000000         0.0    10.000000\n",
      "mean   41.100000         NaN   428.000000\n",
      "std    11.120052         NaN   561.937126\n",
      "min    28.000000         NaN   150.000000\n",
      "25%    32.500000         NaN   185.000000\n",
      "50%    39.000000         NaN   235.000000\n",
      "75%    48.750000         NaN   315.000000\n",
      "max    60.000000         NaN  2000.000000\n"
     ]
    }
   ],
   "source": [
    "print(df.describe())   # Get some quick summary statistics (mean, min, max, etc.) for numeric columns"
   ]
  },
  {
   "cell_type": "markdown",
   "id": "75a4cade-55ee-40c5-8269-69cc2b0ef662",
   "metadata": {},
   "source": [
    "# CONDITION BASED FILTERING"
   ]
  },
  {
   "cell_type": "code",
   "execution_count": 19,
   "id": "97b210c1-4eef-4f7a-9d10-f4a8331e6e66",
   "metadata": {},
   "outputs": [
    {
     "name": "stdout",
     "output_type": "stream",
     "text": [
      "  PatientID    Name  Age Gender      Diagnosis       Treatment     Doctor  \\\n",
      "1      P002     Bob   45      M       Diabetes         Insulin  Dr. Brown   \n",
      "3      P004   Diana   50      F   Hypertension       Lifestyle  Dr. White   \n",
      "6      P007  George   60      M  Heart Disease  Bypass Surgery   Dr. Gray   \n",
      "8      P009     Ian   55      M       Diabetes         Insulin  Dr. Brown   \n",
      "\n",
      "   Unnamed: 7  Cost Insurance  \n",
      "1         NaN   300       Yes  \n",
      "3         NaN   250       Yes  \n",
      "6         NaN  2000       Yes  \n",
      "8         NaN   320       Yes  \n"
     ]
    }
   ],
   "source": [
    "high_cost_insured_df = df[(df['Cost'] > 200) & (df['Insurance'] == 'Yes')]  # Extract patients with cost > 200 and insurance = \"Yes\"\n",
    "print(high_cost_insured_df)  # Display the filtered DataFrame"
   ]
  },
  {
   "cell_type": "markdown",
   "id": "0c4f278f-0995-46ff-a836-fbf4958f388e",
   "metadata": {},
   "source": [
    "# WRITING THE RESULT OF THE QUERY INTO AN EXCEL FILE"
   ]
  },
  {
   "cell_type": "code",
   "execution_count": 23,
   "id": "2bfc0dfb-5036-4b07-bdd7-35f62d6105cd",
   "metadata": {},
   "outputs": [
    {
     "name": "stdout",
     "output_type": "stream",
     "text": [
      "Filtered data has been written to insurance_accepted.xlsx\n"
     ]
    }
   ],
   "source": [
    "output_file = \"insurance_accepted.xlsx\"   # Write the query results to a new Excel file\n",
    "high_cost_insured_df.to_excel(output_file, index=False)\n",
    "print(f\"Filtered data has been written to {output_file}\")"
   ]
  },
  {
   "cell_type": "code",
   "execution_count": 25,
   "id": "30b013d2-6b87-4076-ae3f-894a9fd12814",
   "metadata": {},
   "outputs": [],
   "source": [
    "data = pd.read_excel(\"insurance_accepted.xlsx\" )"
   ]
  },
  {
   "cell_type": "code",
   "execution_count": 27,
   "id": "9c3abb79-b4a8-4f81-8246-de43dcea2a57",
   "metadata": {},
   "outputs": [
    {
     "data": {
      "text/html": [
       "<div>\n",
       "<style scoped>\n",
       "    .dataframe tbody tr th:only-of-type {\n",
       "        vertical-align: middle;\n",
       "    }\n",
       "\n",
       "    .dataframe tbody tr th {\n",
       "        vertical-align: top;\n",
       "    }\n",
       "\n",
       "    .dataframe thead th {\n",
       "        text-align: right;\n",
       "    }\n",
       "</style>\n",
       "<table border=\"1\" class=\"dataframe\">\n",
       "  <thead>\n",
       "    <tr style=\"text-align: right;\">\n",
       "      <th></th>\n",
       "      <th>PatientID</th>\n",
       "      <th>Name</th>\n",
       "      <th>Age</th>\n",
       "      <th>Gender</th>\n",
       "      <th>Diagnosis</th>\n",
       "      <th>Treatment</th>\n",
       "      <th>Doctor</th>\n",
       "      <th>Unnamed: 7</th>\n",
       "      <th>Cost</th>\n",
       "      <th>Insurance</th>\n",
       "    </tr>\n",
       "  </thead>\n",
       "  <tbody>\n",
       "    <tr>\n",
       "      <th>0</th>\n",
       "      <td>P002</td>\n",
       "      <td>Bob</td>\n",
       "      <td>45</td>\n",
       "      <td>M</td>\n",
       "      <td>Diabetes</td>\n",
       "      <td>Insulin</td>\n",
       "      <td>Dr. Brown</td>\n",
       "      <td>NaN</td>\n",
       "      <td>300</td>\n",
       "      <td>Yes</td>\n",
       "    </tr>\n",
       "    <tr>\n",
       "      <th>1</th>\n",
       "      <td>P004</td>\n",
       "      <td>Diana</td>\n",
       "      <td>50</td>\n",
       "      <td>F</td>\n",
       "      <td>Hypertension</td>\n",
       "      <td>Lifestyle</td>\n",
       "      <td>Dr. White</td>\n",
       "      <td>NaN</td>\n",
       "      <td>250</td>\n",
       "      <td>Yes</td>\n",
       "    </tr>\n",
       "    <tr>\n",
       "      <th>2</th>\n",
       "      <td>P007</td>\n",
       "      <td>George</td>\n",
       "      <td>60</td>\n",
       "      <td>M</td>\n",
       "      <td>Heart Disease</td>\n",
       "      <td>Bypass Surgery</td>\n",
       "      <td>Dr. Gray</td>\n",
       "      <td>NaN</td>\n",
       "      <td>2000</td>\n",
       "      <td>Yes</td>\n",
       "    </tr>\n",
       "    <tr>\n",
       "      <th>3</th>\n",
       "      <td>P009</td>\n",
       "      <td>Ian</td>\n",
       "      <td>55</td>\n",
       "      <td>M</td>\n",
       "      <td>Diabetes</td>\n",
       "      <td>Insulin</td>\n",
       "      <td>Dr. Brown</td>\n",
       "      <td>NaN</td>\n",
       "      <td>320</td>\n",
       "      <td>Yes</td>\n",
       "    </tr>\n",
       "  </tbody>\n",
       "</table>\n",
       "</div>"
      ],
      "text/plain": [
       "  PatientID    Name  Age Gender      Diagnosis       Treatment     Doctor  \\\n",
       "0      P002     Bob   45      M       Diabetes         Insulin  Dr. Brown   \n",
       "1      P004   Diana   50      F   Hypertension       Lifestyle  Dr. White   \n",
       "2      P007  George   60      M  Heart Disease  Bypass Surgery   Dr. Gray   \n",
       "3      P009     Ian   55      M       Diabetes         Insulin  Dr. Brown   \n",
       "\n",
       "   Unnamed: 7  Cost Insurance  \n",
       "0         NaN   300       Yes  \n",
       "1         NaN   250       Yes  \n",
       "2         NaN  2000       Yes  \n",
       "3         NaN   320       Yes  "
      ]
     },
     "execution_count": 27,
     "metadata": {},
     "output_type": "execute_result"
    }
   ],
   "source": [
    "data.head()"
   ]
  },
  {
   "cell_type": "markdown",
   "id": "4306d72b-3255-4670-8506-582da288050d",
   "metadata": {},
   "source": [
    "# APPEND TO AN EXCEL FILE"
   ]
  },
  {
   "cell_type": "code",
   "execution_count": 78,
   "id": "e7eeeb28-3804-4e58-98ef-29f400862b84",
   "metadata": {},
   "outputs": [
    {
     "name": "stdout",
     "output_type": "stream",
     "text": [
      "  PatientID   Name  Age Gender  Diagnosis      Treatment     Doctor  \\\n",
      "0      P011  Kevin   46      M  Arthritis  Physiotherapy  Dr. White   \n",
      "\n",
      "    VisitDate  Cost Insurance  \n",
      "0  2023-02-05   750       Yes  \n"
     ]
    }
   ],
   "source": [
    "import pandas as pd\n",
    "new_patient_data = {    # Create a small DataFrame with new patient data to append\n",
    "    \"PatientID\": [\"P011\"],\n",
    "    \"Name\": [\"Kevin\"],\n",
    "    \"Age\": [46],\n",
    "    \"Gender\": [\"M\"],\n",
    "    \"Diagnosis\": [\"Arthritis\"],\n",
    "    \"Treatment\": [\"Physiotherapy\"],\n",
    "    \"Doctor\": [\"Dr. White\"],\n",
    "    \"VisitDate\": [\"2023-02-05\"],\n",
    "    \"Cost\": [750],\n",
    "    \"Insurance\": [\"Yes\"]\n",
    "}\n",
    "\n",
    "new_patient_df = pd.DataFrame(new_patient_data)\n",
    "print(new_patient_df)"
   ]
  },
  {
   "cell_type": "code",
   "execution_count": 103,
   "id": "e1e4f0ee-f9cb-42e3-a733-0e6f4bb8646f",
   "metadata": {},
   "outputs": [
    {
     "name": "stdout",
     "output_type": "stream",
     "text": [
      "Successfully appended new patient data and updated 'HealthcareData.xlsx'.\n"
     ]
    }
   ],
   "source": [
    "import pandas as pd\n",
    "file_path = \"HealthcareData.xlsx\"\n",
    "existing_df = pd.read_excel(file_path, sheet_name=\"Patients\")  # Read the existing Excel file\n",
    "new_patient_data = {     # Create a small DataFrame with new patient data\n",
    "    \"PatientID\": [\"P011\"],\n",
    "    \"Name\": [\"Kevin\"],\n",
    "    \"Age\": [46],\n",
    "    \"Gender\": [\"M\"],\n",
    "    \"Diagnosis\": [\"Arthritis\"],\n",
    "    \"Treatment\": [\"Physiotherapy\"],\n",
    "    \"Doctor\": [\"Dr. White\"],\n",
    "    \"VisitDate\": [\"2023-02-05\"],\n",
    "    \"Cost\": [750],\n",
    "    \"Insurance\": [\"Yes\"]\n",
    "}\n",
    "\n",
    "new_patient_df = pd.DataFrame(new_patient_data)\n",
    "combined_df = pd.concat([existing_df, new_patient_df], ignore_index=True) # Concatenate the existing DataFrame and the new DataFrame\n",
    "combined_df.to_excel(file_path, index=False, sheet_name=\"Patients\")  # Write the combined DataFrame back to the same Excel file\n",
    "print(f\"Successfully appended new patient data and updated '{file_path}'.\")"
   ]
  },
  {
   "cell_type": "code",
   "execution_count": 39,
   "id": "ae939601-6248-4267-b518-a744a02b56f3",
   "metadata": {},
   "outputs": [
    {
     "name": "stdout",
     "output_type": "stream",
     "text": [
      "   PatientID     Name  Age Gender      Diagnosis       Treatment     Doctor  \\\n",
      "0       P001    Alice   29      F            Flu      Medication  Dr. Smith   \n",
      "1       P002      Bob   45      M       Diabetes         Insulin  Dr. Brown   \n",
      "2       P003  Charlie   34      M         Asthma         Inhaler    Dr. Lee   \n",
      "3       P004    Diana   50      F   Hypertension       Lifestyle  Dr. White   \n",
      "4       P005    Ethan   41      M       Fracture         Surgery  Dr. Black   \n",
      "5       P006    Fiona   37      F        Allergy   Antihistamine  Dr. Green   \n",
      "6       P007   George   60      M  Heart Disease  Bypass Surgery   Dr. Gray   \n",
      "7       P008   Hannah   28      F            Flu      Medication  Dr. Smith   \n",
      "8       P009      Ian   55      M       Diabetes         Insulin  Dr. Brown   \n",
      "9       P010    Julia   32      F       Migraine     Painkillers    Dr. Lee   \n",
      "10      P011    Kevin   46      M      Arthritis   Physiotherapy  Dr. White   \n",
      "11      P011    Kevin   46      M      Arthritis   Physiotherapy  Dr. White   \n",
      "\n",
      "    Unnamed: 7  Cost Insurance   VisitDate  \n",
      "0          NaN   150       Yes         NaN  \n",
      "1          NaN   300       Yes         NaN  \n",
      "2          NaN   200        No         NaN  \n",
      "3          NaN   250       Yes         NaN  \n",
      "4          NaN   500        No         NaN  \n",
      "5          NaN   180       Yes         NaN  \n",
      "6          NaN  2000       Yes         NaN  \n",
      "7          NaN   160        No         NaN  \n",
      "8          NaN   320       Yes         NaN  \n",
      "9          NaN   220        No         NaN  \n",
      "10         NaN   750       Yes  2023-02-05  \n",
      "11         NaN   750       Yes  2023-02-05  \n"
     ]
    }
   ],
   "source": [
    "file_path = \"HealthcareData.xlsx\"\n",
    "latest_df = pd.read_excel(file_path, sheet_name=\"Patients\")  # Read the latest Excel content\n",
    "print(latest_df)"
   ]
  },
  {
   "cell_type": "markdown",
   "id": "dcab2d62-c99d-44da-979d-9d091d804b25",
   "metadata": {},
   "source": [
    "# READING AN EXCEL CHUNK BY CHUNK"
   ]
  },
  {
   "cell_type": "code",
   "execution_count": 80,
   "id": "e29eda49-e963-4831-9eb6-9e1f08fb8148",
   "metadata": {},
   "outputs": [
    {
     "name": "stdout",
     "output_type": "stream",
     "text": [
      "\n",
      "Processing rows 1 to 5...\n",
      "  PatientID     Name  Age Gender     Diagnosis   Treatment     Doctor  \\\n",
      "0      P001    Alice   29      F           Flu  Medication  Dr. Smith   \n",
      "1      P002      Bob   45      M      Diabetes     Insulin  Dr. Brown   \n",
      "2      P003  Charlie   34      M        Asthma     Inhaler    Dr. Lee   \n",
      "3      P004    Diana   50      F  Hypertension   Lifestyle  Dr. White   \n",
      "4      P005    Ethan   41      M      Fracture     Surgery  Dr. Black   \n",
      "\n",
      "   Unnamed: 7  Cost Insurance  VisitDate  \n",
      "0         NaN   150       Yes        NaN  \n",
      "1         NaN   300       Yes        NaN  \n",
      "2         NaN   200        No        NaN  \n",
      "3         NaN   250       Yes        NaN  \n",
      "4         NaN   500        No        NaN  \n",
      "\n",
      "Processing rows 6 to 10...\n",
      "  PatientID    Name  Age Gender      Diagnosis       Treatment     Doctor  \\\n",
      "0      P006   Fiona   37      F        Allergy   Antihistamine  Dr. Green   \n",
      "1      P007  George   60      M  Heart Disease  Bypass Surgery   Dr. Gray   \n",
      "2      P008  Hannah   28      F            Flu      Medication  Dr. Smith   \n",
      "3      P009     Ian   55      M       Diabetes         Insulin  Dr. Brown   \n",
      "4      P010   Julia   32      F       Migraine     Painkillers    Dr. Lee   \n",
      "\n",
      "   Unnamed: 7  Cost Insurance  VisitDate  \n",
      "0         NaN   180       Yes        NaN  \n",
      "1         NaN  2000       Yes        NaN  \n",
      "2         NaN   160        No        NaN  \n",
      "3         NaN   320       Yes        NaN  \n",
      "4         NaN   220        No        NaN  \n",
      "\n",
      "Processing rows 11 to 12...\n",
      "  PatientID   Name  Age Gender  Diagnosis      Treatment     Doctor  \\\n",
      "0      P011  Kevin   46      M  Arthritis  Physiotherapy  Dr. White   \n",
      "1      P011  Kevin   46      M  Arthritis  Physiotherapy  Dr. White   \n",
      "\n",
      "   Unnamed: 7  Cost Insurance   VisitDate  \n",
      "0         NaN   750       Yes  2023-02-05  \n",
      "1         NaN   750       Yes  2023-02-05  \n"
     ]
    }
   ],
   "source": [
    "import pandas as pd\n",
    "file_path = \"HealthcareData.xlsx\"\n",
    "total_rows = pd.read_excel(file_path, sheet_name=\"Patients\", engine=\"openpyxl\").shape[0]   # Get total number of rows\n",
    "chunk_size = 5  # number of rows per chunk\n",
    "\n",
    "for start_row in range(0, total_rows, chunk_size):  # Read in chunks\n",
    "    chunk = pd.read_excel(  # Read a chunk\n",
    "        file_path,\n",
    "        sheet_name=\"Patients\",\n",
    "        engine=\"openpyxl\",\n",
    "        skiprows=range(1, start_row + 1), \n",
    "        nrows=chunk_size\n",
    "    )\n",
    "    \n",
    "    print(f\"\\nProcessing rows {start_row + 1} to {start_row + len(chunk)}...\")\n",
    "    print(chunk)\n"
   ]
  },
  {
   "cell_type": "markdown",
   "id": "91935c7f-4252-41b1-91c8-9d825c3ca060",
   "metadata": {},
   "source": [
    "# WRITING NUMERIC DATA INTO A NEW EXCEL FILE"
   ]
  },
  {
   "cell_type": "code",
   "execution_count": 83,
   "id": "d25b19c7-7ef8-4e3d-8e0a-501c8d285b0a",
   "metadata": {},
   "outputs": [
    {
     "name": "stdout",
     "output_type": "stream",
     "text": [
      "Numeric healthcare data written successfully to numeric_healthcare_data.xlsx\n"
     ]
    }
   ],
   "source": [
    "import pandas as pd\n",
    "data = {  # Create numeric healthcare data\n",
    "    \"Patient_ID\": [201, 202, 203, 204],\n",
    "    \"Age\": [29, 45, 34, 50],\n",
    "    \"Days_Admitted\": [2, 5, 3, 7],\n",
    "    \"Daily_Cost\": [150, 200, 180, 220],\n",
    "    \"Total_Bill\": [2*150, 5*200, 3*180, 7*220]\n",
    "}\n",
    "df = pd.DataFrame(data)\n",
    "\n",
    "output_file = \"numeric_healthcare_data.xlsx\"  # Write to Excel\n",
    "df.to_excel(output_file, index=False)\n",
    "\n",
    "print(f\"Numeric healthcare data written successfully to {output_file}\")"
   ]
  },
  {
   "cell_type": "code",
   "execution_count": 47,
   "id": "7b8cd54f-681a-4275-88d3-e7be4c413dae",
   "metadata": {},
   "outputs": [
    {
     "name": "stdout",
     "output_type": "stream",
     "text": [
      "   Patient_ID  Age  Days_Admitted  Daily_Cost  Total_Bill\n",
      "0         201   29              2         150         300\n",
      "1         202   45              5         200        1000\n",
      "2         203   34              3         180         540\n",
      "3         204   50              7         220        1540\n"
     ]
    }
   ],
   "source": [
    "data = pd.read_excel(\"numeric_healthcare_data.xlsx\")\n",
    "print(data) # print the numeric data from excel"
   ]
  },
  {
   "cell_type": "markdown",
   "id": "24e731da-7f9b-4346-bab8-abfa3880c728",
   "metadata": {},
   "source": [
    "# WRITING TEXT DATA INTO A NEW EXCEL FILE"
   ]
  },
  {
   "cell_type": "code",
   "execution_count": 86,
   "id": "3956ad8a-9ea7-42a1-81c6-ac8f2b2ca1d7",
   "metadata": {},
   "outputs": [
    {
     "name": "stdout",
     "output_type": "stream",
     "text": [
      "Updated text healthcare data written successfully to text_healthcare_data.xlsx\n"
     ]
    }
   ],
   "source": [
    "import pandas as pd\n",
    "data = {                 # Create text-based healthcare data with new names and cities\n",
    "    \"Patient_Name\": [\"Ethan\", \"Fiona\", \"George\", \"Hannah\"],\n",
    "    \"City\": [\"Miami\", \"Seattle\", \"Boston\", \"San Francisco\"],\n",
    "    \"Doctor\": [\"Dr. Adams\", \"Dr. Johnson\", \"Dr. Clark\", \"Dr. Lewis\"],\n",
    "    \"Diagnosis\": [\"Allergy\", \"Fracture\", \"Heart Disease\", \"Migraine\"]\n",
    "}\n",
    "\n",
    "df = pd.DataFrame(data)\n",
    "output_file = \"text_healthcare_data.xlsx\"   # Write to Excel\n",
    "df.to_excel(output_file, index=False)\n",
    "print(f\"Updated text healthcare data written successfully to {output_file}\")"
   ]
  },
  {
   "cell_type": "code",
   "execution_count": 55,
   "id": "6d081e83-9f1d-480a-a79e-02d49280e3af",
   "metadata": {},
   "outputs": [
    {
     "name": "stdout",
     "output_type": "stream",
     "text": [
      "  Patient_Name           City       Doctor      Diagnosis\n",
      "0        Ethan          Miami    Dr. Adams        Allergy\n",
      "1        Fiona        Seattle  Dr. Johnson       Fracture\n",
      "2       George         Boston    Dr. Clark  Heart Disease\n",
      "3       Hannah  San Francisco    Dr. Lewis       Migraine\n"
     ]
    }
   ],
   "source": [
    "data = pd.read_excel(\"text_healthcare_data.xlsx\")\n",
    "print(data) # print the text data from excel"
   ]
  },
  {
   "cell_type": "markdown",
   "id": "525e1bd0-d4d4-48c7-9a92-1caa72f3f8bc",
   "metadata": {},
   "source": [
    "# HANDLING JSON FILES"
   ]
  },
  {
   "cell_type": "code",
   "execution_count": 59,
   "id": "786f7108-1be8-4fbe-ad6c-4f070795c041",
   "metadata": {},
   "outputs": [],
   "source": [
    "import json"
   ]
  },
  {
   "cell_type": "code",
   "execution_count": 89,
   "id": "8c47d72d-a10d-4b3d-8328-ddadea10e123",
   "metadata": {},
   "outputs": [
    {
     "name": "stdout",
     "output_type": "stream",
     "text": [
      "   PatientID    Name  Age Gender      Diagnosis       Treatment     Doctor  \\\n",
      "1       P002     Bob   45      M       Diabetes         Insulin  Dr. Brown   \n",
      "3       P004   Diana   50      F   Hypertension       Lifestyle  Dr. White   \n",
      "6       P007  George   60      M  Heart Disease  Bypass Surgery   Dr. Gray   \n",
      "8       P009     Ian   55      M       Diabetes         Insulin  Dr. Brown   \n",
      "10      P011   Kevin   46      M      Arthritis   Physiotherapy  Dr. White   \n",
      "11      P011   Kevin   46      M      Arthritis   Physiotherapy  Dr. White   \n",
      "\n",
      "    Unnamed: 7  Cost Insurance   VisitDate  \n",
      "1          NaN   300       Yes         NaN  \n",
      "3          NaN   250       Yes         NaN  \n",
      "6          NaN  2000       Yes         NaN  \n",
      "8          NaN   320       Yes         NaN  \n",
      "10         NaN   750       Yes  2023-02-05  \n",
      "11         NaN   750       Yes  2023-02-05  \n"
     ]
    }
   ],
   "source": [
    "import pandas as pd\n",
    "df = pd.read_excel(\"HealthcareData.xlsx\", sheet_name=\"Patients\")    # Load healthcare dataset\n",
    "high_cost_insured_df = df[(df['Cost'] > 200) & (df['Insurance'] == 'Yes')]   # Extract patients with Cost > 200 and Insurance = \"Yes\"\n",
    "print(high_cost_insured_df)   # Print results"
   ]
  },
  {
   "cell_type": "code",
   "execution_count": 91,
   "id": "8a62ec7f-d185-4eb2-9486-03e62eeb33cd",
   "metadata": {},
   "outputs": [
    {
     "name": "stdout",
     "output_type": "stream",
     "text": [
      "High-cost insured patients have been written to high_cost_insured.json\n"
     ]
    }
   ],
   "source": [
    "import pandas as pd\n",
    "df = pd.read_excel(\"HealthcareData.xlsx\", sheet_name=\"Patients\")   # Load healthcare dataset\n",
    "high_cost_insured_df = df[(df['Cost'] > 200) & (df['Insurance'] == 'Yes')]     # Extract patients with Cost > 200 and Insurance = \"Yes\"\n",
    "high_cost_insured_df.to_json(      # Export the filtered patients to JSON\n",
    "    \"high_cost_insured.json\",\n",
    "    orient=\"records\",\n",
    "    indent=4\n",
    ")\n",
    "\n",
    "print(\"High-cost insured patients have been written to high_cost_insured.json\")"
   ]
  },
  {
   "cell_type": "code",
   "execution_count": 101,
   "id": "1d20bac5-e2f6-4ede-bd11-4df13ba56429",
   "metadata": {},
   "outputs": [
    {
     "name": "stdout",
     "output_type": "stream",
     "text": [
      "Displaying the content of high_cost_insured.json\n",
      "[\n",
      "    {\n",
      "        \"PatientID\": \"P002\",\n",
      "        \"Name\": \"Bob\",\n",
      "        \"Age\": 45,\n",
      "        \"Gender\": \"M\",\n",
      "        \"Diagnosis\": \"Diabetes\",\n",
      "        \"Treatment\": \"Insulin\",\n",
      "        \"Doctor\": \"Dr. Brown\",\n",
      "        \"Unnamed: 7\": null,\n",
      "        \"Cost\": 300,\n",
      "        \"Insurance\": \"Yes\",\n",
      "        \"VisitDate\": null\n",
      "    },\n",
      "    {\n",
      "        \"PatientID\": \"P004\",\n",
      "        \"Name\": \"Diana\",\n",
      "        \"Age\": 50,\n",
      "        \"Gender\": \"F\",\n",
      "        \"Diagnosis\": \"Hypertension\",\n",
      "        \"Treatment\": \"Lifestyle\",\n",
      "        \"Doctor\": \"Dr. White\",\n",
      "        \"Unnamed: 7\": null,\n",
      "        \"Cost\": 250,\n",
      "        \"Insurance\": \"Yes\",\n",
      "        \"VisitDate\": null\n",
      "    },\n",
      "    {\n",
      "        \"PatientID\": \"P007\",\n",
      "        \"Name\": \"George\",\n",
      "        \"Age\": 60,\n",
      "        \"Gender\": \"M\",\n",
      "        \"Diagnosis\": \"Heart Disease\",\n",
      "        \"Treatment\": \"Bypass Surgery\",\n",
      "        \"Doctor\": \"Dr. Gray\",\n",
      "        \"Unnamed: 7\": null,\n",
      "        \"Cost\": 2000,\n",
      "        \"Insurance\": \"Yes\",\n",
      "        \"VisitDate\": null\n",
      "    },\n",
      "    {\n",
      "        \"PatientID\": \"P009\",\n",
      "        \"Name\": \"Ian\",\n",
      "        \"Age\": 55,\n",
      "        \"Gender\": \"M\",\n",
      "        \"Diagnosis\": \"Diabetes\",\n",
      "        \"Treatment\": \"Insulin\",\n",
      "        \"Doctor\": \"Dr. Brown\",\n",
      "        \"Unnamed: 7\": null,\n",
      "        \"Cost\": 320,\n",
      "        \"Insurance\": \"Yes\",\n",
      "        \"VisitDate\": null\n",
      "    },\n",
      "    {\n",
      "        \"PatientID\": \"P011\",\n",
      "        \"Name\": \"Kevin\",\n",
      "        \"Age\": 46,\n",
      "        \"Gender\": \"M\",\n",
      "        \"Diagnosis\": \"Arthritis\",\n",
      "        \"Treatment\": \"Physiotherapy\",\n",
      "        \"Doctor\": \"Dr. White\",\n",
      "        \"Unnamed: 7\": null,\n",
      "        \"Cost\": 750,\n",
      "        \"Insurance\": \"Yes\",\n",
      "        \"VisitDate\": \"2023-02-05\"\n",
      "    },\n",
      "    {\n",
      "        \"PatientID\": \"P011\",\n",
      "        \"Name\": \"Kevin\",\n",
      "        \"Age\": 46,\n",
      "        \"Gender\": \"M\",\n",
      "        \"Diagnosis\": \"Arthritis\",\n",
      "        \"Treatment\": \"Physiotherapy\",\n",
      "        \"Doctor\": \"Dr. White\",\n",
      "        \"Unnamed: 7\": null,\n",
      "        \"Cost\": 750,\n",
      "        \"Insurance\": \"Yes\",\n",
      "        \"VisitDate\": \"2023-02-05\"\n",
      "    }\n",
      "]\n",
      "\n",
      "High-cost insured patients have been written to and displayed from high_cost_insured.json\n"
     ]
    }
   ],
   "source": [
    "import json\n",
    "output_filename = \"high_cost_insured.json\"    # File that contains the filtered healthcare data\n",
    "\n",
    "print(f\"Displaying the content of {output_filename}\")\n",
    "with open(output_filename, \"r\") as json_file:\n",
    "    # Read JSON into a Python object\n",
    "    data = json.load(json_file)\n",
    "    print(json.dumps(data, indent=4))    # Pretty print the JSON content\n",
    "\n",
    "print(f\"\\nHigh-cost insured patients have been written to and displayed from {output_filename}\")"
   ]
  },
  {
   "cell_type": "markdown",
   "id": "6174a1b1-1cd3-4e97-b7c0-e262f85a051d",
   "metadata": {},
   "source": [
    "# PARSING IN A JSON FILE AND THEN SEARCH FOR A FILE"
   ]
  },
  {
   "cell_type": "code",
   "execution_count": 99,
   "id": "3ed9e7b2-3ecd-4d01-bea7-d0e5abb4afab",
   "metadata": {},
   "outputs": [
    {
     "name": "stdout",
     "output_type": "stream",
     "text": [
      "Found 2 patient(s) diagnosed with Diabetes:\n",
      " - PatientID: P002, Name: Bob, Cost: 300\n",
      " - PatientID: P009, Name: Ian, Cost: 320\n"
     ]
    }
   ],
   "source": [
    "import json\n",
    "\n",
    "filename = \"high_cost_insured.json\"\n",
    "search_value = \"Diabetes\"  # diagnosis we want to search for\n",
    "\n",
    "try:  # Read and parse the JSON file.\n",
    "    with open(filename, \"r\") as file:\n",
    "        data = json.load(file)  # data is a list of dictionaries because of `orient='records'`\n",
    "except FileNotFoundError:\n",
    "    print(f\"Error: The file '{filename}' was not found.\")\n",
    "    data = None\n",
    "except json.JSONDecodeError:\n",
    "    print(f\"Error: The file '{filename}' is not a valid JSON file.\")\n",
    "    data = None\n",
    "\n",
    "if data and isinstance(data, list):  # Proceed only if the file was loaded successfully.\n",
    "    found_patients = []\n",
    "    for patient in data:\n",
    "        if str(patient.get(\"Diagnosis\", \"\")).lower() == search_value.lower():\n",
    "            found_patients.append(patient)\n",
    "\n",
    "    if found_patients:  # Print the results\n",
    "        print(f\"Found {len(found_patients)} patient(s) diagnosed with {search_value}:\")\n",
    "        for patient in found_patients:\n",
    "            print(\n",
    "                f\" - PatientID: {patient.get('PatientID')}, \"\n",
    "                f\"Name: {patient.get('Name')}, \"\n",
    "                f\"Cost: {patient.get('Cost')}\"\n",
    "            )\n",
    "    else:\n",
    "        print(f\"No patients found with diagnosis '{search_value}'.\")\n",
    "else:\n",
    "    print(\"Failed to load or parse JSON file correctly.\")"
   ]
  },
  {
   "cell_type": "code",
   "execution_count": null,
   "id": "82d18316-606e-43c7-b0ba-997e7da69f42",
   "metadata": {},
   "outputs": [],
   "source": []
  }
 ],
 "metadata": {
  "kernelspec": {
   "display_name": "Python [conda env:base] *",
   "language": "python",
   "name": "conda-base-py"
  },
  "language_info": {
   "codemirror_mode": {
    "name": "ipython",
    "version": 3
   },
   "file_extension": ".py",
   "mimetype": "text/x-python",
   "name": "python",
   "nbconvert_exporter": "python",
   "pygments_lexer": "ipython3",
   "version": "3.12.7"
  }
 },
 "nbformat": 4,
 "nbformat_minor": 5
}
