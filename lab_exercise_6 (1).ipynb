{
 "cells": [
  {
   "cell_type": "markdown",
   "id": "fc58ca43-9539-4e3d-abb2-47b7428446ab",
   "metadata": {},
   "source": [
    "# SEQUENCE UNPACKING\n"
   ]
  },
  {
   "cell_type": "code",
   "execution_count": 2,
   "id": "568b14f4-62a1-4da6-9461-296b966f2968",
   "metadata": {},
   "outputs": [
    {
     "name": "stdout",
     "output_type": "stream",
     "text": [
      "1\n",
      "3\n",
      "5\n",
      "7\n"
     ]
    }
   ],
   "source": [
    "odds=[1,3,5,7]    \n",
    "a,b,c,d=odds         # unpackaing the sequence in the provided variables\n",
    "print(a)\n",
    "print(b)\n",
    "print(c)\n",
    "print(d)"
   ]
  },
  {
   "cell_type": "code",
   "execution_count": 4,
   "id": "2dc62b7a-e0b1-482d-b892-f1d1920819ab",
   "metadata": {},
   "outputs": [
    {
     "name": "stdout",
     "output_type": "stream",
     "text": [
      "1\n",
      "3\n",
      "[5, 7]\n"
     ]
    }
   ],
   "source": [
    "a,b,*c=odds\n",
    "print(a)\n",
    "print(b)\n",
    "print(c)            # this will print all remaining elements after the second element"
   ]
  },
  {
   "cell_type": "code",
   "execution_count": 6,
   "id": "fef1cb59-37fb-4891-af71-4c4f3887bd89",
   "metadata": {},
   "outputs": [
    {
     "name": "stdout",
     "output_type": "stream",
     "text": [
      "3\n",
      "[5, 7]\n",
      "9\n"
     ]
    }
   ],
   "source": [
    "a,*b,c=[3,5,7,9]\n",
    "print(a)\n",
    "print(b)            # this will 2 elements into its list\n",
    "print(c)"
   ]
  },
  {
   "cell_type": "code",
   "execution_count": 8,
   "id": "d0b3142c-8eba-4938-9c52-5a1967b58e30",
   "metadata": {},
   "outputs": [
    {
     "name": "stdout",
     "output_type": "stream",
     "text": [
      "16\n"
     ]
    }
   ],
   "source": [
    "def a(x,y,z,a):\n",
    "    return(x+y+z+a)\n",
    "print(a(*odds))                    # sequence unpacking and then performing addition operation"
   ]
  },
  {
   "cell_type": "code",
   "execution_count": 10,
   "id": "63a856b2-1389-4273-9234-fd329d8124ba",
   "metadata": {},
   "outputs": [
    {
     "name": "stdout",
     "output_type": "stream",
     "text": [
      "hello,ram\n",
      "hello,sam\n",
      "hello,cam\n",
      "hello,tam\n"
     ]
    }
   ],
   "source": [
    "def say_hi(*names):                # print a greeting for each name\n",
    "    for n in names:\n",
    "        print(f\"hello,{n}\")  \n",
    "\n",
    "say_hi(\"ram\",\"sam\",\"cam\",\"tam\")    #calling the function and passing the required arguements"
   ]
  },
  {
   "cell_type": "code",
   "execution_count": 20,
   "id": "8d8256c7-c774-4766-8e1d-4b67cbaa18e2",
   "metadata": {},
   "outputs": [
    {
     "name": "stdout",
     "output_type": "stream",
     "text": [
      "code : csi3002\n",
      "name : python\n",
      "venue : sjt317\n"
     ]
    }
   ],
   "source": [
    "def show_info(**info):           # ** represents it will accept any number of key value pairs\n",
    "    for k,v in info.items():     # iterate through the key value pairs\n",
    "        print(f\"{k} : {v}\")\n",
    "\n",
    "new={ 'code' : 'csi3002',        # dict with 3 key value pairs\n",
    "           'name' : 'python',\n",
    "           'venue' : 'sjt317'}\n",
    "show_info(**new)                 #calling the function"
   ]
  },
  {
   "cell_type": "code",
   "execution_count": null,
   "id": "0826d14b-fb34-4a65-8b58-40bf634ee137",
   "metadata": {},
   "outputs": [],
   "source": []
  }
 ],
 "metadata": {
  "kernelspec": {
   "display_name": "Python [conda env:base] *",
   "language": "python",
   "name": "conda-base-py"
  },
  "language_info": {
   "codemirror_mode": {
    "name": "ipython",
    "version": 3
   },
   "file_extension": ".py",
   "mimetype": "text/x-python",
   "name": "python",
   "nbconvert_exporter": "python",
   "pygments_lexer": "ipython3",
   "version": "3.12.7"
  }
 },
 "nbformat": 4,
 "nbformat_minor": 5
}
