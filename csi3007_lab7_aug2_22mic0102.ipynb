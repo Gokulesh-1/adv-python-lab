{
 "cells": [
  {
   "cell_type": "markdown",
   "id": "29dc6f88-1b47-47bd-86f7-db20d05741a8",
   "metadata": {},
   "source": [
    "#                                          UNDERSTANDING FUNCTIONS "
   ]
  },
  {
   "cell_type": "markdown",
   "id": "c9d760e6-dc13-4f2a-9857-0ce93cd6acdf",
   "metadata": {},
   "source": [
    "# 1. PASSING ARGUEMENTS -- POSITIONAL ARGUEMENTS"
   ]
  },
  {
   "cell_type": "code",
   "execution_count": 81,
   "id": "bc95a37e-861a-4c73-8a25-7bc1cdf7fbca",
   "metadata": {},
   "outputs": [
    {
     "name": "stdout",
     "output_type": "stream",
     "text": [
      "\n",
      "I have a pet Hamster.\n",
      "My Hamster's name is Harry.\n"
     ]
    }
   ],
   "source": [
    "def describe_pet(animal_type, pet_name):                    #passing positional arguements\n",
    "    print(f\"\\nI have a pet {animal_type}.\")\n",
    "    print(f\"My {animal_type}'s name is {pet_name.title()}.\")\n",
    "    \n",
    "describe_pet(\"Hamster\",\"Harry\")                             # function call"
   ]
  },
  {
   "cell_type": "markdown",
   "id": "84cb483c-0818-4c91-b159-12d1cafd6bff",
   "metadata": {},
   "source": [
    "# 2. MULTIPLE FUNCTION CALL"
   ]
  },
  {
   "cell_type": "code",
   "execution_count": 83,
   "id": "44cb3a96-f336-49a0-87ca-0bf827adde01",
   "metadata": {},
   "outputs": [
    {
     "name": "stdout",
     "output_type": "stream",
     "text": [
      "\n",
      "I have a pet Hamster.\n",
      "My Hamster's name is Harry.\n",
      "\n",
      "I have a pet Dog.\n",
      "My Dog's name is Bruno.\n"
     ]
    }
   ],
   "source": [
    "def describe_pet(animal_type, pet_name):       #passing positional arguements\n",
    "    print(f\"\\nI have a pet {animal_type}.\")\n",
    "    print(f\"My {animal_type}'s name is {pet_name.title()}.\")\n",
    "\n",
    "describe_pet(\"Hamster\",\"Harry\")         # function call\n",
    "describe_pet(\"Dog\",\"Bruno\")             # function call"
   ]
  },
  {
   "cell_type": "markdown",
   "id": "b7300062-6d83-405d-ba1c-f72ee093ee0b",
   "metadata": {},
   "source": [
    "# 3. ORDER MATTERS IN POSITIONAL ARGUEMENTS\n"
   ]
  },
  {
   "cell_type": "code",
   "execution_count": 85,
   "id": "386354d3-363f-45da-acb6-d5752b87c0cd",
   "metadata": {},
   "outputs": [
    {
     "name": "stdout",
     "output_type": "stream",
     "text": [
      "\n",
      "I have a pet Harry.\n",
      "My Harry's name is Hamster.\n"
     ]
    }
   ],
   "source": [
    "def describe_pet(animal_type, pet_name):          #passing positional arguements\n",
    "    print(f\"\\nI have a pet {animal_type}.\")\n",
    "    print(f\"My {animal_type}'s name is {pet_name.title()}.\")\n",
    "\n",
    "describe_pet(\"Harry\",\"Hamster\")          # function call"
   ]
  },
  {
   "cell_type": "markdown",
   "id": "13d51e09-072c-42d3-8f58-c1e19b54b836",
   "metadata": {},
   "source": [
    "# 4. KEYWORD ARGUEMENTS"
   ]
  },
  {
   "cell_type": "code",
   "execution_count": 87,
   "id": "1a44dcfc-2b19-4ed0-9486-2f3e42cf2f2f",
   "metadata": {},
   "outputs": [
    {
     "name": "stdout",
     "output_type": "stream",
     "text": [
      "\n",
      "I have a pet Hamster.\n",
      "My Hamster's name is Harry.\n"
     ]
    }
   ],
   "source": [
    "def describe_pet(animal_type, pet_name):                        #passing keyword arguements\n",
    "    print(f\"\\nI have a pet {animal_type}.\")\n",
    "    print(f\"My {animal_type}'s name is {pet_name.title()}.\")\n",
    "\n",
    "describe_pet(animal_type = \"Hamster\",pet_name = \"Harry\")        # function call"
   ]
  },
  {
   "cell_type": "markdown",
   "id": "024d14b0-0e88-4215-82fc-3a2441923761",
   "metadata": {},
   "source": [
    "# 5. DEFAULT VALUES"
   ]
  },
  {
   "cell_type": "code",
   "execution_count": 89,
   "id": "1281b488-a969-463c-8e5f-6f7ea114400c",
   "metadata": {},
   "outputs": [
    {
     "name": "stdout",
     "output_type": "stream",
     "text": [
      "\n",
      "I have a pet dog.\n",
      "My dog's name is Bruno.\n"
     ]
    }
   ],
   "source": [
    "def describe_pet(pet_name, animal_type = \"dog\"):   # providing default values so that it can handle exceptions\n",
    "    print(f\"\\nI have a pet {animal_type}.\")\n",
    "    print(f\"My {animal_type}'s name is {pet_name.title()}.\")\n",
    "\n",
    "describe_pet(pet_name = \"Bruno\")                  # function call"
   ]
  },
  {
   "cell_type": "markdown",
   "id": "fefc78e1-5a3f-4aec-b96c-92c9188c62dd",
   "metadata": {},
   "source": [
    "# 6. MANY WAYS TO CALL A FUNCTION "
   ]
  },
  {
   "cell_type": "code",
   "execution_count": 109,
   "id": "630292a3-dc16-473a-9ccd-328b4c67a760",
   "metadata": {},
   "outputs": [
    {
     "name": "stdout",
     "output_type": "stream",
     "text": [
      "\n",
      "I have a pet dog.\n",
      "My dog's name is Bruno.\n",
      "\n",
      "I have a pet dog.\n",
      "My dog's name is Bruno.\n",
      "\n",
      "I have a pet Hamster.\n",
      "My Hamster's name is Harry.\n",
      "\n",
      "I have a pet Hamster.\n",
      "My Hamster's name is Harry.\n",
      "\n",
      "I have a pet Harry.\n",
      "My Harry's name is Hamster.\n",
      "\n",
      "I have a pet Hamster.\n",
      "My Hamster's name is Harry.\n"
     ]
    }
   ],
   "source": [
    "describe_pet(\"Bruno\")                                    # Positional argument and default values\n",
    "describe_pet(pet_name = \"Bruno\")                         # Keyword argument and default values\n",
    "describe_pet(animal_type = \"Hamster\",pet_name = \"Harry\") # Keyword argument (doesn't matter on order)\n",
    "describe_pet(\"Harry\",\"Hamster\")                          # Positional Argument\n",
    "describe_pet(\"Hamster\",animal_type=\"Harry\")              # Positional argument and Keyword argument\n",
    "describe_pet(pet_name = \"Harry\",animal_type = \"Hamster\") # Keyword argument"
   ]
  },
  {
   "cell_type": "markdown",
   "id": "9193d5d7-eda5-43f1-b793-edbbc8804a8f",
   "metadata": {},
   "source": [
    "# 7. RETURNING A SIMPLE VALUE"
   ]
  },
  {
   "cell_type": "code",
   "execution_count": 91,
   "id": "97a0b00a-5197-43da-abc8-f6e7d0bccf36",
   "metadata": {},
   "outputs": [
    {
     "name": "stdout",
     "output_type": "stream",
     "text": [
      "Ram Nath\n"
     ]
    }
   ],
   "source": [
    "def get_formatted_name(first_name, last_name):     #passing positional arguements\n",
    "    full_name = f\"{first_name} {last_name}\"\n",
    "    return full_name.title()\n",
    "\n",
    "musician = get_formatted_name('ram','nath')        # function call\n",
    "print(musician)              "
   ]
  },
  {
   "cell_type": "markdown",
   "id": "46045a45-bfd4-471e-a2c2-6f18326f6718",
   "metadata": {},
   "source": [
    "# 8. MAKING AN ARGUEMENT OPTIONAL"
   ]
  },
  {
   "cell_type": "code",
   "execution_count": 93,
   "id": "93a579ea-1056-44ac-bd6a-c22c498a4d74",
   "metadata": {},
   "outputs": [
    {
     "name": "stdout",
     "output_type": "stream",
     "text": [
      "Ram Govind\n",
      "Ram Nath Govind\n"
     ]
    }
   ],
   "source": [
    "def get_formatted_name(first_name, last_name, middle_name=''):  # return a full name, middle name is optional\n",
    "    if middle_name:\n",
    "        full_name = f\"{first_name} {middle_name} {last_name}\"\n",
    "    else:\n",
    "        full_name = f\"{first_name} {last_name}\"\n",
    "    \n",
    "    return full_name.title()  \n",
    "\n",
    "musician = get_formatted_name('ram', 'govind')              # function call without middle name\n",
    "print(musician)  \n",
    "\n",
    "musician = get_formatted_name('ram', 'govind', 'nath')      # function call with middle name\n",
    "print(musician)  "
   ]
  },
  {
   "cell_type": "markdown",
   "id": "9122dfaa-5e50-4339-840c-4917f7c9c2ad",
   "metadata": {},
   "source": [
    "# 9. RETURNING A DICT"
   ]
  },
  {
   "cell_type": "code",
   "execution_count": 95,
   "id": "7a19a9ff-9b3f-4e8e-b596-73f4720098da",
   "metadata": {},
   "outputs": [
    {
     "name": "stdout",
     "output_type": "stream",
     "text": [
      "{'first_name': 'Ram', 'last_name': 'Nath'}\n"
     ]
    }
   ],
   "source": [
    "def get_formatted_name(first_name, last_name):    #passing positional arguements\n",
    "    return {\n",
    "        'first_name': first_name.title(),\n",
    "        'last_name': last_name.title()\n",
    "    }\n",
    "\n",
    "musician = get_formatted_name('ram','nath')       # function call\n",
    "print(musician)"
   ]
  },
  {
   "cell_type": "markdown",
   "id": "9b392f32-c86d-4d19-8a90-b97e7bb9e29a",
   "metadata": {},
   "source": [
    "# 10. PASSING A LIST"
   ]
  },
  {
   "cell_type": "code",
   "execution_count": 97,
   "id": "b52eab6c-810c-4cd0-a389-feeee228f0d9",
   "metadata": {},
   "outputs": [
    {
     "name": "stdout",
     "output_type": "stream",
     "text": [
      "Hello, ram\n",
      "Hello, sam\n",
      "Hello, cam\n",
      "Hello, tam\n"
     ]
    }
   ],
   "source": [
    "def greet_user(names):             # function to greet with their names provided\n",
    "    for name in names:\n",
    "        msg = f\"Hello, {name}\"\n",
    "        print(msg)\n",
    "\n",
    "names = ['ram','sam','cam','tam']\n",
    "greet_user(names)                  # function call"
   ]
  },
  {
   "cell_type": "markdown",
   "id": "8c9881d8-b8d2-44b5-9d9a-9fc65ea70d72",
   "metadata": {},
   "source": [
    "# 11. MODIFYING A LIST INSIDE THE FUNCTION"
   ]
  },
  {
   "cell_type": "code",
   "execution_count": 99,
   "id": "1de8ffff-f120-42a1-bed0-8c3be3470988",
   "metadata": {},
   "outputs": [
    {
     "name": "stdout",
     "output_type": "stream",
     "text": [
      "Hello, ram\n",
      "Hello, sam\n",
      "Hello, cam\n",
      "Hello, tam\n",
      "\n",
      "Greeted users:\n",
      "['ram', 'sam', 'cam', 'tam']\n"
     ]
    }
   ],
   "source": [
    "def greet_and_store(names, greeted_names):     # function to greet with their names provided\n",
    "    while names:\n",
    "        name = names.pop(0)                    # Remove from original list\n",
    "        print(f\"Hello, {name}\")\n",
    "        greeted_names.append(name)             # Addition to greeted list\n",
    "\n",
    "names = ['ram', 'sam', 'cam', 'tam']           # Original list\n",
    "greeted_names = []\n",
    "greet_and_store(names, greeted_names)          # function call\n",
    "print(\"\\nGreeted users:\")\n",
    "print(greeted_names)"
   ]
  },
  {
   "cell_type": "markdown",
   "id": "a6cdc3b8-56bd-42ca-8d66-dce685b3fe84",
   "metadata": {},
   "source": [
    "# 12. PROTECTING A LIST FROM UPDATES"
   ]
  },
  {
   "cell_type": "code",
   "execution_count": 101,
   "id": "fd142b68-8d0a-4879-be7f-7d7af773c8f7",
   "metadata": {},
   "outputs": [
    {
     "name": "stdout",
     "output_type": "stream",
     "text": [
      "Hello, ram\n",
      "Hello, sam\n",
      "Hello, cam\n",
      "Hello, tam\n",
      "\n",
      "Original list:\n",
      "['ram', 'sam', 'cam', 'tam']\n",
      "\n",
      "Greeted users:\n",
      "['ram', 'sam', 'cam', 'tam']\n"
     ]
    }
   ],
   "source": [
    "def greet_and_store(names, greeted_names):   #passing positional arguements\n",
    "    while names:\n",
    "        name = names.pop(0)  \n",
    "        print(f\"Hello, {name}\")\n",
    "        greeted_names.append(name)\n",
    "\n",
    "names = ['ram', 'sam', 'cam', 'tam'] \n",
    "greeted_names = []\n",
    "greet_and_store(names[:], greeted_names)     # Pass a copy of the list        # function call\n",
    "print(\"\\nOriginal list:\")\n",
    "print(names)\n",
    "print(\"\\nGreeted users:\")\n",
    "print(greeted_names)  "
   ]
  },
  {
   "cell_type": "markdown",
   "id": "76941e8e-91b4-4c47-b602-3f50364dc1aa",
   "metadata": {},
   "source": [
    "# 13. PASSING AN ARBITRARY NUMBER OF ARGUEMENTS"
   ]
  },
  {
   "cell_type": "code",
   "execution_count": 103,
   "id": "d885e59b-b2b7-496c-b070-4043ec41f312",
   "metadata": {},
   "outputs": [
    {
     "name": "stdout",
     "output_type": "stream",
     "text": [
      "('pepperoni',)\n",
      "('pepperoni', 'mushrooms', 'green pepper', 'extra cheese')\n"
     ]
    }
   ],
   "source": [
    "def make_pizza(*toppings):        # passing any number of arguements\n",
    "    print(toppings)\n",
    "    \n",
    "make_pizza(\"pepperoni\")           # function call\n",
    "make_pizza(\"pepperoni\",\"mushrooms\", \"green pepper\",\"extra cheese\") # function call"
   ]
  },
  {
   "cell_type": "markdown",
   "id": "ef92207c-0622-4b3d-9fac-3bf2f586d40e",
   "metadata": {},
   "source": [
    "# 14. MIXING POSITIONAL AND ARBITRARY ARGUEMENTS"
   ]
  },
  {
   "cell_type": "code",
   "execution_count": 105,
   "id": "a17f9cb8-a34f-4cad-8963-180fd5c7e275",
   "metadata": {},
   "outputs": [
    {
     "name": "stdout",
     "output_type": "stream",
     "text": [
      "\n",
      " Making a 16-inch pizza with the following toppings\n",
      "('pepperoni',)\n",
      "\n",
      " Making a 22-inch pizza with the following toppings\n",
      "('pepperoni', 'mushrooms', 'green pepper', 'extra cheese')\n",
      "('pepperoni', 'mushrooms', 'green pepper', 'extra cheese')\n",
      "('pepperoni', 'mushrooms', 'green pepper', 'extra cheese')\n",
      "('pepperoni', 'mushrooms', 'green pepper', 'extra cheese')\n"
     ]
    }
   ],
   "source": [
    "def make_pizza(size, *toppings):               # passing both positional and arbitrary arguements\n",
    "    print(f\"\\n Making a {size}-inch pizza with the following toppings\")\n",
    "    for topping in toppings:\n",
    "        print(toppings)\n",
    "    \n",
    "make_pizza(16,\"pepperoni\")                    # function call\n",
    "make_pizza(22,\"pepperoni\",\"mushrooms\", \"green pepper\",\"extra cheese\")          # function call"
   ]
  },
  {
   "cell_type": "markdown",
   "id": "fc8402d0-e0ad-4052-a579-727e12dc258d",
   "metadata": {},
   "source": [
    "# 15. USING ARBITRARY KEYWORD ARGUEMENTS"
   ]
  },
  {
   "cell_type": "code",
   "execution_count": 107,
   "id": "7af12729-830a-4341-8167-52da0a8ace31",
   "metadata": {},
   "outputs": [
    {
     "name": "stdout",
     "output_type": "stream",
     "text": [
      "{'location': 'usa', 'field': 'politics', 'first_name': 'donald', 'last_name': 'trumph'}\n"
     ]
    }
   ],
   "source": [
    "def build_profile(first, last, **user_info):   # sequence unpacking in dict\n",
    "    user_info['first_name'] = first\n",
    "    user_info['last_name'] = last\n",
    "    return user_info\n",
    "\n",
    "user_profile = build_profile('donald','trumph',location='usa',field='politics')  # function call\n",
    "print(user_profile)"
   ]
  },
  {
   "cell_type": "markdown",
   "id": "2a4edccd-3a0a-4743-b6c8-1587b41e75a5",
   "metadata": {},
   "source": [
    "# 16. STORING YOUR FUNCTION IN MODULES"
   ]
  },
  {
   "cell_type": "code",
   "execution_count": 21,
   "id": "504a5f81-6078-4eb7-a94e-cb0b8bb87ac2",
   "metadata": {},
   "outputs": [
    {
     "name": "stdout",
     "output_type": "stream",
     "text": [
      "Collecting nbimporter\n",
      "  Downloading nbimporter-0.3.4-py3-none-any.whl.metadata (252 bytes)\n",
      "Downloading nbimporter-0.3.4-py3-none-any.whl (4.9 kB)\n",
      "Installing collected packages: nbimporter\n",
      "Successfully installed nbimporter-0.3.4\n"
     ]
    }
   ],
   "source": [
    "!pip install nbimporter"
   ]
  },
  {
   "cell_type": "code",
   "execution_count": 23,
   "id": "7559dca4-bba6-4371-bed3-004e4355a56e",
   "metadata": {},
   "outputs": [
    {
     "name": "stdout",
     "output_type": "stream",
     "text": [
      "Collecting ipynb\n",
      "  Downloading ipynb-0.5.1-py3-none-any.whl.metadata (303 bytes)\n",
      "Downloading ipynb-0.5.1-py3-none-any.whl (6.9 kB)\n",
      "Installing collected packages: ipynb\n",
      "Successfully installed ipynb-0.5.1\n"
     ]
    }
   ],
   "source": [
    "!pip install ipynb"
   ]
  },
  {
   "cell_type": "code",
   "execution_count": 33,
   "id": "1cfb5f59-5c40-4ba9-85f2-001c32bc657e",
   "metadata": {},
   "outputs": [
    {
     "name": "stdout",
     "output_type": "stream",
     "text": [
      "\n",
      " Making a 16-inch pizza with the following toppings\n",
      "-('pepperoni',)\n"
     ]
    }
   ],
   "source": [
    "from ipynb.fs.full.pizza import make_pizza   #import a method from pizza file\n",
    "make_pizza(16,\"pepperoni\")          # function call"
   ]
  },
  {
   "cell_type": "markdown",
   "id": "a6c7edfb-0046-4c6a-9503-402e887b3f77",
   "metadata": {},
   "source": [
    "# 17. IMPORTING SPECIFIC FUNCTION"
   ]
  },
  {
   "cell_type": "code",
   "execution_count": 37,
   "id": "697a57f0-eb72-473d-b8d9-ee898d152925",
   "metadata": {},
   "outputs": [
    {
     "name": "stdout",
     "output_type": "stream",
     "text": [
      "\n",
      " Making a 16-inch pizza with the following toppings\n",
      "-('pepperoni',)\n",
      "\n",
      " Making a 22-inch pizza with the following toppings\n",
      "-('pepperoni', 'mushrooms', 'green pepper', 'extra cheese')\n",
      "-('pepperoni', 'mushrooms', 'green pepper', 'extra cheese')\n",
      "-('pepperoni', 'mushrooms', 'green pepper', 'extra cheese')\n",
      "-('pepperoni', 'mushrooms', 'green pepper', 'extra cheese')\n"
     ]
    }
   ],
   "source": [
    "\n",
    "from ipynb.fs.full.pizza import make_pizza   # import make_pizza function from pizza module\n",
    "\n",
    "make_pizza(16, \"pepperoni\")                  # function call\n",
    "make_pizza(22, \"pepperoni\", \"mushrooms\", \"green pepper\", \"extra cheese\")    # function call"
   ]
  },
  {
   "cell_type": "markdown",
   "id": "02a76b58-5681-4ce6-84b3-96515d7311e7",
   "metadata": {},
   "source": [
    "# 18. GIVING A FUNCTION AN ALIAS USING \"AS\""
   ]
  },
  {
   "cell_type": "code",
   "execution_count": 41,
   "id": "7abfee7c-844d-4ea2-a890-60e5204fc6f7",
   "metadata": {},
   "outputs": [
    {
     "name": "stdout",
     "output_type": "stream",
     "text": [
      "\n",
      " Making a 12-inch pizza with the following toppings\n",
      "-('onions', 'capsicum')\n",
      "-('onions', 'capsicum')\n",
      "\n",
      " Making a 18-inch pizza with the following toppings\n",
      "-('mushrooms', 'paneer', 'black olives')\n",
      "-('mushrooms', 'paneer', 'black olives')\n",
      "-('mushrooms', 'paneer', 'black olives')\n"
     ]
    }
   ],
   "source": [
    "from ipynb.fs.full.pizza import make_pizza as mp       # giving alias name as mp to the function/method\n",
    "\n",
    "mp(12, \"onions\", \"capsicum\")                           # function call\n",
    "mp(18, \"mushrooms\", \"paneer\", \"black olives\")          # function call"
   ]
  },
  {
   "cell_type": "markdown",
   "id": "c4fb173f-297a-41ff-a331-9002279d7c64",
   "metadata": {},
   "source": [
    "# 19. GIVING A MODULE AN ALIAS USING \"AS\""
   ]
  },
  {
   "cell_type": "code",
   "execution_count": 43,
   "id": "28ca9685-8c2f-4f47-853e-2c3b5ba308af",
   "metadata": {},
   "outputs": [
    {
     "name": "stdout",
     "output_type": "stream",
     "text": [
      "\n",
      " Making a 14-inch pizza with the following toppings\n",
      "-('cheese',)\n",
      "\n",
      " Making a 18-inch pizza with the following toppings\n",
      "-('pepperoni', 'mushrooms', 'capsicum')\n",
      "-('pepperoni', 'mushrooms', 'capsicum')\n",
      "-('pepperoni', 'mushrooms', 'capsicum')\n"
     ]
    }
   ],
   "source": [
    "import ipynb.fs.full.pizza as p                                  # giving alias name as p to the module\n",
    "\n",
    "p.make_pizza(14, \"cheese\")                                       # function call\n",
    "p.make_pizza(18, \"pepperoni\", \"mushrooms\", \"capsicum\")           # function call"
   ]
  },
  {
   "cell_type": "markdown",
   "id": "ba0458a3-1576-4881-ad0e-f1cecd233908",
   "metadata": {},
   "source": [
    "# 20. IMPORTING ALL FUNCTION IN A MODULE"
   ]
  },
  {
   "cell_type": "code",
   "execution_count": 45,
   "id": "38e3f276-4f74-4ad3-9910-a348bdade8b9",
   "metadata": {},
   "outputs": [
    {
     "name": "stdout",
     "output_type": "stream",
     "text": [
      "\n",
      " Making a 12-inch pizza with the following toppings\n",
      "-('sweet corn',)\n",
      "\n",
      " Making a 16-inch pizza with the following toppings\n",
      "-('pepperoni', 'olives', 'cheese')\n",
      "-('pepperoni', 'olives', 'cheese')\n",
      "-('pepperoni', 'olives', 'cheese')\n"
     ]
    }
   ],
   "source": [
    "from ipynb.fs.full.pizza import *                    # import all the functions of the pizza module\n",
    "\n",
    "make_pizza(12, \"sweet corn\")                         # function call\n",
    "make_pizza(16, \"pepperoni\", \"olives\", \"cheese\")      # function call"
   ]
  },
  {
   "cell_type": "code",
   "execution_count": null,
   "id": "586a0f65-388c-4d2c-833a-55b7c913e3dc",
   "metadata": {},
   "outputs": [],
   "source": []
  }
 ],
 "metadata": {
  "kernelspec": {
   "display_name": "Python [conda env:base] *",
   "language": "python",
   "name": "conda-base-py"
  },
  "language_info": {
   "codemirror_mode": {
    "name": "ipython",
    "version": 3
   },
   "file_extension": ".py",
   "mimetype": "text/x-python",
   "name": "python",
   "nbconvert_exporter": "python",
   "pygments_lexer": "ipython3",
   "version": "3.12.7"
  }
 },
 "nbformat": 4,
 "nbformat_minor": 5
}
