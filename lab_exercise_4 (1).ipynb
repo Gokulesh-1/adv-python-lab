{
 "cells": [
  {
   "cell_type": "markdown",
   "id": "4dd03407-671a-42cb-b9dc-6d19bb420169",
   "metadata": {},
   "source": [
    "# 100 factorial\n"
   ]
  },
  {
   "cell_type": "code",
   "execution_count": 4,
   "id": "899470c0-a3a8-42eb-abfd-d111c2e0ab5e",
   "metadata": {},
   "outputs": [
    {
     "name": "stdout",
     "output_type": "stream",
     "text": [
      "933262154439441526816992388562667004907159682643816214685929638952175999932299156089414639761565182862536979208272237582511852109168640000000000000000000000\n"
     ]
    }
   ],
   "source": [
    "a=100;\n",
    "ans=1;\n",
    "for i in range( 1,100):\n",
    "    ans *=i;\n",
    "print(ans)"
   ]
  },
  {
   "cell_type": "markdown",
   "id": "ad1a612b-151e-4b73-860e-93eb9e7ee576",
   "metadata": {},
   "source": [
    "# strings are immutable"
   ]
  },
  {
   "cell_type": "code",
   "execution_count": 7,
   "id": "07fe855d-cc56-42eb-bf4f-3ad08989bbda",
   "metadata": {},
   "outputs": [
    {
     "name": "stdout",
     "output_type": "stream",
     "text": [
      "140709475068312\n",
      "140709475068344\n",
      "140709475068376\n",
      "140709475068408\n",
      "140709475068440\n",
      "140709475068472\n",
      "140709475068504\n",
      "140709475068536\n",
      "140709475068568\n",
      "140709475068600\n",
      "9\n"
     ]
    }
   ],
   "source": [
    "s=\" \";\n",
    "for i in range(10):\n",
    "    s =i;\n",
    "    print(id(s))\n",
    "print(s)"
   ]
  },
  {
   "cell_type": "markdown",
   "id": "9f6c341c-4ce8-41c4-b22d-ec246b2378b0",
   "metadata": {},
   "source": [
    "# display of characters not in keyboard"
   ]
  },
  {
   "cell_type": "code",
   "execution_count": 10,
   "id": "b7bc27fe-236c-4d66-ad37-8303d237dee4",
   "metadata": {},
   "outputs": [
    {
     "name": "stdout",
     "output_type": "stream",
     "text": [
      "Ω\n"
     ]
    }
   ],
   "source": [
    "print('\\u03A9')"
   ]
  },
  {
   "cell_type": "code",
   "execution_count": 12,
   "id": "deec39b3-2aac-4ee2-beeb-63ed2dca737d",
   "metadata": {},
   "outputs": [
    {
     "name": "stdout",
     "output_type": "stream",
     "text": [
      "Ӓ\n"
     ]
    }
   ],
   "source": [
    "print(chr(1234))"
   ]
  },
  {
   "cell_type": "code",
   "execution_count": 14,
   "id": "9d9bba39-1aeb-4d9e-b478-49bbb1643b3a",
   "metadata": {},
   "outputs": [
    {
     "name": "stdout",
     "output_type": "stream",
     "text": [
      "😀 Ω\n"
     ]
    }
   ],
   "source": [
    "import unicodedata\n",
    "o= unicodedata.lookup('GREEK CAPITAL LETTER OMEGA')\n",
    "S=unicodedata.lookup('GRINNING FACE')\n",
    "print(S,o)"
   ]
  },
  {
   "cell_type": "code",
   "execution_count": 16,
   "id": "2b61bcab-7354-4159-bb3d-f36c9430321f",
   "metadata": {},
   "outputs": [
    {
     "name": "stdout",
     "output_type": "stream",
     "text": [
      "a\n"
     ]
    }
   ],
   "source": [
    "print(chr(97))"
   ]
  },
  {
   "cell_type": "code",
   "execution_count": 18,
   "id": "34f4e3d3-2cca-4427-87a4-46d23c8ffaf8",
   "metadata": {},
   "outputs": [
    {
     "name": "stdout",
     "output_type": "stream",
     "text": [
      "enter a character: E\n"
     ]
    },
    {
     "name": "stdout",
     "output_type": "stream",
     "text": [
      "69\n"
     ]
    }
   ],
   "source": [
    "a=input('enter a character:')\n",
    "print( ord(a))"
   ]
  },
  {
   "cell_type": "code",
   "execution_count": 20,
   "id": "bd07351f-0d1e-4c04-8483-ea3e1af70b5d",
   "metadata": {},
   "outputs": [
    {
     "name": "stdout",
     "output_type": "stream",
     "text": [
      "Requirement already satisfied: nltk in e:\\anaconda\\lib\\site-packages (3.9.1)\n",
      "Requirement already satisfied: click in e:\\anaconda\\lib\\site-packages (from nltk) (8.1.7)\n",
      "Requirement already satisfied: joblib in e:\\anaconda\\lib\\site-packages (from nltk) (1.4.2)\n",
      "Requirement already satisfied: regex>=2021.8.3 in e:\\anaconda\\lib\\site-packages (from nltk) (2024.9.11)\n",
      "Requirement already satisfied: tqdm in e:\\anaconda\\lib\\site-packages (from nltk) (4.66.5)\n",
      "Requirement already satisfied: colorama in e:\\anaconda\\lib\\site-packages (from click->nltk) (0.4.6)\n",
      "Note: you may need to restart the kernel to use updated packages.\n"
     ]
    }
   ],
   "source": [
    "pip install nltk"
   ]
  },
  {
   "cell_type": "code",
   "execution_count": 22,
   "id": "7b1f763f-f65f-49c4-bd80-a9cdb90d8977",
   "metadata": {},
   "outputs": [],
   "source": [
    "import nltk"
   ]
  },
  {
   "cell_type": "markdown",
   "id": "ac032c46-a7eb-400f-a22e-e97ea3eb5164",
   "metadata": {},
   "source": [
    "# display of keyboard characters"
   ]
  },
  {
   "cell_type": "code",
   "execution_count": 25,
   "id": "c78d50e4-90e9-44ea-8311-398f54aad5aa",
   "metadata": {},
   "outputs": [
    {
     "name": "stdout",
     "output_type": "stream",
     "text": [
      "enter a character: l\n"
     ]
    },
    {
     "name": "stdout",
     "output_type": "stream",
     "text": [
      "The Unicode escape sequence for 'l' is: \\u006c\n"
     ]
    }
   ],
   "source": [
    "def to_unicode_escape_sequence(char):\n",
    "    code_point = ord(char) \n",
    "\n",
    "    if code_point <= 0xFFFF:\n",
    "        return f\"\\\\u{code_point:04x}\" \n",
    "    else:\n",
    "        return f\"\\\\U{code_point:08x}\" \n",
    "\n",
    "char_a = input('enter a character:')\n",
    "escape_a = to_unicode_escape_sequence(char_a)\n",
    "print(f\"The Unicode escape sequence for '{char_a}' is: {escape_a}\")\n"
   ]
  },
  {
   "cell_type": "markdown",
   "id": "d302a298-8f6b-4612-a6e3-3c42e75f514b",
   "metadata": {},
   "source": [
    "# display of chinese character"
   ]
  },
  {
   "cell_type": "code",
   "execution_count": 28,
   "id": "2f8b0e22-eda9-4a9d-bbc6-366b39a10de0",
   "metadata": {},
   "outputs": [
    {
     "name": "stdout",
     "output_type": "stream",
     "text": [
      "The Unicode escape sequence for '你' is: \\u4f60\n"
     ]
    }
   ],
   "source": [
    "def to_unicode_escape_sequence(char): \n",
    "    code_point = ord(char)\n",
    "    if code_point <= 0xFFFF:\n",
    "        return f\"\\\\u{code_point:04x}\"\n",
    "    else:\n",
    "        return f\"\\\\U{code_point:08x}\" \n",
    "    \n",
    "char_a = \"你\" \n",
    "escape_a = to_unicode_escape_sequence(char_a) \n",
    "print(f\"The Unicode escape sequence for '{char_a}' is: {escape_a}\")"
   ]
  },
  {
   "cell_type": "code",
   "execution_count": null,
   "id": "edb4673d-5fb3-413e-8731-fe62d2afb6da",
   "metadata": {},
   "outputs": [],
   "source": [
    "\n"
   ]
  },
  {
   "cell_type": "markdown",
   "id": "729e6e58-9402-461e-ae68-d5f8cc2f9b57",
   "metadata": {},
   "source": [
    "# PART OF SPEECH TAGGING"
   ]
  },
  {
   "cell_type": "code",
   "execution_count": 41,
   "id": "f8778a37-8ff7-46a9-aff9-dadd309327f7",
   "metadata": {},
   "outputs": [
    {
     "name": "stdout",
     "output_type": "stream",
     "text": [
      "[('L', 'NN')]\n",
      "[('o', 'NN')]\n",
      "[('r', 'NN')]\n",
      "[('e', 'NN')]\n",
      "[('m', 'NN')]\n",
      "[('I', 'PRP')]\n",
      "[('p', 'NN')]\n",
      "[('s', 'NN')]\n",
      "[('u', 'NN')]\n",
      "[('m', 'NN')]\n",
      "[('i', 'NN')]\n",
      "[('s', 'NN')]\n",
      "[('s', 'NN')]\n",
      "[('i', 'NN')]\n",
      "[('m', 'NN')]\n",
      "[('p', 'NN')]\n",
      "[('l', 'NN')]\n",
      "[('y', 'NN')]\n",
      "[('d', 'NN')]\n",
      "[('u', 'NN')]\n",
      "[('m', 'NN')]\n",
      "[('m', 'NN')]\n",
      "[('y', 'NN')]\n",
      "[('t', 'NN')]\n",
      "[('e', 'NN')]\n",
      "[('x', 'NN')]\n",
      "[('t', 'NN')]\n",
      "[('o', 'NN')]\n",
      "[('f', 'NN')]\n",
      "[('t', 'NN')]\n",
      "[('h', 'NN')]\n",
      "[('e', 'NN')]\n",
      "[('p', 'NN')]\n",
      "[('r', 'NN')]\n",
      "[('i', 'NN')]\n",
      "[('n', 'NN')]\n",
      "[('t', 'NN')]\n",
      "[('i', 'NN')]\n",
      "[('n', 'NN')]\n",
      "[('g', 'NN')]\n",
      "[('a', 'DT')]\n",
      "[('n', 'NN')]\n",
      "[('d', 'NN')]\n",
      "[('t', 'NN')]\n",
      "[('y', 'NN')]\n",
      "[('p', 'NN')]\n",
      "[('e', 'NN')]\n",
      "[('s', 'NN')]\n",
      "[('e', 'NN')]\n",
      "[('t', 'NN')]\n",
      "[('t', 'NN')]\n",
      "[('i', 'NN')]\n",
      "[('n', 'NN')]\n",
      "[('g', 'NN')]\n",
      "[('i', 'NN')]\n",
      "[('n', 'NN')]\n",
      "[('d', 'NN')]\n",
      "[('u', 'NN')]\n",
      "[('s', 'NN')]\n",
      "[('t', 'NN')]\n",
      "[('r', 'NN')]\n",
      "[('y', 'NN')]\n",
      "[('.', '.')]\n",
      "[('L', 'NN')]\n",
      "[('o', 'NN')]\n",
      "[('r', 'NN')]\n",
      "[('e', 'NN')]\n",
      "[('m', 'NN')]\n",
      "[('I', 'PRP')]\n",
      "[('p', 'NN')]\n",
      "[('s', 'NN')]\n",
      "[('u', 'NN')]\n",
      "[('m', 'NN')]\n",
      "[('h', 'NN')]\n",
      "[('a', 'DT')]\n",
      "[('s', 'NN')]\n",
      "[('b', 'NN')]\n",
      "[('e', 'NN')]\n",
      "[('e', 'NN')]\n",
      "[('n', 'NN')]\n",
      "[('t', 'NN')]\n",
      "[('h', 'NN')]\n",
      "[('e', 'NN')]\n",
      "[('i', 'NN')]\n",
      "[('n', 'NN')]\n",
      "[('d', 'NN')]\n",
      "[('u', 'NN')]\n",
      "[('s', 'NN')]\n",
      "[('t', 'NN')]\n",
      "[('r', 'NN')]\n",
      "[('y', 'NN')]\n",
      "[(\"'\", \"''\")]\n",
      "[('s', 'NN')]\n",
      "[('s', 'NN')]\n",
      "[('t', 'NN')]\n",
      "[('a', 'DT')]\n",
      "[('n', 'NN')]\n",
      "[('d', 'NN')]\n",
      "[('a', 'DT')]\n",
      "[('r', 'NN')]\n",
      "[('d', 'NN')]\n",
      "[('d', 'NN')]\n",
      "[('u', 'NN')]\n",
      "[('m', 'NN')]\n",
      "[('m', 'NN')]\n",
      "[('y', 'NN')]\n",
      "[('t', 'NN')]\n",
      "[('e', 'NN')]\n",
      "[('x', 'NN')]\n",
      "[('t', 'NN')]\n",
      "[('e', 'NN')]\n",
      "[('v', 'NN')]\n",
      "[('e', 'NN')]\n",
      "[('r', 'NN')]\n",
      "[('s', 'NN')]\n",
      "[('i', 'NN')]\n",
      "[('n', 'NN')]\n",
      "[('c', 'NNS')]\n",
      "[('e', 'NN')]\n",
      "[('t', 'NN')]\n",
      "[('h', 'NN')]\n",
      "[('e', 'NN')]\n",
      "[('1', 'CD')]\n",
      "[('5', 'CD')]\n",
      "[('0', 'CD')]\n",
      "[('0', 'CD')]\n",
      "[('s', 'NN')]\n",
      "[(',', ',')]\n",
      "[('w', 'NN')]\n",
      "[('h', 'NN')]\n",
      "[('e', 'NN')]\n",
      "[('n', 'NN')]\n",
      "[('a', 'DT')]\n",
      "[('n', 'NN')]\n",
      "[('u', 'NN')]\n",
      "[('n', 'NN')]\n",
      "[('k', 'NN')]\n",
      "[('n', 'NN')]\n",
      "[('o', 'NN')]\n",
      "[('w', 'NN')]\n",
      "[('n', 'NN')]\n",
      "[('p', 'NN')]\n",
      "[('r', 'NN')]\n",
      "[('i', 'NN')]\n",
      "[('n', 'NN')]\n",
      "[('t', 'NN')]\n",
      "[('e', 'NN')]\n",
      "[('r', 'NN')]\n",
      "[('t', 'NN')]\n",
      "[('o', 'NN')]\n",
      "[('o', 'NN')]\n",
      "[('k', 'NN')]\n",
      "[('a', 'DT')]\n",
      "[('g', 'NN')]\n",
      "[('a', 'DT')]\n",
      "[('l', 'NN')]\n",
      "[('l', 'NN')]\n",
      "[('e', 'NN')]\n",
      "[('y', 'NN')]\n",
      "[('o', 'NN')]\n",
      "[('f', 'NN')]\n",
      "[('t', 'NN')]\n",
      "[('y', 'NN')]\n",
      "[('p', 'NN')]\n",
      "[('e', 'NN')]\n",
      "[('a', 'DT')]\n",
      "[('n', 'NN')]\n",
      "[('d', 'NN')]\n",
      "[('s', 'NN')]\n",
      "[('c', 'NNS')]\n",
      "[('r', 'NN')]\n",
      "[('a', 'DT')]\n",
      "[('m', 'NN')]\n",
      "[('b', 'NN')]\n",
      "[('l', 'NN')]\n",
      "[('e', 'NN')]\n",
      "[('d', 'NN')]\n",
      "[('i', 'NN')]\n",
      "[('t', 'NN')]\n",
      "[('t', 'NN')]\n",
      "[('o', 'NN')]\n",
      "[('m', 'NN')]\n",
      "[('a', 'DT')]\n",
      "[('k', 'NN')]\n",
      "[('e', 'NN')]\n",
      "[('a', 'DT')]\n",
      "[('t', 'NN')]\n",
      "[('y', 'NN')]\n",
      "[('p', 'NN')]\n",
      "[('e', 'NN')]\n",
      "[('s', 'NN')]\n",
      "[('p', 'NN')]\n",
      "[('e', 'NN')]\n",
      "[('c', 'NNS')]\n",
      "[('i', 'NN')]\n",
      "[('m', 'NN')]\n",
      "[('e', 'NN')]\n",
      "[('n', 'NN')]\n",
      "[('b', 'NN')]\n",
      "[('o', 'NN')]\n",
      "[('o', 'NN')]\n",
      "[('k', 'NN')]\n",
      "[('.', '.')]\n",
      "[('I', 'PRP')]\n",
      "[('t', 'NN')]\n",
      "[('h', 'NN')]\n",
      "[('a', 'DT')]\n",
      "[('s', 'NN')]\n",
      "[('s', 'NN')]\n",
      "[('u', 'NN')]\n",
      "[('r', 'NN')]\n",
      "[('v', 'NN')]\n",
      "[('i', 'NN')]\n",
      "[('v', 'NN')]\n",
      "[('e', 'NN')]\n",
      "[('d', 'NN')]\n",
      "[('n', 'NN')]\n",
      "[('o', 'NN')]\n",
      "[('t', 'NN')]\n",
      "[('o', 'NN')]\n",
      "[('n', 'NN')]\n",
      "[('l', 'NN')]\n",
      "[('y', 'NN')]\n",
      "[('f', 'NN')]\n",
      "[('i', 'NN')]\n",
      "[('v', 'NN')]\n",
      "[('e', 'NN')]\n",
      "[('c', 'NNS')]\n",
      "[('e', 'NN')]\n",
      "[('n', 'NN')]\n",
      "[('t', 'NN')]\n",
      "[('u', 'NN')]\n",
      "[('r', 'NN')]\n",
      "[('i', 'NN')]\n",
      "[('e', 'NN')]\n",
      "[('s', 'NN')]\n",
      "[(',', ',')]\n",
      "[('b', 'NN')]\n",
      "[('u', 'NN')]\n",
      "[('t', 'NN')]\n",
      "[('a', 'DT')]\n",
      "[('l', 'NN')]\n",
      "[('s', 'NN')]\n",
      "[('o', 'NN')]\n",
      "[('t', 'NN')]\n",
      "[('h', 'NN')]\n",
      "[('e', 'NN')]\n",
      "[('l', 'NN')]\n",
      "[('e', 'NN')]\n",
      "[('a', 'DT')]\n",
      "[('p', 'NN')]\n",
      "[('i', 'NN')]\n",
      "[('n', 'NN')]\n",
      "[('t', 'NN')]\n",
      "[('o', 'NN')]\n",
      "[('e', 'NN')]\n",
      "[('l', 'NN')]\n",
      "[('e', 'NN')]\n",
      "[('c', 'NNS')]\n",
      "[('t', 'NN')]\n",
      "[('r', 'NN')]\n",
      "[('o', 'NN')]\n",
      "[('n', 'NN')]\n",
      "[('i', 'NN')]\n",
      "[('c', 'NNS')]\n",
      "[('t', 'NN')]\n",
      "[('y', 'NN')]\n",
      "[('p', 'NN')]\n",
      "[('e', 'NN')]\n",
      "[('s', 'NN')]\n",
      "[('e', 'NN')]\n",
      "[('t', 'NN')]\n",
      "[('t', 'NN')]\n",
      "[('i', 'NN')]\n",
      "[('n', 'NN')]\n",
      "[('g', 'NN')]\n",
      "[(',', ',')]\n",
      "[('r', 'NN')]\n",
      "[('e', 'NN')]\n",
      "[('m', 'NN')]\n",
      "[('a', 'DT')]\n",
      "[('i', 'NN')]\n",
      "[('n', 'NN')]\n",
      "[('i', 'NN')]\n",
      "[('n', 'NN')]\n",
      "[('g', 'NN')]\n",
      "[('e', 'NN')]\n",
      "[('s', 'NN')]\n",
      "[('s', 'NN')]\n",
      "[('e', 'NN')]\n",
      "[('n', 'NN')]\n",
      "[('t', 'NN')]\n",
      "[('i', 'NN')]\n",
      "[('a', 'DT')]\n",
      "[('l', 'NN')]\n",
      "[('l', 'NN')]\n",
      "[('y', 'NN')]\n",
      "[('u', 'NN')]\n",
      "[('n', 'NN')]\n",
      "[('c', 'NNS')]\n",
      "[('h', 'NN')]\n",
      "[('a', 'DT')]\n",
      "[('n', 'NN')]\n",
      "[('g', 'NN')]\n",
      "[('e', 'NN')]\n",
      "[('d', 'NN')]\n",
      "[('.', '.')]\n"
     ]
    }
   ],
   "source": [
    "import nltk\n",
    "texts=\"Lorem Ipsum is simply dummy text of the printing and typesetting industry. Lorem Ipsum has been the industry's standard dummy text ever since the 1500s, when an unknown printer took a galley of type and scrambled it to make a type specimen book. It has survived not only five centuries, but also the leap into electronic typesetting, remaining essentially unchanged.\"\n",
    "for text in texts:\n",
    "    sentences =nltk.sent_tokenize(text)\n",
    "    for sentence in sentences:\n",
    "        words =nltk.word_tokenize(sentence)\n",
    "        tagged_words=nltk.pos_tag(words)\n",
    "        print(tagged_words)"
   ]
  },
  {
   "cell_type": "code",
   "execution_count": 39,
   "id": "3c806ede-7688-4592-bb44-68b4cdf1e5c6",
   "metadata": {},
   "outputs": [
    {
     "name": "stderr",
     "output_type": "stream",
     "text": [
      "[nltk_data] Downloading package averaged_perceptron_tagger_eng to\n",
      "[nltk_data]     C:\\Users\\gokul\\AppData\\Roaming\\nltk_data...\n",
      "[nltk_data]   Unzipping taggers\\averaged_perceptron_tagger_eng.zip.\n"
     ]
    },
    {
     "data": {
      "text/plain": [
       "True"
      ]
     },
     "execution_count": 39,
     "metadata": {},
     "output_type": "execute_result"
    }
   ],
   "source": [
    "nltk.download('averaged_perceptron_tagger_eng')"
   ]
  },
  {
   "cell_type": "markdown",
   "id": "1dfe8f93-b4b3-4f73-9030-f0ff626bbc15",
   "metadata": {},
   "source": [
    "# pos tagging for a novel from the source PROJECT GLUTENBERG"
   ]
  },
  {
   "cell_type": "code",
   "execution_count": null,
   "id": "72c0ff02-d157-40a8-860a-c3e9fa2f0f55",
   "metadata": {},
   "outputs": [
    {
     "name": "stdout",
     "output_type": "stream",
     "text": [
      "POS Tags for the first 5 sentences:\n",
      "Sentence 1: [('\\ufeffThe', 'NN'), ('Project', 'NNP'), ('Gutenberg', 'NNP'), ('eBook', 'NN'), ('of', 'IN'), ('The', 'DT'), ('Attic', 'NNP'), ('theatre', 'NN'), ('This', 'DT'), ('ebook', 'NN'), ('is', 'VBZ'), ('for', 'IN'), ('the', 'DT'), ('use', 'NN'), ('of', 'IN'), ('anyone', 'NN'), ('anywhere', 'RB'), ('in', 'IN'), ('the', 'DT'), ('United', 'NNP'), ('States', 'NNPS'), ('and', 'CC'), ('most', 'JJS'), ('other', 'JJ'), ('parts', 'NNS'), ('of', 'IN'), ('the', 'DT'), ('world', 'NN'), ('at', 'IN'), ('no', 'DT'), ('cost', 'NN'), ('and', 'CC'), ('with', 'IN'), ('almost', 'RB'), ('no', 'DT'), ('restrictions', 'NNS'), ('whatsoever', 'RB'), ('.', '.')]\n",
      "Sentence 2: [('You', 'PRP'), ('may', 'MD'), ('copy', 'VB'), ('it', 'PRP'), (',', ','), ('give', 'VB'), ('it', 'PRP'), ('away', 'RB'), ('or', 'CC'), ('re-use', 'VB'), ('it', 'PRP'), ('under', 'IN'), ('the', 'DT'), ('terms', 'NNS'), ('of', 'IN'), ('the', 'DT'), ('Project', 'NNP'), ('Gutenberg', 'NNP'), ('License', 'NNP'), ('included', 'VBD'), ('with', 'IN'), ('this', 'DT'), ('ebook', 'NN'), ('or', 'CC'), ('online', 'NN'), ('at', 'IN'), ('www.gutenberg.org', 'NN'), ('.', '.')]\n",
      "Sentence 3: [('If', 'IN'), ('you', 'PRP'), ('are', 'VBP'), ('not', 'RB'), ('located', 'VBN'), ('in', 'IN'), ('the', 'DT'), ('United', 'NNP'), ('States', 'NNPS'), (',', ','), ('you', 'PRP'), ('will', 'MD'), ('have', 'VB'), ('to', 'TO'), ('check', 'VB'), ('the', 'DT'), ('laws', 'NNS'), ('of', 'IN'), ('the', 'DT'), ('country', 'NN'), ('where', 'WRB'), ('you', 'PRP'), ('are', 'VBP'), ('located', 'VBN'), ('before', 'IN'), ('using', 'VBG'), ('this', 'DT'), ('eBook', 'NN'), ('.', '.')]\n",
      "Sentence 4: [('Title', 'NN'), (':', ':'), ('The', 'DT'), ('Attic', 'NNP'), ('theatre', 'NN'), ('Author', 'NN'), (':', ':'), ('A.', 'NN'), ('E.', 'NNP'), ('Haigh', 'NNP'), ('Contributor', 'NNP'), (':', ':'), ('Sir', 'NNP'), ('Arthur', 'NNP'), ('Wallace', 'NNP'), ('Pickard-Cambridge', 'NNP'), ('Release', 'NNP'), ('date', 'NN'), (':', ':'), ('July', 'NNP'), ('23', 'CD'), (',', ','), ('2025', 'CD'), ('[', 'NNP'), ('eBook', 'VBD'), ('#', '#'), ('76555', 'CD'), (']', 'JJ'), ('Language', 'NN'), (':', ':'), ('English', 'JJ'), ('Original', 'NNP'), ('publication', 'NN'), (':', ':'), ('Oxford', 'NN'), (':', ':'), ('Henry', 'NNP'), ('Frowde', 'NNP'), (',', ','), ('1907', 'CD'), ('Credits', 'NNS'), (':', ':'), ('deaurider', 'NN'), ('and', 'CC'), ('the', 'DT'), ('Online', 'NNP'), ('Distributed', 'NNP'), ('Proofreading', 'NNP'), ('Team', 'NNP'), ('at', 'IN'), ('https', 'NN'), (':', ':'), ('//www.pgdp.net', 'NN'), ('(', '('), ('This', 'DT'), ('file', 'NN'), ('was', 'VBD'), ('produced', 'VBN'), ('from', 'IN'), ('images', 'NNS'), ('generously', 'RB'), ('made', 'VBD'), ('available', 'JJ'), ('by', 'IN'), ('The', 'DT'), ('Internet', 'NNP'), ('Archive', 'NNP'), (')', ')'), ('*', 'VBP'), ('*', 'JJ'), ('*', 'NNP'), ('START', 'NNP'), ('OF', 'IN'), ('THE', 'NNP'), ('PROJECT', 'NNP'), ('GUTENBERG', 'NNP'), ('EBOOK', 'NNP'), ('THE', 'NNP'), ('ATTIC', 'NNP'), ('THEATRE', 'NNP'), ('*', 'NNP'), ('*', 'NNP'), ('*', 'NNP'), ('[', 'NNP'), ('Illustration', 'NNP'), (':', ':'), ('_Frontispiece._', 'NN'), ('FIG', 'NNP'), ('.', '.')]\n",
      "Sentence 5: [('1', 'CD'), ('.', '.')]\n"
     ]
    }
   ],
   "source": [
    "import nltk\n",
    "from urllib import request\n",
    "\n",
    "try:\n",
    "    nltk.data.find('tokenizers/punkt')\n",
    "except nltk.downloader.DownloadError:\n",
    "    nltk.download('punkt')\n",
    "try:\n",
    "    nltk.data.find('taggers/averaged_perceptron_tagger')\n",
    "except nltk.downloader.DownloadError:\n",
    "    nltk.download('averaged_perceptron_tagger')\n",
    "\n",
    "\n",
    "url = \"https://www.gutenberg.org/cache/epub/76555/pg76555.txt\"\n",
    "response = request.urlopen(url)\n",
    "raw = response.read().decode('utf-8')\n",
    "start_of_book = \"*** START OF THE PROJECT GUTENBERG EBOOK CRIME AND PUNISHMENT ***\"\n",
    "end_of_book = \"*** END OF THE PROJECT GUTENBERG EBOOK CRIME AND PUNISHMENT ***\"\n",
    "\n",
    "start_index = raw.find(start_of_book)\n",
    "end_index = raw.find(end_of_book)\n",
    "\n",
    "if start_index != -1 and end_index != -1:\n",
    "    novel_text = raw[start_index + len(start_of_book):end_index].strip()\n",
    "elif start_index != -1: \n",
    "    novel_text = raw[start_index + len(start_of_book):].strip()\n",
    "else:  \n",
    "    novel_text = raw\n",
    "\n",
    "sentences = nltk.sent_tokenize(novel_text)\n",
    "\n",
    "print(\"POS Tags for the first 5 sentences:\")\n",
    "for i, sentence in enumerate(sentences[:5]):\n",
    "    words = nltk.word_tokenize(sentence)\n",
    "    tagged_words = nltk.pos_tag(words)\n",
    "    print(f\"Sentence {i+1}: {tagged_words}\")"
   ]
  },
  {
   "cell_type": "code",
   "execution_count": 45,
   "id": "b05a8fe0-02b4-4b17-8641-c8c5a6291dc6",
   "metadata": {},
   "outputs": [
    {
     "name": "stderr",
     "output_type": "stream",
     "text": [
      "[nltk_data] Downloading package punkt to\n",
      "[nltk_data]     C:\\Users\\gokul\\AppData\\Roaming\\nltk_data...\n",
      "[nltk_data]   Unzipping tokenizers\\punkt.zip.\n"
     ]
    },
    {
     "data": {
      "text/plain": [
       "True"
      ]
     },
     "execution_count": 45,
     "metadata": {},
     "output_type": "execute_result"
    }
   ],
   "source": [
    " nltk.download('punkt')"
   ]
  },
  {
   "cell_type": "code",
   "execution_count": 49,
   "id": "e2b3c3d7-5c20-4ef4-a79a-90d69d974e79",
   "metadata": {},
   "outputs": [
    {
     "name": "stderr",
     "output_type": "stream",
     "text": [
      "[nltk_data] Downloading package averaged_perceptron_tagger to\n",
      "[nltk_data]     C:\\Users\\gokul\\AppData\\Roaming\\nltk_data...\n",
      "[nltk_data]   Unzipping taggers\\averaged_perceptron_tagger.zip.\n"
     ]
    },
    {
     "data": {
      "text/plain": [
       "True"
      ]
     },
     "execution_count": 49,
     "metadata": {},
     "output_type": "execute_result"
    }
   ],
   "source": [
    "nltk.download('averaged_perceptron_tagger')"
   ]
  },
  {
   "cell_type": "code",
   "execution_count": null,
   "id": "4f7ba64a-5dd9-4c69-8a66-4ef3f7283eef",
   "metadata": {},
   "outputs": [],
   "source": []
  }
 ],
 "metadata": {
  "kernelspec": {
   "display_name": "Python [conda env:base] *",
   "language": "python",
   "name": "conda-base-py"
  },
  "language_info": {
   "codemirror_mode": {
    "name": "ipython",
    "version": 3
   },
   "file_extension": ".py",
   "mimetype": "text/x-python",
   "name": "python",
   "nbconvert_exporter": "python",
   "pygments_lexer": "ipython3",
   "version": "3.12.7"
  }
 },
 "nbformat": 4,
 "nbformat_minor": 5
}
