{
 "cells": [
  {
   "cell_type": "markdown",
   "id": "a99f940b-70b7-4c9d-a045-66f03cf73715",
   "metadata": {},
   "source": [
    "# LAMBDA FUNCTION"
   ]
  },
  {
   "cell_type": "code",
   "execution_count": 3,
   "id": "a42dd736-f2bb-4da9-8cd1-11b838d4eff6",
   "metadata": {},
   "outputs": [
    {
     "data": {
      "text/plain": [
       "100"
      ]
     },
     "execution_count": 3,
     "metadata": {},
     "output_type": "execute_result"
    }
   ],
   "source": [
    "def double(x):   # normal function creation\n",
    "    return x*2\n",
    "    \n",
    "double(50)       # function call"
   ]
  },
  {
   "cell_type": "code",
   "execution_count": 5,
   "id": "caf264a5-66fb-4adb-bf40-5991ad479c6b",
   "metadata": {},
   "outputs": [
    {
     "data": {
      "text/plain": [
       "100"
      ]
     },
     "execution_count": 5,
     "metadata": {},
     "output_type": "execute_result"
    }
   ],
   "source": [
    "x = lambda x:x*2  # lambda function creation\n",
    "x(50)             # function call"
   ]
  },
  {
   "cell_type": "code",
   "execution_count": 11,
   "id": "943c2624-1d39-4de3-9b97-fd7b265bf204",
   "metadata": {},
   "outputs": [
    {
     "data": {
      "text/plain": [
       "100"
      ]
     },
     "execution_count": 11,
     "metadata": {},
     "output_type": "execute_result"
    }
   ],
   "source": [
    "def add(x,y):    # normal addition function\n",
    "    return x+y\n",
    "    \n",
    "add(50, 50)      # function call"
   ]
  },
  {
   "cell_type": "code",
   "execution_count": 13,
   "id": "e11307a1-9be8-4a9c-bc26-e7c892d25fd9",
   "metadata": {},
   "outputs": [
    {
     "data": {
      "text/plain": [
       "50"
      ]
     },
     "execution_count": 13,
     "metadata": {},
     "output_type": "execute_result"
    }
   ],
   "source": [
    "x = lambda x,y:x+y   # lambda addition function\n",
    "x(20,30)             # function call"
   ]
  },
  {
   "cell_type": "code",
   "execution_count": 17,
   "id": "da2889df-bcf6-466c-968a-9d1d0e42cea2",
   "metadata": {},
   "outputs": [
    {
     "data": {
      "text/plain": [
       "45"
      ]
     },
     "execution_count": 17,
     "metadata": {},
     "output_type": "execute_result"
    }
   ],
   "source": [
    "def max(x,y):         # normal max function creation\n",
    "    if x>y:\n",
    "        return x\n",
    "    else:\n",
    "        return y\n",
    "        \n",
    "max(35,45)           # function call"
   ]
  },
  {
   "cell_type": "code",
   "execution_count": 19,
   "id": "88a41c2c-4907-45cc-a24b-7e8bbe544c33",
   "metadata": {},
   "outputs": [
    {
     "data": {
      "text/plain": [
       "49"
      ]
     },
     "execution_count": 19,
     "metadata": {},
     "output_type": "execute_result"
    }
   ],
   "source": [
    "x = lambda x,y:x if x>y else y    # lambda max function creation\n",
    "x(22, 49)                          # function call"
   ]
  },
  {
   "cell_type": "markdown",
   "id": "c33bbeb0-6f62-4af7-92d6-adcf30bbf489",
   "metadata": {},
   "source": [
    "# ITERABLES"
   ]
  },
  {
   "cell_type": "code",
   "execution_count": 23,
   "id": "84d4086b-0216-40c0-a3d7-e885a5992ac2",
   "metadata": {},
   "outputs": [
    {
     "name": "stdout",
     "output_type": "stream",
     "text": [
      "1\n",
      "2\n",
      "3\n",
      "4\n",
      "5\n"
     ]
    }
   ],
   "source": [
    "num = [1,2,3,4,5]        # list is iterable\n",
    "for i in num:\n",
    "    print(i)"
   ]
  },
  {
   "cell_type": "code",
   "execution_count": 25,
   "id": "8dce79e4-4c97-428a-a03a-72ee8e984b73",
   "metadata": {},
   "outputs": [
    {
     "name": "stdout",
     "output_type": "stream",
     "text": [
      "1\n",
      "2\n",
      "3\n",
      "4\n",
      "5\n"
     ]
    }
   ],
   "source": [
    "num1 = (1,2,3,4,5)      # tuple is iterable\n",
    "for i in num1:\n",
    "    print(i)"
   ]
  },
  {
   "cell_type": "code",
   "execution_count": 27,
   "id": "d1274ed9-c143-469b-9a43-76521a6f8e44",
   "metadata": {},
   "outputs": [
    {
     "name": "stdout",
     "output_type": "stream",
     "text": [
      "('name', 'gokulesh')\n",
      "('Reg No', '22mic0102')\n"
     ]
    }
   ],
   "source": [
    "dict1 = {\"name\":\"gokulesh\",\"Reg No\":\"22mic0102\"}        # dicitonary is iterable\n",
    "for i in dict1.items():\n",
    "    print(i)"
   ]
  },
  {
   "cell_type": "code",
   "execution_count": 29,
   "id": "e2160936-f706-4f0c-b41d-5567ea263b9f",
   "metadata": {},
   "outputs": [
    {
     "name": "stdout",
     "output_type": "stream",
     "text": [
      "g\n",
      "o\n",
      "k\n",
      "u\n",
      "l\n"
     ]
    }
   ],
   "source": [
    "name = \"gokul\"        # string is iterable\n",
    "for i in name:\n",
    "    print(i)"
   ]
  },
  {
   "cell_type": "code",
   "execution_count": 31,
   "id": "d53a8b15-bcc7-48b7-bcb1-2be119ff0d7d",
   "metadata": {},
   "outputs": [
    {
     "name": "stdout",
     "output_type": "stream",
     "text": [
      "Iterating over a bytes object:\n",
      "104\n",
      "101\n",
      "108\n",
      "108\n",
      "111\n"
     ]
    }
   ],
   "source": [
    "my_bytes = b\"hello\"           # byte is iterable\n",
    "print(\"Iterating over a bytes object:\")\n",
    "for i in my_bytes:\n",
    "    print(i)"
   ]
  },
  {
   "cell_type": "markdown",
   "id": "535e9607-41c1-4736-96d5-b406be7f6f41",
   "metadata": {},
   "source": [
    "# NON-ITERABLES"
   ]
  },
  {
   "cell_type": "code",
   "execution_count": 39,
   "id": "3df0fe94-180f-4080-a1f1-4730097883b5",
   "metadata": {},
   "outputs": [
    {
     "name": "stdout",
     "output_type": "stream",
     "text": [
      "1\n",
      "2\n",
      "3\n",
      "4\n",
      "5\n",
      "6\n",
      "7\n"
     ]
    }
   ],
   "source": [
    "n = 1234567\n",
    "str1 = str(n)         # Usage of type casting to make it iterables\n",
    "for i in str1:\n",
    "    print(i)"
   ]
  },
  {
   "cell_type": "code",
   "execution_count": 41,
   "id": "9c0e33fa-0dd2-4dd2-93e4-250a0b31d599",
   "metadata": {},
   "outputs": [
    {
     "name": "stdout",
     "output_type": "stream",
     "text": [
      "7\n",
      "6\n",
      "5\n",
      "4\n",
      "3\n",
      "2\n",
      "1\n"
     ]
    }
   ],
   "source": [
    "n = 1234567\n",
    "add = 0\n",
    "while n != 0:\n",
    "    digit = n % 10    # no type casting is done but still iterables\n",
    "    print(digit)\n",
    "    n //= 10"
   ]
  },
  {
   "cell_type": "code",
   "execution_count": 43,
   "id": "104568dc-3706-4106-b2fd-542e581b43b3",
   "metadata": {},
   "outputs": [
    {
     "name": "stdout",
     "output_type": "stream",
     "text": [
      "[4, 5, 6, 7, 8, 9]\n",
      "4\n",
      "5\n",
      "6\n",
      "7\n",
      "8\n",
      "9\n"
     ]
    }
   ],
   "source": [
    "c=456789\n",
    "digits= [int(d) for d in str(c)]\n",
    "print(digits)\n",
    "for digit in digits:\n",
    "    print(digit)"
   ]
  },
  {
   "cell_type": "markdown",
   "id": "e88b3560-65e3-4fbd-9472-c8880babf0fd",
   "metadata": {},
   "source": [
    "# USE OF DIR() FUNCTION"
   ]
  },
  {
   "cell_type": "code",
   "execution_count": 49,
   "id": "c17a701c-0223-42bf-98fd-f34233e0bea2",
   "metadata": {},
   "outputs": [
    {
     "name": "stdout",
     "output_type": "stream",
     "text": [
      "['__add__', '__class__', '__class_getitem__', '__contains__', '__delattr__', '__delitem__', '__dir__', '__doc__', '__eq__', '__format__', '__ge__', '__getattribute__', '__getitem__', '__getstate__', '__gt__', '__hash__', '__iadd__', '__imul__', '__init__', '__init_subclass__', '__iter__', '__le__', '__len__', '__lt__', '__mul__', '__ne__', '__new__', '__reduce__', '__reduce_ex__', '__repr__', '__reversed__', '__rmul__', '__setattr__', '__setitem__', '__sizeof__', '__str__', '__subclasshook__', 'append', 'clear', 'copy', 'count', 'extend', 'index', 'insert', 'pop', 'remove', 'reverse', 'sort']\n"
     ]
    }
   ],
   "source": [
    "new=['sam', 'ram' ,'tam','cam']\n",
    "print(dir(new))          # provides the list of all possible methods"
   ]
  },
  {
   "cell_type": "code",
   "execution_count": 51,
   "id": "1b6d36cc-fcdb-4045-a82e-236b11ab1e27",
   "metadata": {},
   "outputs": [
    {
     "name": "stdout",
     "output_type": "stream",
     "text": [
      "<list_iterator object at 0x000001BF1C342F80>\n",
      "<class 'list'>\n",
      "<class 'list_iterator'>\n",
      "<class 'list_iterator'>\n"
     ]
    }
   ],
   "source": [
    "new=['sam', 'ram' ,'tam','cam']\n",
    "l = new.__iter__()       # one way of creating iterator object\n",
    "l1= iter(new)            # other way of creating iter object\n",
    "print(l)\n",
    "print(type(new))         # print the type and class of created object\n",
    "print(type(l))\n",
    "print(type(l1))"
   ]
  },
  {
   "cell_type": "code",
   "execution_count": 53,
   "id": "e6b9c2fc-7bed-4a57-aaa2-2e3a0e191d16",
   "metadata": {},
   "outputs": [
    {
     "name": "stdout",
     "output_type": "stream",
     "text": [
      "['__add__', '__class__', '__class_getitem__', '__contains__', '__delattr__', '__delitem__', '__dir__', '__doc__', '__eq__', '__format__', '__ge__', '__getattribute__', '__getitem__', '__getstate__', '__gt__', '__hash__', '__iadd__', '__imul__', '__init__', '__init_subclass__', '__iter__', '__le__', '__len__', '__lt__', '__mul__', '__ne__', '__new__', '__reduce__', '__reduce_ex__', '__repr__', '__reversed__', '__rmul__', '__setattr__', '__setitem__', '__sizeof__', '__str__', '__subclasshook__', 'append', 'clear', 'copy', 'count', 'extend', 'index', 'insert', 'pop', 'remove', 'reverse', 'sort']\n"
     ]
    }
   ],
   "source": [
    "now=[2,5,7,8]\n",
    "print(dir(now))"
   ]
  },
  {
   "cell_type": "code",
   "execution_count": 57,
   "id": "aa37ad88-bbf4-4e03-bd13-8132c95861dd",
   "metadata": {},
   "outputs": [
    {
     "ename": "StopIteration",
     "evalue": "",
     "output_type": "error",
     "traceback": [
      "\u001b[1;31m---------------------------------------------------------------------------\u001b[0m",
      "\u001b[1;31mStopIteration\u001b[0m                             Traceback (most recent call last)",
      "Cell \u001b[1;32mIn[57], line 1\u001b[0m\n\u001b[1;32m----> 1\u001b[0m \u001b[38;5;28mprint\u001b[39m(\u001b[38;5;28mnext\u001b[39m(l))\n\u001b[0;32m      2\u001b[0m \u001b[38;5;28mprint\u001b[39m(\u001b[38;5;28mnext\u001b[39m(l))\n\u001b[0;32m      3\u001b[0m \u001b[38;5;28mprint\u001b[39m(\u001b[38;5;28mnext\u001b[39m(l))\n",
      "\u001b[1;31mStopIteration\u001b[0m: "
     ]
    }
   ],
   "source": [
    "print(next(l))\n",
    "print(next(l))\n",
    "print(next(l))\n",
    "print(next(l))\n",
    "print(next(l))    # displays error bcoz it has reached iterating the end of list\n",
    "print(next(l))"
   ]
  },
  {
   "cell_type": "code",
   "execution_count": 59,
   "id": "424405b9-09d4-42cc-aeac-904bda65f35a",
   "metadata": {},
   "outputs": [
    {
     "name": "stdout",
     "output_type": "stream",
     "text": [
      "sam\n",
      "ram\n",
      "tam\n",
      "cam\n"
     ]
    }
   ],
   "source": [
    "new=['sam', 'ram' ,'tam','cam']\n",
    "looper = iter(new)\n",
    "while True:           # exception handling if it reaches the end of list\n",
    "    try:\n",
    "        new1=next(looper)\n",
    "        print(new1)\n",
    "    except StopIteration:\n",
    "        break"
   ]
  },
  {
   "cell_type": "markdown",
   "id": "453739b8-ec68-463c-971d-2fdf7035cf34",
   "metadata": {},
   "source": [
    "# MAP FUNCTION"
   ]
  },
  {
   "cell_type": "code",
   "execution_count": 63,
   "id": "e836970a-90f6-4060-ab4d-4f8d9d7b6b36",
   "metadata": {},
   "outputs": [
    {
     "name": "stdout",
     "output_type": "stream",
     "text": [
      "[1, 4, 9, 16, 25]\n",
      "[1, 4, 9, 16, 25]\n",
      "[4, 5]\n"
     ]
    }
   ],
   "source": [
    "def square (x):\n",
    "        return x*x\n",
    "\n",
    "numbers = [1,2,3,4,5]\n",
    "print(list(map(square,numbers)))\n",
    "print(list(map(lambda x: x*x ,numbers)))\n",
    "print(list(filter(lambda x: x>3,numbers))) # filters the element that satisfies the conditions provided"
   ]
  },
  {
   "cell_type": "code",
   "execution_count": 67,
   "id": "95bfde6d-bcd8-418b-95dd-d0bcd8b021bd",
   "metadata": {},
   "outputs": [
    {
     "name": "stdout",
     "output_type": "stream",
     "text": [
      "['sAm', 'cam', 'taM']\n",
      "['sam', 'cam', 'tam']\n"
     ]
    }
   ],
   "source": [
    "names = [\"sAm\",\"cam\",\"taM\"] # original list\n",
    "for i in names:\n",
    "    i.upper()\n",
    "print(names)\n",
    "print(list(map(lambda x:x.lower(),names))) # convert the list elements into lower case"
   ]
  },
  {
   "cell_type": "markdown",
   "id": "6c6e94a5-97c7-453a-a968-316086414bad",
   "metadata": {},
   "source": [
    "# REDUCE FUNCTION"
   ]
  },
  {
   "cell_type": "code",
   "execution_count": 71,
   "id": "03369cd1-d96b-4a6e-8ed1-150d7c82ba0a",
   "metadata": {},
   "outputs": [
    {
     "name": "stdout",
     "output_type": "stream",
     "text": [
      "15\n"
     ]
    }
   ],
   "source": [
    "from functools import reduce\n",
    "print(reduce(lambda x,y:x+y,numbers))  # applies the given contion and stores the value and iterates and starts performing the condition until it reaches the end"
   ]
  },
  {
   "cell_type": "code",
   "execution_count": 73,
   "id": "451ce5bd-7e58-4f91-bf5e-380bad3fd5b5",
   "metadata": {},
   "outputs": [
    {
     "name": "stdout",
     "output_type": "stream",
     "text": [
      "money cannot buy everything\n"
     ]
    }
   ],
   "source": [
    "new=['money', 'cannot' ,'buy','everything']\n",
    "from functools import reduce\n",
    "print(reduce(lambda x,y:x+\" \"+y,new))  # way of using lambda function to join tokens"
   ]
  },
  {
   "cell_type": "code",
   "execution_count": null,
   "id": "af6da3db-445c-4bba-9271-58155e6dbaf8",
   "metadata": {},
   "outputs": [],
   "source": []
  }
 ],
 "metadata": {
  "kernelspec": {
   "display_name": "Python [conda env:base] *",
   "language": "python",
   "name": "conda-base-py"
  },
  "language_info": {
   "codemirror_mode": {
    "name": "ipython",
    "version": 3
   },
   "file_extension": ".py",
   "mimetype": "text/x-python",
   "name": "python",
   "nbconvert_exporter": "python",
   "pygments_lexer": "ipython3",
   "version": "3.12.7"
  }
 },
 "nbformat": 4,
 "nbformat_minor": 5
}
